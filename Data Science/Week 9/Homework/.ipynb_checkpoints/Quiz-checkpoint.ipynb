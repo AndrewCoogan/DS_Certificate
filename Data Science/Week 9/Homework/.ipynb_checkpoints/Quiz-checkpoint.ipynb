{
 "cells": [
  {
   "cell_type": "code",
   "execution_count": 1,
   "metadata": {},
   "outputs": [],
   "source": [
    "y = [0, 0, 1, 1, 0, 1, 0, 0, 0, 0] # pred\n",
    "Y = [0, 0, 0, 1, 1, 1, 1, 0, 0, 0] # actual\n",
    "# 1 is a positive\n",
    "\n",
    "TP = 2\n",
    "FP = 1\n",
    "TN = 5\n",
    "FN = 2"
   ]
  },
  {
   "cell_type": "code",
   "execution_count": 4,
   "metadata": {},
   "outputs": [
    {
     "data": {
      "text/plain": [
       "0.7"
      ]
     },
     "execution_count": 4,
     "metadata": {},
     "output_type": "execute_result"
    }
   ],
   "source": [
    "acc = (TP + TN) / len(y)\n",
    "acc"
   ]
  },
  {
   "cell_type": "code",
   "execution_count": 5,
   "metadata": {},
   "outputs": [
    {
     "data": {
      "text/plain": [
       "0.3"
      ]
     },
     "execution_count": 5,
     "metadata": {},
     "output_type": "execute_result"
    }
   ],
   "source": [
    "er = (FP + FN) / len(y)\n",
    "er"
   ]
  },
  {
   "cell_type": "code",
   "execution_count": 2,
   "metadata": {},
   "outputs": [
    {
     "data": {
      "text/plain": [
       "0.6666666666666666"
      ]
     },
     "execution_count": 2,
     "metadata": {},
     "output_type": "execute_result"
    }
   ],
   "source": [
    "prec = TP / (TP + FP)\n",
    "prec"
   ]
  },
  {
   "cell_type": "code",
   "execution_count": 3,
   "metadata": {},
   "outputs": [
    {
     "data": {
      "text/plain": [
       "0.5"
      ]
     },
     "execution_count": 3,
     "metadata": {},
     "output_type": "execute_result"
    }
   ],
   "source": [
    "recall = TP / (TP + FN)\n",
    "recall"
   ]
  },
  {
   "cell_type": "code",
   "execution_count": 6,
   "metadata": {},
   "outputs": [
    {
     "data": {
      "text/plain": [
       "0.5714285714285715"
      ]
     },
     "execution_count": 6,
     "metadata": {},
     "output_type": "execute_result"
    }
   ],
   "source": [
    "F1 = 2 * prec * recall / (prec + recall)\n",
    "F1"
   ]
  },
  {
   "cell_type": "code",
   "execution_count": 7,
   "metadata": {},
   "outputs": [
    {
     "data": {
      "text/plain": [
       "0.2"
      ]
     },
     "execution_count": 7,
     "metadata": {},
     "output_type": "execute_result"
    }
   ],
   "source": [
    "TP_rate = TP / len(y)\n",
    "TP_rate"
   ]
  },
  {
   "cell_type": "code",
   "execution_count": 11,
   "metadata": {},
   "outputs": [
    {
     "name": "stdout",
     "output_type": "stream",
     "text": [
      "\n",
      "\n",
      "Confusion matrix:\n",
      " [[5 2]\n",
      " [1 2]]\n",
      "\n",
      "TP, TN, FP, FN: 2 , 5 , 2 , 1\n",
      "\n",
      "Accuracy rate: 0.7\n",
      "\n",
      "Error rate: 0.30000000000000004\n",
      "\n",
      "Precision: 0.5\n",
      "\n",
      "Recall: 0.67\n",
      "\n",
      "F1 score: 0.57\n"
     ]
    }
   ],
   "source": [
    "from sklearn.metrics import *\n",
    "import numpy as np\n",
    "CM = confusion_matrix(y, Y)\n",
    "print (\"\\n\\nConfusion matrix:\\n\", CM)\n",
    "tn, fp, fn, tp = CM.ravel()\n",
    "print (\"\\nTP, TN, FP, FN:\", tp, \",\", tn, \",\", fp, \",\", fn)\n",
    "AR = accuracy_score(y, Y)\n",
    "print (\"\\nAccuracy rate:\", AR)\n",
    "ER = 1.0 - AR\n",
    "print (\"\\nError rate:\", ER)\n",
    "P = precision_score(y, Y)\n",
    "print (\"\\nPrecision:\", np.round(P, 2))\n",
    "R = recall_score(y, Y)\n",
    "print (\"\\nRecall:\", np.round(R, 2))\n",
    "F1 = f1_score(y, Y)\n",
    "print (\"\\nF1 score:\", np.round(F1, 2))"
   ]
  },
  {
   "cell_type": "code",
   "execution_count": null,
   "metadata": {},
   "outputs": [],
   "source": [
    "Actual:\tYes\tNo\tNo\tNo\tNo\tYes\tYes\n",
    "Probability of Yes:\t0.1\t0.2\t0.4\t0.5\t0.7\t0.7\t0.8\n",
    "p = 0.3\n",
    "NO* NO*YES*YES*YES*YES*YES\n",
    "YES*NO*NO* NO* NO* YES*YES <- ACTUAL\n",
    "\n",
    "TP = 2\n",
    "FP = 3\n",
    "TN = 1\n",
    "FN = 1"
   ]
  }
 ],
 "metadata": {
  "kernelspec": {
   "display_name": "Python 3",
   "language": "python",
   "name": "python3"
  },
  "language_info": {
   "codemirror_mode": {
    "name": "ipython",
    "version": 3
   },
   "file_extension": ".py",
   "mimetype": "text/x-python",
   "name": "python",
   "nbconvert_exporter": "python",
   "pygments_lexer": "ipython3",
   "version": "3.6.4"
  }
 },
 "nbformat": 4,
 "nbformat_minor": 2
}
