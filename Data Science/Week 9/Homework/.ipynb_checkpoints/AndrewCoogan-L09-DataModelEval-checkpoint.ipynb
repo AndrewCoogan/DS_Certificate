{
 "cells": [
  {
   "cell_type": "code",
   "execution_count": 1,
   "metadata": {},
   "outputs": [],
   "source": [
    "# Import Statements\n",
    "import numpy as np\n",
    "import pandas as pd\n",
    "from sklearn.metrics import *\n",
    "from sklearn.svm import SVC\n",
    "from sklearn.model_selection import train_test_split\n",
    "import matplotlib.pyplot as plt"
   ]
  },
  {
   "cell_type": "code",
   "execution_count": 2,
   "metadata": {},
   "outputs": [],
   "source": [
    "#  Import data from the UCI database\n",
    "url = 'https://archive.ics.uci.edu/ml/machine-learning-databases/hepatitis/hepatitis.data'\n",
    "data = pd.read_csv(url, header = None)\n",
    "\n",
    "#  These were grabbed from the above website where they define the variables\n",
    "data.columns = ['Class', 'Age', 'Sex', 'Steroid', 'Antiviral', 'Fatigue', 'Malaise', 'Anorexia', 'Liver Big', \n",
    "               'Liver Firm', 'Spleen Palpable', 'Spiders', 'Ascites', 'Varices', 'Bilirubin', 'Alk', 'Sgot',\n",
    "               'Albumin', 'Protime', 'Histology']\n",
    "\n",
    "#  This is just to help me seperate the column names\n",
    "categorical_data = ['Steroid', 'Antiviral', 'Fatigue', 'Malaise', 'Anorexia', 'Liver Big', \n",
    "               'Liver Firm', 'Spleen Palpable', 'Spiders', 'Ascites', 'Varices', 'Histology']\n",
    "\n",
    "non_categorical_data = ['Age', 'Bilirubin', 'Alk', 'Sgot', 'Albumin', 'Protime']"
   ]
  },
  {
   "cell_type": "code",
   "execution_count": 3,
   "metadata": {},
   "outputs": [
    {
     "data": {
      "text/plain": [
       "Class               0\n",
       "Age                 0\n",
       "Sex                 0\n",
       "Steroid             1\n",
       "Antiviral           0\n",
       "Fatigue             1\n",
       "Malaise             1\n",
       "Anorexia            1\n",
       "Liver Big          10\n",
       "Liver Firm         11\n",
       "Spleen Palpable     5\n",
       "Spiders             5\n",
       "Ascites             5\n",
       "Varices             5\n",
       "Bilirubin           6\n",
       "Alk                29\n",
       "Sgot                4\n",
       "Albumin            16\n",
       "Protime            67\n",
       "Histology           0\n",
       "dtype: int64"
      ]
     },
     "execution_count": 3,
     "metadata": {},
     "output_type": "execute_result"
    }
   ],
   "source": [
    "#  We need to clean the data and see what we need to fix\n",
    "data = data.replace(to_replace=\"?\", value=np.nan).apply(pd.to_numeric, errors = \"coerse\")\n",
    "data.apply(lambda l: np.isnan(l).sum())"
   ]
  },
  {
   "cell_type": "code",
   "execution_count": 4,
   "metadata": {},
   "outputs": [],
   "source": [
    "#  I am going to remove the rows where there are not a log of missing variables.\n",
    "data = data.loc[~np.isnan(data.Steroid),:]\n",
    "data = data.loc[~np.isnan(data.Fatigue),:]\n",
    "data = data.loc[~np.isnan(data.Spiders),:]\n",
    "data = data.loc[~np.isnan(data[\"Liver Big\"]),:]\n",
    "data = data.loc[~np.isnan(data[\"Liver Firm\"]),:]\n",
    "\n",
    "# This is going to be the replacement of nan's with the median\n",
    "data.Bilirubin.fillna(value = np.nanmedian(data.Bilirubin), inplace=True)\n",
    "data.Alk.fillna(value = np.nanmedian(data.Alk), inplace=True)\n",
    "data.Sgot.fillna(value = np.nanmedian(data.Sgot), inplace=True)\n",
    "data.Albumin.fillna(value = np.nanmedian(data.Albumin), inplace=True)\n",
    "\n",
    "# I need to remove protime as it has almost half missing values\n",
    "data.drop(columns = \"Protime\", inplace = True)\n",
    "\n",
    "#  We need to also remove it from our column list\n",
    "non_categorical_data.remove(\"Protime\")\n",
    "data[non_categorical_data] = data[non_categorical_data].apply(lambda l: (l - np.mean(l)) / np.std(l))"
   ]
  },
  {
   "cell_type": "code",
   "execution_count": 5,
   "metadata": {},
   "outputs": [],
   "source": [
    "target = 'Class'\n",
    "\n",
    "feature_train, feature_test, target_train, target_test = train_test_split(\n",
    "    data[data.columns.difference(list(target))], \n",
    "    data[target], \n",
    "    random_state=0,\n",
    "    test_size = 0.7)  \n",
    "#  train_target_split randomly splits dataframes into four groups"
   ]
  },
  {
   "cell_type": "code",
   "execution_count": 6,
   "metadata": {},
   "outputs": [],
   "source": [
    "#  SVC Model because I think it is very robust, although run time can be pretty long for big sets\n",
    "svc_mod = SVC(probability=True)\n",
    "svc_mod.fit(feature_train, target_train)\n",
    "svc_pred = svc_mod.predict(feature_test)\n",
    "prob = svc_mod.predict_proba(feature_test)\n",
    "prob_pos = prob[:,1]"
   ]
  },
  {
   "cell_type": "code",
   "execution_count": 7,
   "metadata": {},
   "outputs": [
    {
     "name": "stdout",
     "output_type": "stream",
     "text": [
      "\n",
      "\n",
      "Confusion matrix:\n",
      " [[11  4]\n",
      " [ 1 84]]\n",
      "\n",
      "TP, TN, FP, FN: 84 , 11 , 4 , 1\n",
      "\n",
      "Accuracy rate: 0.95\n",
      "\n",
      "Error rate: 0.05\n",
      "\n",
      "Precision: 0.92\n",
      "\n",
      "Recall: 0.73\n",
      "\n",
      "F1 score: 0.81\n"
     ]
    }
   ],
   "source": [
    "#  Code to create the confusion matrix and outputs\n",
    "CM = confusion_matrix(target_test, svc_pred)\n",
    "print (\"\\n\\nConfusion matrix:\\n\", CM)\n",
    "tn, fp, fn, tp = CM.ravel()\n",
    "print (\"\\nTP, TN, FP, FN:\", tp, \",\", tn, \",\", fp, \",\", fn)\n",
    "AR = accuracy_score(target_test, svc_pred)\n",
    "print (\"\\nAccuracy rate:\", AR)\n",
    "ER = 1.0 - AR\n",
    "print (\"\\nError rate:\", np.round(ER,2))\n",
    "P = precision_score(target_test, svc_pred)\n",
    "print (\"\\nPrecision:\", np.round(P, 2))\n",
    "R = recall_score(target_test, svc_pred)\n",
    "print (\"\\nRecall:\", np.round(R, 2))\n",
    "F1 = f1_score(target_test, svc_pred)\n",
    "print (\"\\nF1 score:\", np.round(F1, 2))"
   ]
  },
  {
   "cell_type": "code",
   "execution_count": 8,
   "metadata": {},
   "outputs": [],
   "source": [
    "#  The roc_curve looks for 0's and 1's, not 1's and 2's\n",
    "target_test_binary = target_test.copy()\n",
    "target_test_binary.replace(1, 0, inplace=True)\n",
    "target_test_binary.replace(2, 1, inplace=True)"
   ]
  },
  {
   "cell_type": "code",
   "execution_count": 9,
   "metadata": {},
   "outputs": [
    {
     "name": "stdout",
     "output_type": "stream",
     "text": [
      "\n",
      "TP rates: [0.01 0.78 0.78 0.91 0.91 0.99 0.99 1.   1.  ]\n",
      "\n",
      "FP rates: [0.   0.   0.07 0.07 0.13 0.13 0.27 0.27 1.  ]\n",
      "\n",
      "Probability thresholds: [0.98 0.84 0.83 0.72 0.71 0.52 0.48 0.45 0.03]\n",
      "\n",
      "AUC score (using auc function): 0.98\n",
      "\n",
      "\n"
     ]
    },
    {
     "data": {
      "image/png": "[encoded data removed]",
      "text/plain": [
       "<matplotlib.figure.Figure at 0x10dacf4e0>"
      ]
     },
     "metadata": {},
     "output_type": "display_data"
    }
   ],
   "source": [
    "#  Settings for plot and ROC Curve\n",
    "LW = 1.5\n",
    "LL = \"lower right\"\n",
    "LC = \"darkgreen\"\n",
    "\n",
    "fpr, tpr, th = roc_curve(np.array(target_test_binary), np.array(prob_pos))\n",
    "AUC = auc(fpr, tpr)\n",
    "print (\"\\nTP rates:\", np.round(tpr, 2))\n",
    "print (\"\\nFP rates:\", np.round(fpr, 2))\n",
    "print (\"\\nProbability thresholds:\", np.round(th, 2))\n",
    "print (\"\\nAUC score (using auc function):\", np.round(AUC, 2))\n",
    "print(\"\\n\")\n",
    "plt.figure()\n",
    "plt.title(\"Receiver Operating Characteristic curve example\")\n",
    "plt.xlim([0.0, 1.0])\n",
    "plt.ylim([0.0, 1.05])\n",
    "plt.xlabel(\"FALSE Positive Rate\")\n",
    "plt.ylabel(\"TRUE Positive Rate\")\n",
    "plt.plot(fpr, tpr, color=LC,lw=LW, label=\"ROC curve (area = %0.2f)\" % AUC)\n",
    "plt.plot([0, 1], [0, 1], color=\"navy\", lw=LW, linestyle='--')\n",
    "plt.legend(loc=LL)\n",
    "plt.show()"
   ]
  }
 ],
 "metadata": {
  "kernelspec": {
   "display_name": "Python 3",
   "language": "python",
   "name": "python3"
  },
  "language_info": {
   "codemirror_mode": {
    "name": "ipython",
    "version": 3
   },
   "file_extension": ".py",
   "mimetype": "text/x-python",
   "name": "python",
   "nbconvert_exporter": "python",
   "pygments_lexer": "ipython3",
   "version": "3.6.4"
  }
 },
 "nbformat": 4,
 "nbformat_minor": 2
}
