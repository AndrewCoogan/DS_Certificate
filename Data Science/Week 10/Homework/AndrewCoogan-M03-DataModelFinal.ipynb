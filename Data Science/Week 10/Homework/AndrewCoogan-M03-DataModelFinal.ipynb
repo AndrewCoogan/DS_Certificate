{
 "cells": [
  {
   "cell_type": "code",
   "execution_count": 1,
   "metadata": {},
   "outputs": [],
   "source": [
    "# Import Statements\n",
    "import numpy as np\n",
    "import pandas as pd\n",
    "from sklearn.metrics import *\n",
    "from sklearn.svm import SVC\n",
    "from sklearn.model_selection import train_test_split\n",
    "from sklearn.ensemble import RandomForestClassifier \n",
    "import matplotlib.pyplot as plt"
   ]
  },
  {
   "cell_type": "code",
   "execution_count": 2,
   "metadata": {},
   "outputs": [],
   "source": [
    "#  Import data from the UCI database\n",
    "url = \"https://archive.ics.uci.edu/ml/machine-learning-databases/adult/adult.data\"\n",
    "data = pd.read_csv(url, header=None)\n",
    "#data = pd.read_csv(\"AndrewCoogan-M02-Dataset.csv\")\n",
    "data.columns = [\"Age\", \"Workclass\", \"FinlWeight\", \"Education\", \"EducationNum\", \"MaritalStatus\", \n",
    "                \"Occupation\", \"Relationship\", \"Race\", \"Sex\", \"CapitolGain\", \"CapitolLoss\", \n",
    "                \"HoursPerWeek\", \"NativeCountry\", \"Income\"]"
   ]
  },
  {
   "cell_type": "code",
   "execution_count": 3,
   "metadata": {},
   "outputs": [],
   "source": [
    "#  Finalweight is not a valid factor\n",
    "#  Education and Education Num are too highly correlated\n",
    "data.drop(\"EducationNum\", inplace = True, axis = 1)\n",
    "data.drop(\"FinlWeight\", inplace = True, axis = 1)"
   ]
  },
  {
   "cell_type": "code",
   "execution_count": 4,
   "metadata": {},
   "outputs": [],
   "source": [
    "#  This is just to help me seperate the column names\n",
    "categorical_data = ['Workclass', 'Education', 'MaritalStatus', 'Occupation', 'Relationship', \n",
    "                    'Race', 'Sex', 'NativeCountry']\n",
    "\n",
    "non_categorical_data = ['Age', 'CapitolGain', 'CapitolLoss', 'HoursPerWeek']\n",
    "target = ['Income']"
   ]
  },
  {
   "cell_type": "code",
   "execution_count": 5,
   "metadata": {},
   "outputs": [
    {
     "data": {
      "text/plain": [
       "Age                 0\n",
       "Workclass        1836\n",
       "Education           0\n",
       "MaritalStatus       0\n",
       "Occupation       1843\n",
       "Relationship        0\n",
       "Race                0\n",
       "Sex                 0\n",
       "CapitolGain         0\n",
       "CapitolLoss         0\n",
       "HoursPerWeek        0\n",
       "NativeCountry     583\n",
       "Income              0\n",
       "dtype: int64"
      ]
     },
     "execution_count": 5,
     "metadata": {},
     "output_type": "execute_result"
    }
   ],
   "source": [
    "#  Occupation, Workclass, NativeCountry all contain missing values \n",
    "#  We need to clean the data and see what we need to fix\n",
    "data[categorical_data] = data[categorical_data].apply(lambda x : x.str.strip(), axis = 0)\n",
    "data = data.replace(to_replace=\"?\", value=np.nan)\n",
    "data.apply(lambda x: x.isnull().sum(), axis=0)"
   ]
  },
  {
   "cell_type": "code",
   "execution_count": 6,
   "metadata": {},
   "outputs": [],
   "source": [
    "# Workclass and Occupation share the vast majort the missing values, so I am going to remove those\n",
    "# Those missing values only account for 5% of the data, so that should be fine to trim\n",
    "# I am going to keep the unknown NativeCountry as a dummy variable\n",
    "data = data.loc[~data.Workclass.isnull(),:]\n",
    "data = data.loc[~data.Occupation.isnull(),:]"
   ]
  },
  {
   "cell_type": "code",
   "execution_count": 7,
   "metadata": {},
   "outputs": [],
   "source": [
    "#  I am going to set all of the missing NativeCountry column entries to UnknownNC\n",
    "#  I will allow the svc to detemine if knowing the country of origin is important or not\n",
    "data.NativeCountry.loc[data.NativeCountry.isnull()] = \"UnknownNC\""
   ]
  },
  {
   "cell_type": "code",
   "execution_count": 8,
   "metadata": {},
   "outputs": [],
   "source": [
    "#  This was for testing purposes.\n",
    "#data_orig = data.copy()"
   ]
  },
  {
   "cell_type": "code",
   "execution_count": 9,
   "metadata": {},
   "outputs": [],
   "source": [
    "#  Get dummies breaks down the categeorical columns into binary columns.\n",
    "#  This is going to make the dataframe go from 10 or so columns to well over 100 with\n",
    "#     all the different combination of column elements.\n",
    "data_f = pd.get_dummies(data[categorical_data])"
   ]
  },
  {
   "cell_type": "code",
   "execution_count": 10,
   "metadata": {},
   "outputs": [],
   "source": [
    "#  I am going to normalize all of this using mean variance\n",
    "data_f[non_categorical_data] = data[non_categorical_data].apply(lambda l: (l-np.mean(l)) / np.std(l))"
   ]
  },
  {
   "cell_type": "code",
   "execution_count": 11,
   "metadata": {},
   "outputs": [],
   "source": [
    "#  This will break the pandas datatable into four new datatables:\n",
    "# - Feature training set\n",
    "# - Feature testing set\n",
    "# - Target training set\n",
    "# - Target testing set\n",
    "feature_train, feature_test, target_train, target_test = train_test_split(\n",
    "    data_f[data_f.columns.difference(target)], \n",
    "    data[target], \n",
    "    random_state=0,\n",
    "    test_size = 0.7) "
   ]
  },
  {
   "cell_type": "code",
   "execution_count": 12,
   "metadata": {},
   "outputs": [],
   "source": [
    "#  Replacing the categories with 0 if person makes less than 50k and 1 if a person makes more\n",
    "target_test = target_test.Income.str.strip().replace([\"<=50K\", \">50K\"], [0, 1])\n",
    "target_train = target_train.Income.str.strip().replace([\"<=50K\", \">50K\"], [0, 1])"
   ]
  },
  {
   "cell_type": "code",
   "execution_count": 13,
   "metadata": {},
   "outputs": [],
   "source": [
    "#  Lets start with a SVC Model because I think it is very robust\n",
    "svc_mod = SVC(probability=True)\n",
    "svc_mod.fit(feature_train, target_train)\n",
    "svc_pred = svc_mod.predict(feature_test)\n",
    "svc_prob = svc_mod.predict_proba(feature_test)\n",
    "prob_pos_svc = svc_prob[:,1]"
   ]
  },
  {
   "cell_type": "code",
   "execution_count": 14,
   "metadata": {},
   "outputs": [
    {
     "name": "stdout",
     "output_type": "stream",
     "text": [
      "\n",
      "\n",
      "Confusion matrix:\n",
      " [[15159   941]\n",
      " [ 2400  3003]]\n",
      "\n",
      "TP, TN, FP, FN: 3003 , 15159 , 941 , 2400\n",
      "\n",
      "Accuracy rate: 0.8446\n",
      "\n",
      "Error rate: 0.16\n",
      "\n",
      "Precision: 0.76\n",
      "\n",
      "Recall: 0.56\n",
      "\n",
      "F1 score: 0.64\n"
     ]
    }
   ],
   "source": [
    "#  Code to create the confusion matrix and outputs\n",
    "CM_svc = confusion_matrix(target_test, svc_pred)\n",
    "print (\"\\n\\nConfusion matrix:\\n\", CM_svc)\n",
    "tn_svc, fp_svc, fn_svc, tp_svc = CM_svc.ravel()\n",
    "print (\"\\nTP, TN, FP, FN:\", tp_svc, \",\", tn_svc, \",\", fp_svc, \",\", fn_svc)\n",
    "AR_svc = accuracy_score(target_test, svc_pred)\n",
    "print (\"\\nAccuracy rate:\", np.round(AR_svc,4))\n",
    "ER_svc = 1.0 - AR_svc\n",
    "print (\"\\nError rate:\", np.round(ER_svc,2))\n",
    "P_svc = precision_score(target_test, svc_pred)\n",
    "print (\"\\nPrecision:\", np.round(P_svc, 2))\n",
    "R_svc = recall_score(target_test, svc_pred)\n",
    "print (\"\\nRecall:\", np.round(R_svc, 2))\n",
    "F1_svc = f1_score(target_test, svc_pred)\n",
    "print (\"\\nF1 score:\", np.round(F1_svc, 2))"
   ]
  },
  {
   "cell_type": "code",
   "execution_count": 15,
   "metadata": {},
   "outputs": [
    {
     "name": "stdout",
     "output_type": "stream",
     "text": [
      "\n",
      "TP rates: [0.   0.   0.01 ... 1.   1.   1.  ]\n",
      "\n",
      "FP rates: [0. 0. 0. ... 1. 1. 1.]\n",
      "\n",
      "Probability thresholds: [2. 1. 1. ... 0. 0. 0.]\n",
      "\n",
      "AUC score (using auc function): 0.9\n",
      "\n",
      "\n"
     ]
    },
    {
     "data": {
      "image/png": "[encoded data removed]",
      "text/plain": [
       "<matplotlib.figure.Figure at 0x10ec7e9b0>"
      ]
     },
     "metadata": {},
     "output_type": "display_data"
    }
   ],
   "source": [
    "#  Settings for plot and ROC Curve for the SVC model\n",
    "LW = 1.5\n",
    "LL = \"lower right\"\n",
    "LC = \"darkgreen\"\n",
    "\n",
    "fpr_svc, tpr_svc, th_svc = roc_curve(np.array(target_test), np.array(prob_pos_svc))\n",
    "AUC_svc = auc(fpr_svc, tpr_svc)\n",
    "print (\"\\nTP rates:\", np.round(tpr_svc, 2))\n",
    "print (\"\\nFP rates:\", np.round(fpr_svc, 2))\n",
    "print (\"\\nProbability thresholds:\", np.round(th_svc, 2))\n",
    "print (\"\\nAUC score (using auc function):\", np.round(AUC_svc, 2))\n",
    "print(\"\\n\")\n",
    "plt.figure()\n",
    "plt.title(\"Receiver Operating Characteristic (ROC) Curve - SVC\")\n",
    "plt.xlim([0.0, 1.0])\n",
    "plt.ylim([0.0, 1.05])\n",
    "plt.xlabel(\"FALSE Positive Rate\")\n",
    "plt.ylabel(\"TRUE Positive Rate\")\n",
    "plt.plot(fpr_svc, tpr_svc, color=LC,lw=LW, label=\"ROC curve (area = %0.2f)\" % AUC_svc)\n",
    "plt.plot([0, 1], [0, 1], color=\"navy\", lw=LW, linestyle='--')\n",
    "plt.legend(loc=LL)\n",
    "plt.show()"
   ]
  },
  {
   "cell_type": "code",
   "execution_count": 16,
   "metadata": {},
   "outputs": [],
   "source": [
    "#  For my second classifier I am going to use random forest classification\n",
    "rf = RandomForestClassifier()\n",
    "rf.fit(feature_train, target_train)\n",
    "rf_prob = rf.predict_proba(feature_test)\n",
    "rf_pred = rf.predict(feature_test)\n",
    "prob_pos_rf = rf_prob[:,1]"
   ]
  },
  {
   "cell_type": "code",
   "execution_count": 19,
   "metadata": {},
   "outputs": [
    {
     "name": "stdout",
     "output_type": "stream",
     "text": [
      "\n",
      "\n",
      "Confusion matrix:\n",
      " [[14821  1279]\n",
      " [ 2269  3134]]\n",
      "\n",
      "TP, TN, FP, FN: 3134 , 14821 , 1279 , 2269\n",
      "\n",
      "Accuracy rate: 0.835\n",
      "\n",
      "Error rate: 0.17\n",
      "\n",
      "Precision: 0.71\n",
      "\n",
      "Recall: 0.58\n",
      "\n",
      "F1 score: 0.64\n"
     ]
    }
   ],
   "source": [
    "#  Code to create the confusion matrix and outputs\n",
    "CM_rf = confusion_matrix(target_test, rf_pred)\n",
    "print (\"\\n\\nConfusion matrix:\\n\", CM_rf)\n",
    "tn_rf, fp_rf, fn_rf, tp_rf = CM_rf.ravel()\n",
    "print (\"\\nTP, TN, FP, FN:\", tp_rf, \",\", tn_rf, \",\", fp_rf, \",\", fn_rf)\n",
    "AR_rf = accuracy_score(target_test, rf_pred)\n",
    "print (\"\\nAccuracy rate:\", np.round(AR_rf,4))\n",
    "ER_rf = 1.0 - AR_rf\n",
    "print (\"\\nError rate:\", np.round(ER_rf,2))\n",
    "P_rf = precision_score(target_test, rf_pred)\n",
    "print (\"\\nPrecision:\", np.round(P_rf, 2))\n",
    "R_rf = recall_score(target_test, rf_pred)\n",
    "print (\"\\nRecall:\", np.round(R_rf, 2))\n",
    "F1_rf = f1_score(target_test, rf_pred)\n",
    "print (\"\\nF1 score:\", np.round(F1_rf, 2))"
   ]
  },
  {
   "cell_type": "code",
   "execution_count": 21,
   "metadata": {},
   "outputs": [
    {
     "name": "stdout",
     "output_type": "stream",
     "text": [
      "\n",
      "TP rates: [0.   0.18 0.18 0.18 0.18 0.18 0.18 0.18 0.18 0.18 0.18 0.3  0.3  0.3\n",
      " 0.3  0.3  0.31 0.31 0.31 0.31 0.31 0.31 0.31 0.31 0.31 0.31 0.31 0.31\n",
      " 0.31 0.4  0.4  0.4  0.4  0.4  0.4  0.4  0.4  0.41 0.41 0.41 0.41 0.41\n",
      " 0.41 0.41 0.41 0.41 0.49 0.49 0.49 0.49 0.49 0.49 0.49 0.49 0.49 0.49\n",
      " 0.49 0.49 0.49 0.49 0.49 0.49 0.49 0.49 0.49 0.49 0.5  0.5  0.5  0.5\n",
      " 0.5  0.5  0.5  0.5  0.5  0.5  0.57 0.57 0.57 0.57 0.57 0.57 0.57 0.57\n",
      " 0.57 0.58 0.58 0.58 0.58 0.58 0.58 0.58 0.58 0.58 0.58 0.58 0.58 0.58\n",
      " 0.58 0.58 0.58 0.58 0.58 0.58 0.64 0.65 0.65 0.65 0.65 0.65 0.65 0.65\n",
      " 0.65 0.65 0.65 0.65 0.65 0.65 0.65 0.65 0.65 0.65 0.65 0.65 0.65 0.65\n",
      " 0.65 0.65 0.65 0.65 0.65 0.65 0.65 0.65 0.65 0.65 0.66 0.66 0.66 0.66\n",
      " 0.66 0.72 0.72 0.72 0.72 0.72 0.72 0.72 0.72 0.72 0.72 0.72 0.72 0.72\n",
      " 0.72 0.72 0.72 0.72 0.72 0.72 0.72 0.72 0.72 0.72 0.72 0.73 0.73 0.73\n",
      " 0.73 0.73 0.73 0.73 0.73 0.73 0.78 0.78 0.79 0.79 0.79 0.79 0.79 0.79\n",
      " 0.79 0.79 0.79 0.79 0.79 0.79 0.79 0.79 0.79 0.79 0.79 0.79 0.79 0.79\n",
      " 0.79 0.79 0.79 0.79 0.79 0.8  0.8  0.8  0.8  0.8  0.8  0.8  0.8  0.8\n",
      " 0.8  0.85 0.85 0.85 0.85 0.85 0.86 0.86 0.86 0.86 0.86 0.86 0.86 0.86\n",
      " 0.86 0.86 0.86 0.86 0.86 0.86 0.86 0.86 0.86 0.86 0.86 0.86 0.86 0.92\n",
      " 0.92 0.92 0.92 0.92 0.92 0.93 0.93 0.93 0.93 0.93 0.93 0.93 0.93 0.93\n",
      " 0.93 0.93 0.93 0.93 0.93 0.93 0.93 0.93 0.93 1.  ]\n",
      "\n",
      "FP rates: [0.   0.01 0.01 0.01 0.01 0.01 0.01 0.01 0.01 0.01 0.01 0.02 0.02 0.02\n",
      " 0.02 0.02 0.02 0.02 0.02 0.02 0.02 0.02 0.02 0.02 0.02 0.02 0.02 0.02\n",
      " 0.02 0.03 0.03 0.03 0.03 0.03 0.03 0.03 0.03 0.03 0.03 0.03 0.03 0.03\n",
      " 0.03 0.03 0.03 0.03 0.05 0.05 0.05 0.05 0.05 0.05 0.05 0.05 0.05 0.05\n",
      " 0.05 0.05 0.05 0.05 0.05 0.05 0.05 0.05 0.05 0.05 0.06 0.06 0.06 0.06\n",
      " 0.06 0.06 0.06 0.06 0.06 0.06 0.08 0.08 0.08 0.08 0.08 0.08 0.08 0.08\n",
      " 0.08 0.08 0.08 0.08 0.08 0.08 0.08 0.08 0.08 0.08 0.08 0.08 0.08 0.08\n",
      " 0.08 0.08 0.08 0.08 0.08 0.08 0.11 0.11 0.11 0.11 0.11 0.11 0.11 0.11\n",
      " 0.11 0.11 0.11 0.11 0.11 0.11 0.11 0.11 0.11 0.11 0.11 0.11 0.11 0.11\n",
      " 0.11 0.11 0.11 0.11 0.11 0.11 0.11 0.11 0.11 0.11 0.11 0.11 0.11 0.11\n",
      " 0.11 0.15 0.15 0.15 0.15 0.15 0.15 0.15 0.15 0.15 0.15 0.15 0.15 0.15\n",
      " 0.15 0.15 0.15 0.15 0.15 0.15 0.15 0.15 0.15 0.15 0.15 0.15 0.15 0.15\n",
      " 0.15 0.15 0.15 0.15 0.15 0.15 0.2  0.2  0.2  0.2  0.2  0.2  0.2  0.2\n",
      " 0.2  0.2  0.2  0.2  0.2  0.2  0.2  0.2  0.2  0.2  0.2  0.2  0.2  0.2\n",
      " 0.2  0.2  0.2  0.2  0.2  0.2  0.2  0.2  0.21 0.21 0.21 0.21 0.21 0.21\n",
      " 0.21 0.28 0.28 0.28 0.28 0.28 0.28 0.28 0.28 0.28 0.28 0.28 0.28 0.28\n",
      " 0.28 0.28 0.28 0.28 0.28 0.28 0.28 0.28 0.29 0.29 0.29 0.29 0.29 0.42\n",
      " 0.42 0.42 0.42 0.42 0.42 0.42 0.42 0.42 0.42 0.42 0.43 0.43 0.43 0.43\n",
      " 0.43 0.43 0.43 0.43 0.43 0.43 0.43 0.43 0.43 1.  ]\n",
      "\n",
      "Probability thresholds: [2.   1.   0.99 0.98 0.97 0.97 0.96 0.95 0.94 0.93 0.92 0.9  0.89 0.88\n",
      " 0.88 0.87 0.87 0.86 0.86 0.85 0.85 0.84 0.84 0.84 0.83 0.83 0.82 0.82\n",
      " 0.82 0.8  0.79 0.79 0.78 0.78 0.78 0.77 0.77 0.76 0.75 0.74 0.73 0.73\n",
      " 0.73 0.72 0.72 0.71 0.7  0.69 0.69 0.69 0.68 0.68 0.68 0.68 0.68 0.68\n",
      " 0.67 0.66 0.66 0.65 0.65 0.65 0.64 0.64 0.64 0.63 0.63 0.63 0.63 0.62\n",
      " 0.62 0.62 0.62 0.62 0.61 0.61 0.6  0.6  0.59 0.58 0.58 0.58 0.57 0.57\n",
      " 0.56 0.55 0.55 0.54 0.54 0.54 0.53 0.53 0.53 0.52 0.52 0.52 0.52 0.51\n",
      " 0.51 0.51 0.51 0.51 0.5  0.5  0.5  0.5  0.49 0.49 0.48 0.48 0.48 0.48\n",
      " 0.48 0.47 0.47 0.47 0.47 0.47 0.46 0.45 0.45 0.45 0.44 0.44 0.44 0.44\n",
      " 0.43 0.43 0.43 0.42 0.42 0.42 0.42 0.42 0.42 0.42 0.41 0.41 0.41 0.41\n",
      " 0.41 0.4  0.39 0.39 0.38 0.38 0.38 0.38 0.38 0.38 0.38 0.37 0.37 0.37\n",
      " 0.37 0.36 0.36 0.35 0.35 0.35 0.34 0.34 0.34 0.34 0.33 0.33 0.33 0.33\n",
      " 0.32 0.32 0.32 0.32 0.32 0.3  0.3  0.29 0.28 0.28 0.28 0.28 0.28 0.28\n",
      " 0.27 0.27 0.27 0.27 0.26 0.26 0.26 0.26 0.25 0.25 0.25 0.25 0.24 0.24\n",
      " 0.24 0.23 0.23 0.23 0.23 0.23 0.23 0.22 0.22 0.22 0.21 0.21 0.21 0.21\n",
      " 0.2  0.2  0.2  0.2  0.19 0.18 0.18 0.18 0.18 0.17 0.17 0.16 0.15 0.15\n",
      " 0.15 0.14 0.13 0.13 0.13 0.13 0.12 0.12 0.12 0.11 0.11 0.11 0.1  0.1\n",
      " 0.08 0.08 0.08 0.08 0.07 0.07 0.07 0.06 0.06 0.06 0.05 0.04 0.04 0.04\n",
      " 0.04 0.03 0.03 0.02 0.02 0.02 0.01 0.01 0.01 0.  ]\n",
      "\n",
      "AUC score (using auc function): 0.87\n",
      "\n",
      "\n"
     ]
    },
    {
     "data": {
      "image/png": "[encoded data removed]",
      "text/plain": [
       "<matplotlib.figure.Figure at 0x1a1eef7438>"
      ]
     },
     "metadata": {},
     "output_type": "display_data"
    }
   ],
   "source": [
    "#  We will keep same colour scheme as the SVC model\n",
    "#  This will output the ROC curve for the random forest model\n",
    "\n",
    "fpr_rf, tpr_rf, th_rf = roc_curve(np.array(target_test), np.array(prob_pos_rf))\n",
    "AUC_rf = auc(fpr_rf, tpr_rf)\n",
    "print (\"\\nTP rates:\", np.round(tpr_rf, 2))\n",
    "print (\"\\nFP rates:\", np.round(fpr_rf, 2))\n",
    "print (\"\\nProbability thresholds:\", np.round(th_rf, 2))\n",
    "print (\"\\nAUC score (using auc function):\", np.round(AUC_rf, 2))\n",
    "print(\"\\n\")\n",
    "plt.figure()\n",
    "plt.title(\"Receiver Operating Characteristic (ROC) Curve - Random Forest\")\n",
    "plt.xlim([0.0, 1.0])\n",
    "plt.ylim([0.0, 1.05])\n",
    "plt.xlabel(\"FALSE Positive Rate\")\n",
    "plt.ylabel(\"TRUE Positive Rate\")\n",
    "plt.plot(fpr_rf, tpr_rf, color=LC,lw=LW, label=\"ROC curve (area = %0.2f)\" % AUC_rf)\n",
    "plt.plot([0, 1], [0, 1], color=\"navy\", lw=LW, linestyle='--')\n",
    "plt.legend(loc=LL)\n",
    "plt.show()"
   ]
  },
  {
   "cell_type": "code",
   "execution_count": null,
   "metadata": {},
   "outputs": [],
   "source": []
  }
 ],
 "metadata": {
  "kernelspec": {
   "display_name": "Python 3",
   "language": "python",
   "name": "python3"
  },
  "language_info": {
   "codemirror_mode": {
    "name": "ipython",
    "version": 3
   },
   "file_extension": ".py",
   "mimetype": "text/x-python",
   "name": "python",
   "nbconvert_exporter": "python",
   "pygments_lexer": "ipython3",
   "version": "3.6.4"
  }
 },
 "nbformat": 4,
 "nbformat_minor": 2
}
