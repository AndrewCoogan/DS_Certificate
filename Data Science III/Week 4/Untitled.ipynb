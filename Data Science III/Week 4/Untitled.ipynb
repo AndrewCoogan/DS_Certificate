{
 "cells": [
  {
   "cell_type": "code",
   "execution_count": 1,
   "metadata": {},
   "outputs": [
    {
     "name": "stderr",
     "output_type": "stream",
     "text": [
      "/anaconda3/lib/python3.6/site-packages/sklearn/ensemble/weight_boosting.py:29: DeprecationWarning: numpy.core.umath_tests is an internal NumPy module and should not be imported. It will be removed in a future NumPy release.\n",
      "  from numpy.core.umath_tests import inner1d\n"
     ]
    }
   ],
   "source": [
    "%matplotlib inline\n",
    "import warnings\n",
    "warnings.filterwarnings('ignore')\n",
    "import copy\n",
    "import numpy as np\n",
    "import pandas as pd\n",
    "\n",
    "import matplotlib.pyplot as plt\n",
    "import category_encoders as ce\n",
    "\n",
    "from sklearn import preprocessing\n",
    "from sklearn.preprocessing import StandardScaler\n",
    "# from sklearn.metrics import confusion_matrix\n",
    "from sklearn.model_selection import train_test_split\n",
    "from sklearn.ensemble import RandomForestClassifier\n",
    "from sklearn import metrics\n",
    "from sklearn.metrics import roc_auc_score, roc_curve, auc, classification_report\n",
    "from sklearn.metrics import accuracy_score, precision_score, recall_score, f1_score\n",
    "from sklearn.metrics import precision_recall_fscore_support as score\n",
    "\n",
    "import seaborn as sns\n",
    "le = preprocessing.LabelEncoder()\n",
    "scale = StandardScaler()"
   ]
  },
  {
   "cell_type": "code",
   "execution_count": 2,
   "metadata": {},
   "outputs": [],
   "source": [
    "# Scale allContinuous numeric columns\n",
    "# Use Standard Scaler to scale numerics for the model\n",
    "def scalefeatures(df):\n",
    "    for col in numCols: \n",
    "        colName = col.replace(' ', '') + '_scale' # Remove Spaces in Column names\n",
    "        df[colName] = scale.fit_transform(df[[col]]) # Create new column with standard scaled value\n",
    "        df = df.set_index(colName).reset_index() # Move column to the front of the DF\n",
    "    df = df.set_index('object_id').reset_index()\n",
    "    df = df.drop(numCols, axis=1)\n",
    "    return df\n",
    "\n",
    "# Sets the distmod to 0 and creates a new category for galactic (is milky way)\n",
    "def distmodclean(df):\n",
    "    # No records use 0 for distmod so will make them 0\n",
    "    #find nan values to replace\n",
    "    nanDistMod = np.isnan(df['distmod'])\n",
    "    # print(nanDistMod)\n",
    "    df['galactic'] = np.isnan(df['distmod'])\n",
    "    df.loc[np.isnan(df['distmod']), 'distmod'] = 0\n",
    "\n",
    "    # If Distmod has 0 create Milkyway resident\n",
    "    df['galactic'] = le.fit_transform(df['galactic'])\n",
    "    temp = df['galactic'] \n",
    "    df.drop(labels=['galactic'], axis=1,inplace = True)\n",
    "    df.insert(len(df.columns.tolist())-2, 'galactic', temp)"
   ]
  },
  {
   "cell_type": "code",
   "execution_count": null,
   "metadata": {},
   "outputs": [],
   "source": [
    "DATA_DIR = '../input/'\n",
    "# DATA_DIR = '' # For Azure Notebook\n",
    "\n",
    "trainMdDf = pd.read_csv(DATA_DIR+'training_set_metadata.csv')\n",
    "testdf = pd.read_csv(DATA_DIR+'test_set_metadata.csv')\n",
    "\n",
    "# hostgal_specz is mostly missing form the Test data so just drop\n",
    "trainMdDf = trainMdDf.drop('hostgal_specz', axis=1)\n",
    "testdf = testdf.drop('hostgal_specz', axis=1)"
   ]
  },
  {
   "cell_type": "code",
   "execution_count": null,
   "metadata": {},
   "outputs": [],
   "source": []
  }
 ],
 "metadata": {
  "kernelspec": {
   "display_name": "Python 3",
   "language": "python",
   "name": "python3"
  },
  "language_info": {
   "codemirror_mode": {
    "name": "ipython",
    "version": 3
   },
   "file_extension": ".py",
   "mimetype": "text/x-python",
   "name": "python",
   "nbconvert_exporter": "python",
   "pygments_lexer": "ipython3",
   "version": "3.6.4"
  }
 },
 "nbformat": 4,
 "nbformat_minor": 2
}
