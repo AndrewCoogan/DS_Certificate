{
 "cells": [
  {
   "cell_type": "markdown",
   "metadata": {},
   "source": [
    "### Read Data into Pandas Data Frames"
   ]
  },
  {
   "cell_type": "code",
   "execution_count": 1,
   "metadata": {
    "collapsed": false
   },
   "outputs": [
    {
     "data": {
      "text/html": [
       "<div>\n",
       "<style scoped>\n",
       "    .dataframe tbody tr th:only-of-type {\n",
       "        vertical-align: middle;\n",
       "    }\n",
       "\n",
       "    .dataframe tbody tr th {\n",
       "        vertical-align: top;\n",
       "    }\n",
       "\n",
       "    .dataframe thead th {\n",
       "        text-align: right;\n",
       "    }\n",
       "</style>\n",
       "<table border=\"1\" class=\"dataframe\">\n",
       "  <thead>\n",
       "    <tr style=\"text-align: right;\">\n",
       "      <th></th>\n",
       "      <th>age</th>\n",
       "      <th>workclass</th>\n",
       "      <th>fnlwgt</th>\n",
       "      <th>education</th>\n",
       "      <th>education_num</th>\n",
       "      <th>marital-status</th>\n",
       "      <th>occupation</th>\n",
       "      <th>relationship</th>\n",
       "      <th>race</th>\n",
       "      <th>sex</th>\n",
       "      <th>capital_gain</th>\n",
       "      <th>capital_loss</th>\n",
       "      <th>hours_per_week</th>\n",
       "      <th>native_country</th>\n",
       "      <th>income</th>\n",
       "    </tr>\n",
       "  </thead>\n",
       "  <tbody>\n",
       "    <tr>\n",
       "      <th>0</th>\n",
       "      <td>39</td>\n",
       "      <td>State-gov</td>\n",
       "      <td>77516</td>\n",
       "      <td>Bachelors</td>\n",
       "      <td>13</td>\n",
       "      <td>Never-married</td>\n",
       "      <td>Adm-clerical</td>\n",
       "      <td>Not-in-family</td>\n",
       "      <td>White</td>\n",
       "      <td>Male</td>\n",
       "      <td>2174</td>\n",
       "      <td>0</td>\n",
       "      <td>40</td>\n",
       "      <td>United-States</td>\n",
       "      <td>&lt;=50K</td>\n",
       "    </tr>\n",
       "    <tr>\n",
       "      <th>1</th>\n",
       "      <td>50</td>\n",
       "      <td>Self-emp-not-inc</td>\n",
       "      <td>83311</td>\n",
       "      <td>Bachelors</td>\n",
       "      <td>13</td>\n",
       "      <td>Married-civ-spouse</td>\n",
       "      <td>Exec-managerial</td>\n",
       "      <td>Husband</td>\n",
       "      <td>White</td>\n",
       "      <td>Male</td>\n",
       "      <td>0</td>\n",
       "      <td>0</td>\n",
       "      <td>13</td>\n",
       "      <td>United-States</td>\n",
       "      <td>&lt;=50K</td>\n",
       "    </tr>\n",
       "    <tr>\n",
       "      <th>2</th>\n",
       "      <td>38</td>\n",
       "      <td>Private</td>\n",
       "      <td>215646</td>\n",
       "      <td>HS-grad</td>\n",
       "      <td>9</td>\n",
       "      <td>Divorced</td>\n",
       "      <td>Handlers-cleaners</td>\n",
       "      <td>Not-in-family</td>\n",
       "      <td>White</td>\n",
       "      <td>Male</td>\n",
       "      <td>0</td>\n",
       "      <td>0</td>\n",
       "      <td>40</td>\n",
       "      <td>United-States</td>\n",
       "      <td>&lt;=50K</td>\n",
       "    </tr>\n",
       "    <tr>\n",
       "      <th>3</th>\n",
       "      <td>53</td>\n",
       "      <td>Private</td>\n",
       "      <td>234721</td>\n",
       "      <td>11th</td>\n",
       "      <td>7</td>\n",
       "      <td>Married-civ-spouse</td>\n",
       "      <td>Handlers-cleaners</td>\n",
       "      <td>Husband</td>\n",
       "      <td>Black</td>\n",
       "      <td>Male</td>\n",
       "      <td>0</td>\n",
       "      <td>0</td>\n",
       "      <td>40</td>\n",
       "      <td>United-States</td>\n",
       "      <td>&lt;=50K</td>\n",
       "    </tr>\n",
       "    <tr>\n",
       "      <th>4</th>\n",
       "      <td>28</td>\n",
       "      <td>Private</td>\n",
       "      <td>338409</td>\n",
       "      <td>Bachelors</td>\n",
       "      <td>13</td>\n",
       "      <td>Married-civ-spouse</td>\n",
       "      <td>Prof-specialty</td>\n",
       "      <td>Wife</td>\n",
       "      <td>Black</td>\n",
       "      <td>Female</td>\n",
       "      <td>0</td>\n",
       "      <td>0</td>\n",
       "      <td>40</td>\n",
       "      <td>Cuba</td>\n",
       "      <td>&lt;=50K</td>\n",
       "    </tr>\n",
       "  </tbody>\n",
       "</table>\n",
       "</div>"
      ],
      "text/plain": [
       "   age          workclass  fnlwgt   education  education_num  \\\n",
       "0   39          State-gov   77516   Bachelors             13   \n",
       "1   50   Self-emp-not-inc   83311   Bachelors             13   \n",
       "2   38            Private  215646     HS-grad              9   \n",
       "3   53            Private  234721        11th              7   \n",
       "4   28            Private  338409   Bachelors             13   \n",
       "\n",
       "        marital-status          occupation    relationship    race      sex  \\\n",
       "0        Never-married        Adm-clerical   Not-in-family   White     Male   \n",
       "1   Married-civ-spouse     Exec-managerial         Husband   White     Male   \n",
       "2             Divorced   Handlers-cleaners   Not-in-family   White     Male   \n",
       "3   Married-civ-spouse   Handlers-cleaners         Husband   Black     Male   \n",
       "4   Married-civ-spouse      Prof-specialty            Wife   Black   Female   \n",
       "\n",
       "   capital_gain  capital_loss  hours_per_week  native_country  income  \n",
       "0          2174             0              40   United-States   <=50K  \n",
       "1             0             0              13   United-States   <=50K  \n",
       "2             0             0              40   United-States   <=50K  \n",
       "3             0             0              40   United-States   <=50K  \n",
       "4             0             0              40            Cuba   <=50K  "
      ]
     },
     "execution_count": 1,
     "metadata": {},
     "output_type": "execute_result"
    }
   ],
   "source": [
    "trainFile = \"C:\\\\UW\\\\data\\\\adult_train.csv\" #Change it to your local directory\n",
    "testFile = \"C:\\\\UW\\\\data\\\\adult_test.csv\"\n",
    "\n",
    "import pandas as pd\n",
    "trainData = pd.read_csv(trainFile, sep=\",\", header=0)\n",
    "testData = pd.read_csv(testFile, sep=\",\", header=0)\n",
    "trainData.head()"
   ]
  },
  {
   "cell_type": "markdown",
   "metadata": {},
   "source": [
    "### Get X and Y from Training Data"
   ]
  },
  {
   "cell_type": "code",
   "execution_count": 10,
   "metadata": {
    "collapsed": false
   },
   "outputs": [],
   "source": [
    "X1 = trainData.iloc[:, 0:14]\n",
    "X2 = testData.iloc[:, 0:14]\n",
    "Y1 = trainData.iloc[:, 14]\n",
    "Y2 = testData.iloc[:, 14]\n",
    "frames = [X1, X2]\n",
    "X = pd.concat(frames)\n",
    "\n",
    "import category_encoders as ce\n",
    "le =  ce.OneHotEncoder(return_df=True,impute_missing=False,handle_unknown=\"ignore\")\n",
    "X_encoded = le.fit_transform(X)\n",
    "X_encoded_train = X_encoded.iloc[0:X1.shape[0], :]\n",
    "X_encoded_test = X_encoded.iloc[X1.shape[0]:X_encoded.shape[0], :]"
   ]
  },
  {
   "cell_type": "markdown",
   "metadata": {},
   "source": [
    "### Section 2. Train the Random Forest Model"
   ]
  },
  {
   "cell_type": "code",
   "execution_count": 12,
   "metadata": {
    "collapsed": false
   },
   "outputs": [
    {
     "name": "stdout",
     "output_type": "stream",
     "text": [
      "[8.28216621e-05 7.95487563e-04 1.02853365e-03 5.89462751e-04\n",
      " 1.39753285e-04 4.13374711e-04 4.08067143e-03 0.00000000e+00\n",
      " 0.00000000e+00 2.00769036e-02 4.26656977e-03 1.85334637e-03\n",
      " 1.80976041e-02 2.65322372e-04 7.29534473e-04 6.67220484e-05\n",
      " 7.02821812e-05 7.68491368e-04 5.35422686e-03 9.40283315e-03\n",
      " 2.03124126e-04 4.29094820e-04 1.62329545e-04 4.41923155e-05\n",
      " 1.59175588e-05 8.71639686e-02 1.61471181e-01 4.61778477e-03\n",
      " 6.58135082e-05 2.19678542e-04 0.00000000e+00 9.40968628e-04\n",
      " 1.27126495e-03 2.48849928e-02 2.16606037e-03 2.22875534e-02\n",
      " 8.66498133e-03 2.75023926e-04 3.46607740e-04 5.98679057e-04\n",
      " 1.22949774e-03 8.51791626e-04 4.18144643e-04 4.07798026e-04\n",
      " 7.17092484e-05 0.00000000e+00 7.52407205e-05 2.27187720e-02\n",
      " 1.06069433e-01 1.35665768e-02 3.61200026e-02 7.06529516e-03\n",
      " 2.64026383e-04 8.10728703e-04 6.46789280e-04 1.05205168e-04\n",
      " 1.22108485e-04 5.93579514e-05 2.74771185e-02 1.99493951e-02\n",
      " 2.52065887e-04 0.00000000e+00 0.00000000e+00 4.29605327e-05\n",
      " 3.56509375e-05 8.20882753e-04 7.84405183e-06 0.00000000e+00\n",
      " 0.00000000e+00 0.00000000e+00 0.00000000e+00 2.56289072e-06\n",
      " 0.00000000e+00 1.77958844e-05 1.24313641e-05 0.00000000e+00\n",
      " 0.00000000e+00 0.00000000e+00 0.00000000e+00 0.00000000e+00\n",
      " 0.00000000e+00 3.69839737e-06 0.00000000e+00 0.00000000e+00\n",
      " 3.38841811e-06 0.00000000e+00 0.00000000e+00 0.00000000e+00\n",
      " 2.35437340e-05 0.00000000e+00 0.00000000e+00 0.00000000e+00\n",
      " 0.00000000e+00 0.00000000e+00 0.00000000e+00 0.00000000e+00\n",
      " 3.39808343e-06 2.16815484e-05 0.00000000e+00 0.00000000e+00\n",
      " 0.00000000e+00 0.00000000e+00 5.61921772e-02 1.06565841e-03\n",
      " 1.13949188e-01 1.35936558e-01 2.48054331e-02 4.48629316e-02]\n",
      "Index(['workclass_0', 'workclass_1', 'workclass_2', 'workclass_3',\n",
      "       'workclass_4', 'workclass_5', 'workclass_6', 'workclass_7',\n",
      "       'workclass_8', 'education_0',\n",
      "       ...\n",
      "       'native_country_38', 'native_country_39', 'native_country_40',\n",
      "       'native_country_41', 'age', 'fnlwgt', 'education_num', 'capital_gain',\n",
      "       'capital_loss', 'hours_per_week'],\n",
      "      dtype='object', length=108)\n"
     ]
    }
   ],
   "source": [
    "nTrees = 100\n",
    "max_depth = 5\n",
    "min_node_size = 5\n",
    "verbose = 0\n",
    "\n",
    "from sklearn.ensemble import RandomForestClassifier\n",
    "\n",
    "clf = RandomForestClassifier(n_estimators=nTrees, max_depth=max_depth, random_state=0, verbose=verbose, min_samples_leaf=min_node_size)\n",
    "clf.fit(X_encoded_train, Y1)\n",
    "print(clf.feature_importances_)\n",
    "print(X_encoded_train.columns)"
   ]
  },
  {
   "cell_type": "markdown",
   "metadata": {},
   "source": [
    "### Plot the Feature Importance"
   ]
  },
  {
   "cell_type": "code",
   "execution_count": 22,
   "metadata": {
    "collapsed": false
   },
   "outputs": [
    {
     "data": {
      "image/png": "[encoded data removed]",
      "text/plain": [
       "<matplotlib.figure.Figure at 0x18c23638b38>"
      ]
     },
     "metadata": {},
     "output_type": "display_data"
    }
   ],
   "source": [
    "import matplotlib.pyplot as plt\n",
    "import numpy as np\n",
    "%matplotlib inline\n",
    "feature_importance = list(clf.feature_importances_)\n",
    "feature_names = list(X_encoded_train.columns)\n",
    "top_features = 3\n",
    "sorted_index= sorted(range(len(feature_importance)), key=lambda k: feature_importance[k], reverse=True)\n",
    "top_feature_importance = [feature_importance[i] for i in sorted_index[0:top_features]]\n",
    "top_feature_names = [feature_names[i] for i in sorted_index[0:top_features]]\n",
    "\n",
    "y_pos = np.arange(top_features)\n",
    "plt.bar(y_pos, top_feature_importance, align='center', alpha=0.5)\n",
    "plt.xticks(y_pos, top_feature_names)\n",
    "plt.ylabel('Importance')\n",
    "plt.title('Top %d feature importance'%top_features)\n",
    " \n",
    "plt.show()"
   ]
  },
  {
   "cell_type": "markdown",
   "metadata": {},
   "source": [
    "### Predict the Testing Data and Evaluate"
   ]
  },
  {
   "cell_type": "code",
   "execution_count": 23,
   "metadata": {
    "collapsed": false
   },
   "outputs": [
    {
     "name": "stdout",
     "output_type": "stream",
     "text": [
      "Accuracy on Testing Data = 83.93%\n"
     ]
    }
   ],
   "source": [
    "import numpy as np\n",
    "Y_test_hat = clf.predict(X_encoded_test)\n",
    "Accuracy = [1 for i in range(len(Y_test_hat)) if Y2.iloc[i] == Y_test_hat[i]]\n",
    "Accuracy = round(float(np.sum(Accuracy))/len(Y_test_hat)*100,2)\n",
    "print(\"Accuracy on Testing Data = %.2f%%\"%Accuracy)"
   ]
  },
  {
   "cell_type": "markdown",
   "metadata": {
    "collapsed": true
   },
   "source": [
    "### Section 3. Train the Gradient Boosted Decision Trees Model"
   ]
  },
  {
   "cell_type": "code",
   "execution_count": 24,
   "metadata": {
    "collapsed": false
   },
   "outputs": [
    {
     "name": "stdout",
     "output_type": "stream",
     "text": [
      "[6.29643892e-04 1.37415827e-02 2.00616613e-03 1.15747049e-02\n",
      " 9.04349698e-03 2.29642600e-04 3.63410778e-03 0.00000000e+00\n",
      " 0.00000000e+00 1.76292470e-03 3.86161570e-04 0.00000000e+00\n",
      " 4.23346560e-04 0.00000000e+00 7.89180296e-04 1.42977364e-05\n",
      " 3.99336181e-04 0.00000000e+00 5.06617618e-04 1.58991790e-03\n",
      " 0.00000000e+00 3.68200948e-04 0.00000000e+00 0.00000000e+00\n",
      " 0.00000000e+00 4.68925368e-03 1.71877643e-01 2.74475521e-04\n",
      " 3.97501643e-05 2.32381176e-04 2.24047264e-03 8.84058754e-05\n",
      " 2.97997982e-03 3.11896038e-02 3.71240744e-03 2.21985785e-02\n",
      " 1.64838111e-02 1.04968033e-02 2.15098094e-04 1.83189520e-03\n",
      " 1.43625350e-02 1.14466938e-03 1.35973835e-02 5.94095963e-06\n",
      " 5.71489493e-03 0.00000000e+00 0.00000000e+00 3.25198569e-03\n",
      " 4.58884818e-03 1.86719066e-02 2.09755189e-03 1.02788739e-03\n",
      " 1.64963460e-04 4.28344340e-03 1.80236519e-03 2.76117198e-04\n",
      " 6.09161483e-04 0.00000000e+00 8.10144743e-03 4.96745095e-03\n",
      " 3.71884355e-03 4.64400253e-04 0.00000000e+00 8.09055802e-05\n",
      " 1.05113510e-03 7.22117756e-06 8.31771574e-04 0.00000000e+00\n",
      " 0.00000000e+00 0.00000000e+00 2.85419475e-04 5.48179550e-05\n",
      " 0.00000000e+00 1.44937002e-03 1.16904310e-03 0.00000000e+00\n",
      " 0.00000000e+00 5.89179864e-04 0.00000000e+00 0.00000000e+00\n",
      " 0.00000000e+00 0.00000000e+00 0.00000000e+00 0.00000000e+00\n",
      " 0.00000000e+00 0.00000000e+00 0.00000000e+00 6.07575463e-05\n",
      " 0.00000000e+00 4.18167198e-04 0.00000000e+00 0.00000000e+00\n",
      " 0.00000000e+00 0.00000000e+00 0.00000000e+00 0.00000000e+00\n",
      " 0.00000000e+00 0.00000000e+00 0.00000000e+00 0.00000000e+00\n",
      " 0.00000000e+00 0.00000000e+00 1.09068608e-01 3.77782556e-02\n",
      " 1.12512675e-01 1.58111174e-01 1.07266901e-01 6.47629134e-02]\n"
     ]
    }
   ],
   "source": [
    "nTrees = 100\n",
    "max_depth = 5\n",
    "min_node_size = 5\n",
    "verbose = 0\n",
    "learning_rate = 0.05\n",
    "\n",
    "from sklearn.ensemble import GradientBoostingClassifier\n",
    "gbm_clf = GradientBoostingClassifier(n_estimators=nTrees, loss='deviance', learning_rate=learning_rate, max_depth=max_depth, \\\n",
    "                                    min_samples_leaf=min_node_size)\n",
    "gbm_clf.fit(X_encoded_train, Y1)\n",
    "print(gbm_clf.feature_importances_)"
   ]
  },
  {
   "cell_type": "markdown",
   "metadata": {},
   "source": [
    "### Predict the Testing Data and Evaluate"
   ]
  },
  {
   "cell_type": "code",
   "execution_count": 25,
   "metadata": {
    "collapsed": false
   },
   "outputs": [
    {
     "name": "stdout",
     "output_type": "stream",
     "text": [
      "Accuracy on Testing Data = 87.26%\n"
     ]
    }
   ],
   "source": [
    "import numpy as np\n",
    "Y_test_hat = gbm_clf.predict(X_encoded_test)\n",
    "Accuracy = [1 for i in range(len(Y_test_hat)) if Y2.iloc[i] == Y_test_hat[i]]\n",
    "Accuracy = round(float(np.sum(Accuracy))/len(Y_test_hat)*100,2)\n",
    "print(\"Accuracy on Testing Data = %.2f%%\"%Accuracy)"
   ]
  }
 ],
 "metadata": {
  "anaconda-cloud": {},
  "kernelspec": {
   "display_name": "Python [conda root]",
   "language": "python",
   "name": "conda-root-py"
  },
  "language_info": {
   "codemirror_mode": {
    "name": "ipython",
    "version": 3
   },
   "file_extension": ".py",
   "mimetype": "text/x-python",
   "name": "python",
   "nbconvert_exporter": "python",
   "pygments_lexer": "ipython3",
   "version": "3.5.2"
  }
 },
 "nbformat": 4,
 "nbformat_minor": 1
}
