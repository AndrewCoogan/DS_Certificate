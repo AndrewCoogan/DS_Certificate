{
 "cells": [
  {
   "cell_type": "code",
   "execution_count": 3,
   "metadata": {},
   "outputs": [],
   "source": [
    "import numpy as np\n",
    "import pandas as pd\n",
    "from collections import Counter, OrderedDict\n",
    "import copy"
   ]
  },
  {
   "cell_type": "code",
   "execution_count": 4,
   "metadata": {},
   "outputs": [],
   "source": [
    "trainDf = pd.read_csv('training_set.csv')\n",
    "Metatrain = pd.read_csv('training_set_metadata.csv')\n",
    "Metatrain = Metatrain[['object_id','target']]\n",
    "joinedDF = pd.merge(trainDf, Metatrain, on=\"object_id\")\n",
    "\n",
    "maindf = joinedDF.groupby(['object_id','passband'], as_index=False).agg({\n",
    "    'flux' : ['mean','min','max','std','sem','var', 'skew', 'mad']\n",
    "    , 'flux_err' : lambda x: 1/(np.sqrt(x.sum()))\n",
    "    , 'target' : 'first'}, axis = \"columns\")\n",
    "\n",
    "maindf.columns = [\"\".join(x) for x in maindf.columns.ravel()]\n",
    "maindf.rename(columns = {'flux_err<lambda>':'flux_errWeight'}, inplace = True)\n",
    "\n",
    "pbmap = OrderedDict([(0,'u'), (1,'g'), (2,'r'), (3,'i'), (4, 'z'), (5, 'Y')])\n",
    "\n",
    "transDf = copy.deepcopy(maindf)\n",
    "for i in pbmap:\n",
    "    transDf.loc[transDf['passband'] == i, 'passbandname'] = pbmap[i]\n",
    " \n",
    "transDf.drop('passband', axis=1, inplace = True)\n",
    "\n",
    "pivoted = transDf.pivot('object_id', 'passbandname')\n",
    "pivoted.columns = [\"_\".join(x) for x in pivoted.columns.ravel()]\n",
    "pivoted['target'] = pivoted['targetfirst_Y']\n",
    "pivoted = pivoted.drop(['targetfirst_Y','targetfirst_g','targetfirst_i','targetfirst_r','targetfirst_u','targetfirst_z'], axis=1)\n",
    "pivoted = pivoted.reset_index()\n",
    "pivoted.to_csv('train_passband_stats.csv', index = False)"
   ]
  },
  {
   "cell_type": "code",
   "execution_count": 5,
   "metadata": {},
   "outputs": [],
   "source": [
    "del trainDf, Metatrain"
   ]
  },
  {
   "cell_type": "code",
   "execution_count": 1,
   "metadata": {},
   "outputs": [
    {
     "ename": "NameError",
     "evalue": "name 'Metatrain' is not defined",
     "output_type": "error",
     "traceback": [
      "\u001b[0;31m---------------------------------------------------------------------------\u001b[0m",
      "\u001b[0;31mNameError\u001b[0m                                 Traceback (most recent call last)",
      "\u001b[0;32m<ipython-input-1-c882f361d993>\u001b[0m in \u001b[0;36m<module>\u001b[0;34m()\u001b[0m\n\u001b[1;32m      1\u001b[0m \u001b[0;31m#trainDf = pd.read_csv('test_set.csv')\u001b[0m\u001b[0;34m\u001b[0m\u001b[0;34m\u001b[0m\u001b[0m\n\u001b[1;32m      2\u001b[0m \u001b[0;31m#Metatrain = pd.read_csv('test_set_metadata.csv')\u001b[0m\u001b[0;34m\u001b[0m\u001b[0;34m\u001b[0m\u001b[0m\n\u001b[0;32m----> 3\u001b[0;31m \u001b[0mMetatrain\u001b[0m \u001b[0;34m=\u001b[0m \u001b[0mMetatrain\u001b[0m\u001b[0;34m[\u001b[0m\u001b[0;34m'object_id'\u001b[0m\u001b[0;34m]\u001b[0m\u001b[0;34m\u001b[0m\u001b[0m\n\u001b[0m\u001b[1;32m      4\u001b[0m \u001b[0mjoinedDF\u001b[0m \u001b[0;34m=\u001b[0m \u001b[0mpd\u001b[0m\u001b[0;34m.\u001b[0m\u001b[0mmerge\u001b[0m\u001b[0;34m(\u001b[0m\u001b[0mtrainDf\u001b[0m\u001b[0;34m,\u001b[0m \u001b[0mMetatrain\u001b[0m\u001b[0;34m,\u001b[0m \u001b[0mon\u001b[0m\u001b[0;34m=\u001b[0m\u001b[0;34m\"object_id\"\u001b[0m\u001b[0;34m)\u001b[0m\u001b[0;34m\u001b[0m\u001b[0m\n\u001b[1;32m      5\u001b[0m \u001b[0;34m\u001b[0m\u001b[0m\n",
      "\u001b[0;31mNameError\u001b[0m: name 'Metatrain' is not defined"
     ]
    }
   ],
   "source": [
    "trainDf = pd.read_csv('test_set.csv')\n",
    "Metatrain = pd.read_csv('test_set_metadata.csv')\n",
    "Metatrain = Metatrain['object_id']\n",
    "joinedDF = pd.merge(trainDf, Metatrain, on=\"object_id\")\n",
    "\n",
    "maindf = joinedDF.groupby(['object_id','passband'], as_index=False).agg({\n",
    "    'flux' : ['mean','min','max','std','sem','var', 'skew', 'mad']\n",
    "    , 'flux_err' : lambda x: 1/(np.sqrt(x.sum()))\n",
    "    , 'target' : 'first'}, axis = \"columns\")\n",
    "\n",
    "maindf.columns = [\"\".join(x) for x in maindf.columns.ravel()]\n",
    "maindf.rename(columns = {'flux_err<lambda>':'flux_errWeight'}, inplace = True)\n",
    "\n",
    "pbmap = OrderedDict([(0,'u'), (1,'g'), (2,'r'), (3,'i'), (4, 'z'), (5, 'Y')])\n",
    "\n",
    "transDf = copy.deepcopy(maindf)\n",
    "for i in pbmap:\n",
    "    transDf.loc[transDf['passband'] == i, 'passbandname'] = pbmap[i]\n",
    " \n",
    "transDf.drop('passband', axis=1, inplace = True)\n",
    "\n",
    "pivoted = transDf.pivot('object_id', 'passbandname')\n",
    "pivoted.columns = [\"_\".join(x) for x in pivoted.columns.ravel()]\n",
    "pivoted['target'] = pivoted['targetfirst_Y']\n",
    "pivoted = pivoted.drop(['targetfirst_Y','targetfirst_g','targetfirst_i','targetfirst_r','targetfirst_u','targetfirst_z'], axis=1)\n",
    "pivoted = pivoted.reset_index()\n",
    "pivoted.to_csv('test_passband_stats.csv', index = False)"
   ]
  },
  {
   "cell_type": "code",
   "execution_count": 2,
   "metadata": {},
   "outputs": [],
   "source": [
    "#import pickle\n",
    "#trainDf.to_pickle('test_set_pickle')\n",
    "#Metatrain.to_pickle('test_set_metadata_pickle')"
   ]
  },
  {
   "cell_type": "code",
   "execution_count": null,
   "metadata": {},
   "outputs": [],
   "source": []
  }
 ],
 "metadata": {
  "kernelspec": {
   "display_name": "Python 3",
   "language": "python",
   "name": "python3"
  },
  "language_info": {
   "codemirror_mode": {
    "name": "ipython",
    "version": 3
   },
   "file_extension": ".py",
   "mimetype": "text/x-python",
   "name": "python",
   "nbconvert_exporter": "python",
   "pygments_lexer": "ipython3",
   "version": "3.6.4"
  }
 },
 "nbformat": 4,
 "nbformat_minor": 2
}
