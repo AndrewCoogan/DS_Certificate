{
 "cells": [
  {
   "cell_type": "code",
   "execution_count": 219,
   "metadata": {},
   "outputs": [],
   "source": [
    "%matplotlib inline\n",
    "import warnings\n",
    "warnings.filterwarnings('ignore')\n",
    "\n",
    "import pandas as pd\n",
    "import numpy as np\n",
    "import scipy as sp\n",
    "import pandas_profiling\n",
    "import random\n",
    "import time\n",
    "import copy\n",
    "import category_encoders as ce\n",
    "import tensorflow as tf\n",
    "from sklearn.model_selection import train_test_split\n",
    "import matplotlib.pyplot as plt\n",
    "import seaborn as sns\n",
    "\n",
    "from sklearn.preprocessing import StandardScaler\n",
    "from sklearn.ensemble import RandomForestClassifier\n",
    "from sklearn.neural_network import MLPClassifier\n",
    "from sklearn.ensemble import GradientBoostingClassifier\n",
    "from sklearn.metrics import accuracy_score, precision_score, recall_score, f1_score"
   ]
  },
  {
   "cell_type": "code",
   "execution_count": 148,
   "metadata": {},
   "outputs": [],
   "source": [
    "train = pd.read_csv('training_set.csv')\n",
    "meta_train = pd.read_csv(\"training_set_metadata.csv\")"
   ]
  },
  {
   "cell_type": "code",
   "execution_count": 3,
   "metadata": {},
   "outputs": [
    {
     "data": {
      "text/html": [
       "<div>\n",
       "<style scoped>\n",
       "    .dataframe tbody tr th:only-of-type {\n",
       "        vertical-align: middle;\n",
       "    }\n",
       "\n",
       "    .dataframe tbody tr th {\n",
       "        vertical-align: top;\n",
       "    }\n",
       "\n",
       "    .dataframe thead th {\n",
       "        text-align: right;\n",
       "    }\n",
       "</style>\n",
       "<table border=\"1\" class=\"dataframe\">\n",
       "  <thead>\n",
       "    <tr style=\"text-align: right;\">\n",
       "      <th></th>\n",
       "      <th>object_id</th>\n",
       "      <th>mjd</th>\n",
       "      <th>passband</th>\n",
       "      <th>flux</th>\n",
       "      <th>flux_err</th>\n",
       "      <th>detected</th>\n",
       "    </tr>\n",
       "  </thead>\n",
       "  <tbody>\n",
       "    <tr>\n",
       "      <th>0</th>\n",
       "      <td>615</td>\n",
       "      <td>59750.4229</td>\n",
       "      <td>2</td>\n",
       "      <td>-544.810303</td>\n",
       "      <td>3.622952</td>\n",
       "      <td>1</td>\n",
       "    </tr>\n",
       "    <tr>\n",
       "      <th>1</th>\n",
       "      <td>615</td>\n",
       "      <td>59750.4306</td>\n",
       "      <td>1</td>\n",
       "      <td>-816.434326</td>\n",
       "      <td>5.553370</td>\n",
       "      <td>1</td>\n",
       "    </tr>\n",
       "    <tr>\n",
       "      <th>2</th>\n",
       "      <td>615</td>\n",
       "      <td>59750.4383</td>\n",
       "      <td>3</td>\n",
       "      <td>-471.385529</td>\n",
       "      <td>3.801213</td>\n",
       "      <td>1</td>\n",
       "    </tr>\n",
       "    <tr>\n",
       "      <th>3</th>\n",
       "      <td>615</td>\n",
       "      <td>59750.4450</td>\n",
       "      <td>4</td>\n",
       "      <td>-388.984985</td>\n",
       "      <td>11.395031</td>\n",
       "      <td>1</td>\n",
       "    </tr>\n",
       "    <tr>\n",
       "      <th>4</th>\n",
       "      <td>615</td>\n",
       "      <td>59752.4070</td>\n",
       "      <td>2</td>\n",
       "      <td>-681.858887</td>\n",
       "      <td>4.041204</td>\n",
       "      <td>1</td>\n",
       "    </tr>\n",
       "  </tbody>\n",
       "</table>\n",
       "</div>"
      ],
      "text/plain": [
       "   object_id         mjd  passband        flux   flux_err  detected\n",
       "0        615  59750.4229         2 -544.810303   3.622952         1\n",
       "1        615  59750.4306         1 -816.434326   5.553370         1\n",
       "2        615  59750.4383         3 -471.385529   3.801213         1\n",
       "3        615  59750.4450         4 -388.984985  11.395031         1\n",
       "4        615  59752.4070         2 -681.858887   4.041204         1"
      ]
     },
     "execution_count": 3,
     "metadata": {},
     "output_type": "execute_result"
    }
   ],
   "source": [
    "train.head()"
   ]
  },
  {
   "cell_type": "code",
   "execution_count": 4,
   "metadata": {},
   "outputs": [
    {
     "data": {
      "text/plain": [
       "(1421705, 6)"
      ]
     },
     "execution_count": 4,
     "metadata": {},
     "output_type": "execute_result"
    }
   ],
   "source": [
    "train.shape"
   ]
  },
  {
   "cell_type": "code",
   "execution_count": 5,
   "metadata": {},
   "outputs": [
    {
     "data": {
      "text/html": [
       "<div>\n",
       "<style scoped>\n",
       "    .dataframe tbody tr th:only-of-type {\n",
       "        vertical-align: middle;\n",
       "    }\n",
       "\n",
       "    .dataframe tbody tr th {\n",
       "        vertical-align: top;\n",
       "    }\n",
       "\n",
       "    .dataframe thead th {\n",
       "        text-align: right;\n",
       "    }\n",
       "</style>\n",
       "<table border=\"1\" class=\"dataframe\">\n",
       "  <thead>\n",
       "    <tr style=\"text-align: right;\">\n",
       "      <th></th>\n",
       "      <th>object_id</th>\n",
       "      <th>ra</th>\n",
       "      <th>decl</th>\n",
       "      <th>gal_l</th>\n",
       "      <th>gal_b</th>\n",
       "      <th>ddf</th>\n",
       "      <th>hostgal_specz</th>\n",
       "      <th>hostgal_photoz</th>\n",
       "      <th>hostgal_photoz_err</th>\n",
       "      <th>distmod</th>\n",
       "      <th>mwebv</th>\n",
       "      <th>target</th>\n",
       "    </tr>\n",
       "  </thead>\n",
       "  <tbody>\n",
       "    <tr>\n",
       "      <th>0</th>\n",
       "      <td>615</td>\n",
       "      <td>349.046051</td>\n",
       "      <td>-61.943836</td>\n",
       "      <td>320.796530</td>\n",
       "      <td>-51.753706</td>\n",
       "      <td>1</td>\n",
       "      <td>0.0000</td>\n",
       "      <td>0.0000</td>\n",
       "      <td>0.0000</td>\n",
       "      <td>NaN</td>\n",
       "      <td>0.017</td>\n",
       "      <td>92</td>\n",
       "    </tr>\n",
       "    <tr>\n",
       "      <th>1</th>\n",
       "      <td>713</td>\n",
       "      <td>53.085938</td>\n",
       "      <td>-27.784405</td>\n",
       "      <td>223.525509</td>\n",
       "      <td>-54.460748</td>\n",
       "      <td>1</td>\n",
       "      <td>1.8181</td>\n",
       "      <td>1.6267</td>\n",
       "      <td>0.2552</td>\n",
       "      <td>45.4063</td>\n",
       "      <td>0.007</td>\n",
       "      <td>88</td>\n",
       "    </tr>\n",
       "    <tr>\n",
       "      <th>2</th>\n",
       "      <td>730</td>\n",
       "      <td>33.574219</td>\n",
       "      <td>-6.579593</td>\n",
       "      <td>170.455585</td>\n",
       "      <td>-61.548219</td>\n",
       "      <td>1</td>\n",
       "      <td>0.2320</td>\n",
       "      <td>0.2262</td>\n",
       "      <td>0.0157</td>\n",
       "      <td>40.2561</td>\n",
       "      <td>0.021</td>\n",
       "      <td>42</td>\n",
       "    </tr>\n",
       "    <tr>\n",
       "      <th>3</th>\n",
       "      <td>745</td>\n",
       "      <td>0.189873</td>\n",
       "      <td>-45.586655</td>\n",
       "      <td>328.254458</td>\n",
       "      <td>-68.969298</td>\n",
       "      <td>1</td>\n",
       "      <td>0.3037</td>\n",
       "      <td>0.2813</td>\n",
       "      <td>1.1523</td>\n",
       "      <td>40.7951</td>\n",
       "      <td>0.007</td>\n",
       "      <td>90</td>\n",
       "    </tr>\n",
       "    <tr>\n",
       "      <th>4</th>\n",
       "      <td>1124</td>\n",
       "      <td>352.711273</td>\n",
       "      <td>-63.823658</td>\n",
       "      <td>316.922299</td>\n",
       "      <td>-51.059403</td>\n",
       "      <td>1</td>\n",
       "      <td>0.1934</td>\n",
       "      <td>0.2415</td>\n",
       "      <td>0.0176</td>\n",
       "      <td>40.4166</td>\n",
       "      <td>0.024</td>\n",
       "      <td>90</td>\n",
       "    </tr>\n",
       "  </tbody>\n",
       "</table>\n",
       "</div>"
      ],
      "text/plain": [
       "   object_id          ra       decl       gal_l      gal_b  ddf  \\\n",
       "0        615  349.046051 -61.943836  320.796530 -51.753706    1   \n",
       "1        713   53.085938 -27.784405  223.525509 -54.460748    1   \n",
       "2        730   33.574219  -6.579593  170.455585 -61.548219    1   \n",
       "3        745    0.189873 -45.586655  328.254458 -68.969298    1   \n",
       "4       1124  352.711273 -63.823658  316.922299 -51.059403    1   \n",
       "\n",
       "   hostgal_specz  hostgal_photoz  hostgal_photoz_err  distmod  mwebv  target  \n",
       "0         0.0000          0.0000              0.0000      NaN  0.017      92  \n",
       "1         1.8181          1.6267              0.2552  45.4063  0.007      88  \n",
       "2         0.2320          0.2262              0.0157  40.2561  0.021      42  \n",
       "3         0.3037          0.2813              1.1523  40.7951  0.007      90  \n",
       "4         0.1934          0.2415              0.0176  40.4166  0.024      90  "
      ]
     },
     "execution_count": 5,
     "metadata": {},
     "output_type": "execute_result"
    }
   ],
   "source": [
    "meta_train.head()"
   ]
  },
  {
   "cell_type": "code",
   "execution_count": 6,
   "metadata": {},
   "outputs": [
    {
     "data": {
      "text/plain": [
       "(7848, 12)"
      ]
     },
     "execution_count": 6,
     "metadata": {},
     "output_type": "execute_result"
    }
   ],
   "source": [
    "meta_train.shape"
   ]
  },
  {
   "cell_type": "markdown",
   "metadata": {},
   "source": [
    "In case there is any reader other than me, these are just (probably obvious) notes.  Training provides the time series of timestamp (mjd, modern day julian), the specific passband the star was viewed in at a given time (passband, values = [0,1,2,3,4,5]), flux is the brightness with a dust correction (mvbev, in meta_training), flux_error is the error in the flux (n.b.--not too sure how we should take this into account.  Do we create a range?  Should we try and standardize somehow?  It seems we take take this to be a mean and a variance, is there a way we can oncorporate this for actual testing?), detected I dont really undersand, but is \"the object's brightness is significantly different at the 3-sigma level relative to the reference template.\"  Will need to read more into that one."
   ]
  },
  {
   "cell_type": "code",
   "execution_count": 7,
   "metadata": {},
   "outputs": [],
   "source": [
    "#pandas_profiling.ProfileReport(meta_training)"
   ]
  },
  {
   "cell_type": "code",
   "execution_count": 8,
   "metadata": {},
   "outputs": [],
   "source": [
    "merged_train = train.merge(meta_train, how = \"left\", on = \"object_id\")"
   ]
  },
  {
   "cell_type": "code",
   "execution_count": 9,
   "metadata": {},
   "outputs": [
    {
     "data": {
      "text/html": [
       "<div>\n",
       "<style scoped>\n",
       "    .dataframe tbody tr th:only-of-type {\n",
       "        vertical-align: middle;\n",
       "    }\n",
       "\n",
       "    .dataframe tbody tr th {\n",
       "        vertical-align: top;\n",
       "    }\n",
       "\n",
       "    .dataframe thead th {\n",
       "        text-align: right;\n",
       "    }\n",
       "</style>\n",
       "<table border=\"1\" class=\"dataframe\">\n",
       "  <thead>\n",
       "    <tr style=\"text-align: right;\">\n",
       "      <th></th>\n",
       "      <th>object_id</th>\n",
       "      <th>mjd</th>\n",
       "      <th>passband</th>\n",
       "      <th>flux</th>\n",
       "      <th>flux_err</th>\n",
       "      <th>detected</th>\n",
       "      <th>ra</th>\n",
       "      <th>decl</th>\n",
       "      <th>gal_l</th>\n",
       "      <th>gal_b</th>\n",
       "      <th>ddf</th>\n",
       "      <th>hostgal_specz</th>\n",
       "      <th>hostgal_photoz</th>\n",
       "      <th>hostgal_photoz_err</th>\n",
       "      <th>distmod</th>\n",
       "      <th>mwebv</th>\n",
       "      <th>target</th>\n",
       "    </tr>\n",
       "  </thead>\n",
       "  <tbody>\n",
       "    <tr>\n",
       "      <th>0</th>\n",
       "      <td>615</td>\n",
       "      <td>59750.4229</td>\n",
       "      <td>2</td>\n",
       "      <td>-544.810303</td>\n",
       "      <td>3.622952</td>\n",
       "      <td>1</td>\n",
       "      <td>349.046051</td>\n",
       "      <td>-61.943836</td>\n",
       "      <td>320.79653</td>\n",
       "      <td>-51.753706</td>\n",
       "      <td>1</td>\n",
       "      <td>0.0</td>\n",
       "      <td>0.0</td>\n",
       "      <td>0.0</td>\n",
       "      <td>NaN</td>\n",
       "      <td>0.017</td>\n",
       "      <td>92</td>\n",
       "    </tr>\n",
       "    <tr>\n",
       "      <th>1</th>\n",
       "      <td>615</td>\n",
       "      <td>59750.4306</td>\n",
       "      <td>1</td>\n",
       "      <td>-816.434326</td>\n",
       "      <td>5.553370</td>\n",
       "      <td>1</td>\n",
       "      <td>349.046051</td>\n",
       "      <td>-61.943836</td>\n",
       "      <td>320.79653</td>\n",
       "      <td>-51.753706</td>\n",
       "      <td>1</td>\n",
       "      <td>0.0</td>\n",
       "      <td>0.0</td>\n",
       "      <td>0.0</td>\n",
       "      <td>NaN</td>\n",
       "      <td>0.017</td>\n",
       "      <td>92</td>\n",
       "    </tr>\n",
       "    <tr>\n",
       "      <th>2</th>\n",
       "      <td>615</td>\n",
       "      <td>59750.4383</td>\n",
       "      <td>3</td>\n",
       "      <td>-471.385529</td>\n",
       "      <td>3.801213</td>\n",
       "      <td>1</td>\n",
       "      <td>349.046051</td>\n",
       "      <td>-61.943836</td>\n",
       "      <td>320.79653</td>\n",
       "      <td>-51.753706</td>\n",
       "      <td>1</td>\n",
       "      <td>0.0</td>\n",
       "      <td>0.0</td>\n",
       "      <td>0.0</td>\n",
       "      <td>NaN</td>\n",
       "      <td>0.017</td>\n",
       "      <td>92</td>\n",
       "    </tr>\n",
       "    <tr>\n",
       "      <th>3</th>\n",
       "      <td>615</td>\n",
       "      <td>59750.4450</td>\n",
       "      <td>4</td>\n",
       "      <td>-388.984985</td>\n",
       "      <td>11.395031</td>\n",
       "      <td>1</td>\n",
       "      <td>349.046051</td>\n",
       "      <td>-61.943836</td>\n",
       "      <td>320.79653</td>\n",
       "      <td>-51.753706</td>\n",
       "      <td>1</td>\n",
       "      <td>0.0</td>\n",
       "      <td>0.0</td>\n",
       "      <td>0.0</td>\n",
       "      <td>NaN</td>\n",
       "      <td>0.017</td>\n",
       "      <td>92</td>\n",
       "    </tr>\n",
       "    <tr>\n",
       "      <th>4</th>\n",
       "      <td>615</td>\n",
       "      <td>59752.4070</td>\n",
       "      <td>2</td>\n",
       "      <td>-681.858887</td>\n",
       "      <td>4.041204</td>\n",
       "      <td>1</td>\n",
       "      <td>349.046051</td>\n",
       "      <td>-61.943836</td>\n",
       "      <td>320.79653</td>\n",
       "      <td>-51.753706</td>\n",
       "      <td>1</td>\n",
       "      <td>0.0</td>\n",
       "      <td>0.0</td>\n",
       "      <td>0.0</td>\n",
       "      <td>NaN</td>\n",
       "      <td>0.017</td>\n",
       "      <td>92</td>\n",
       "    </tr>\n",
       "  </tbody>\n",
       "</table>\n",
       "</div>"
      ],
      "text/plain": [
       "   object_id         mjd  passband        flux   flux_err  detected  \\\n",
       "0        615  59750.4229         2 -544.810303   3.622952         1   \n",
       "1        615  59750.4306         1 -816.434326   5.553370         1   \n",
       "2        615  59750.4383         3 -471.385529   3.801213         1   \n",
       "3        615  59750.4450         4 -388.984985  11.395031         1   \n",
       "4        615  59752.4070         2 -681.858887   4.041204         1   \n",
       "\n",
       "           ra       decl      gal_l      gal_b  ddf  hostgal_specz  \\\n",
       "0  349.046051 -61.943836  320.79653 -51.753706    1            0.0   \n",
       "1  349.046051 -61.943836  320.79653 -51.753706    1            0.0   \n",
       "2  349.046051 -61.943836  320.79653 -51.753706    1            0.0   \n",
       "3  349.046051 -61.943836  320.79653 -51.753706    1            0.0   \n",
       "4  349.046051 -61.943836  320.79653 -51.753706    1            0.0   \n",
       "\n",
       "   hostgal_photoz  hostgal_photoz_err  distmod  mwebv  target  \n",
       "0             0.0                 0.0      NaN  0.017      92  \n",
       "1             0.0                 0.0      NaN  0.017      92  \n",
       "2             0.0                 0.0      NaN  0.017      92  \n",
       "3             0.0                 0.0      NaN  0.017      92  \n",
       "4             0.0                 0.0      NaN  0.017      92  "
      ]
     },
     "execution_count": 9,
     "metadata": {},
     "output_type": "execute_result"
    }
   ],
   "source": [
    "merged_train.head()"
   ]
  },
  {
   "cell_type": "code",
   "execution_count": 10,
   "metadata": {},
   "outputs": [],
   "source": [
    "merged_train['MW'] = np.where(np.isnan(merged_train.distmod), 1.0, 0.0)\n",
    "# This establishes if the planetary source is in the milky way (MW) or not"
   ]
  },
  {
   "cell_type": "code",
   "execution_count": 11,
   "metadata": {},
   "outputs": [
    {
     "data": {
      "text/html": [
       "<div>\n",
       "<style scoped>\n",
       "    .dataframe tbody tr th:only-of-type {\n",
       "        vertical-align: middle;\n",
       "    }\n",
       "\n",
       "    .dataframe tbody tr th {\n",
       "        vertical-align: top;\n",
       "    }\n",
       "\n",
       "    .dataframe thead th {\n",
       "        text-align: right;\n",
       "    }\n",
       "</style>\n",
       "<table border=\"1\" class=\"dataframe\">\n",
       "  <thead>\n",
       "    <tr style=\"text-align: right;\">\n",
       "      <th></th>\n",
       "      <th>object_id</th>\n",
       "      <th>mjd</th>\n",
       "      <th>passband</th>\n",
       "      <th>flux</th>\n",
       "      <th>flux_err</th>\n",
       "      <th>detected</th>\n",
       "      <th>ra</th>\n",
       "      <th>decl</th>\n",
       "      <th>gal_l</th>\n",
       "      <th>gal_b</th>\n",
       "      <th>ddf</th>\n",
       "      <th>hostgal_specz</th>\n",
       "      <th>hostgal_photoz</th>\n",
       "      <th>hostgal_photoz_err</th>\n",
       "      <th>distmod</th>\n",
       "      <th>mwebv</th>\n",
       "      <th>target</th>\n",
       "      <th>MW</th>\n",
       "    </tr>\n",
       "  </thead>\n",
       "  <tbody>\n",
       "    <tr>\n",
       "      <th>0</th>\n",
       "      <td>615</td>\n",
       "      <td>59750.4229</td>\n",
       "      <td>2</td>\n",
       "      <td>-544.810303</td>\n",
       "      <td>3.622952</td>\n",
       "      <td>1</td>\n",
       "      <td>349.046051</td>\n",
       "      <td>-61.943836</td>\n",
       "      <td>320.79653</td>\n",
       "      <td>-51.753706</td>\n",
       "      <td>1</td>\n",
       "      <td>0.0</td>\n",
       "      <td>0.0</td>\n",
       "      <td>0.0</td>\n",
       "      <td>NaN</td>\n",
       "      <td>0.017</td>\n",
       "      <td>92</td>\n",
       "      <td>1.0</td>\n",
       "    </tr>\n",
       "    <tr>\n",
       "      <th>1</th>\n",
       "      <td>615</td>\n",
       "      <td>59750.4306</td>\n",
       "      <td>1</td>\n",
       "      <td>-816.434326</td>\n",
       "      <td>5.553370</td>\n",
       "      <td>1</td>\n",
       "      <td>349.046051</td>\n",
       "      <td>-61.943836</td>\n",
       "      <td>320.79653</td>\n",
       "      <td>-51.753706</td>\n",
       "      <td>1</td>\n",
       "      <td>0.0</td>\n",
       "      <td>0.0</td>\n",
       "      <td>0.0</td>\n",
       "      <td>NaN</td>\n",
       "      <td>0.017</td>\n",
       "      <td>92</td>\n",
       "      <td>1.0</td>\n",
       "    </tr>\n",
       "    <tr>\n",
       "      <th>2</th>\n",
       "      <td>615</td>\n",
       "      <td>59750.4383</td>\n",
       "      <td>3</td>\n",
       "      <td>-471.385529</td>\n",
       "      <td>3.801213</td>\n",
       "      <td>1</td>\n",
       "      <td>349.046051</td>\n",
       "      <td>-61.943836</td>\n",
       "      <td>320.79653</td>\n",
       "      <td>-51.753706</td>\n",
       "      <td>1</td>\n",
       "      <td>0.0</td>\n",
       "      <td>0.0</td>\n",
       "      <td>0.0</td>\n",
       "      <td>NaN</td>\n",
       "      <td>0.017</td>\n",
       "      <td>92</td>\n",
       "      <td>1.0</td>\n",
       "    </tr>\n",
       "    <tr>\n",
       "      <th>3</th>\n",
       "      <td>615</td>\n",
       "      <td>59750.4450</td>\n",
       "      <td>4</td>\n",
       "      <td>-388.984985</td>\n",
       "      <td>11.395031</td>\n",
       "      <td>1</td>\n",
       "      <td>349.046051</td>\n",
       "      <td>-61.943836</td>\n",
       "      <td>320.79653</td>\n",
       "      <td>-51.753706</td>\n",
       "      <td>1</td>\n",
       "      <td>0.0</td>\n",
       "      <td>0.0</td>\n",
       "      <td>0.0</td>\n",
       "      <td>NaN</td>\n",
       "      <td>0.017</td>\n",
       "      <td>92</td>\n",
       "      <td>1.0</td>\n",
       "    </tr>\n",
       "    <tr>\n",
       "      <th>4</th>\n",
       "      <td>615</td>\n",
       "      <td>59752.4070</td>\n",
       "      <td>2</td>\n",
       "      <td>-681.858887</td>\n",
       "      <td>4.041204</td>\n",
       "      <td>1</td>\n",
       "      <td>349.046051</td>\n",
       "      <td>-61.943836</td>\n",
       "      <td>320.79653</td>\n",
       "      <td>-51.753706</td>\n",
       "      <td>1</td>\n",
       "      <td>0.0</td>\n",
       "      <td>0.0</td>\n",
       "      <td>0.0</td>\n",
       "      <td>NaN</td>\n",
       "      <td>0.017</td>\n",
       "      <td>92</td>\n",
       "      <td>1.0</td>\n",
       "    </tr>\n",
       "  </tbody>\n",
       "</table>\n",
       "</div>"
      ],
      "text/plain": [
       "   object_id         mjd  passband        flux   flux_err  detected  \\\n",
       "0        615  59750.4229         2 -544.810303   3.622952         1   \n",
       "1        615  59750.4306         1 -816.434326   5.553370         1   \n",
       "2        615  59750.4383         3 -471.385529   3.801213         1   \n",
       "3        615  59750.4450         4 -388.984985  11.395031         1   \n",
       "4        615  59752.4070         2 -681.858887   4.041204         1   \n",
       "\n",
       "           ra       decl      gal_l      gal_b  ddf  hostgal_specz  \\\n",
       "0  349.046051 -61.943836  320.79653 -51.753706    1            0.0   \n",
       "1  349.046051 -61.943836  320.79653 -51.753706    1            0.0   \n",
       "2  349.046051 -61.943836  320.79653 -51.753706    1            0.0   \n",
       "3  349.046051 -61.943836  320.79653 -51.753706    1            0.0   \n",
       "4  349.046051 -61.943836  320.79653 -51.753706    1            0.0   \n",
       "\n",
       "   hostgal_photoz  hostgal_photoz_err  distmod  mwebv  target   MW  \n",
       "0             0.0                 0.0      NaN  0.017      92  1.0  \n",
       "1             0.0                 0.0      NaN  0.017      92  1.0  \n",
       "2             0.0                 0.0      NaN  0.017      92  1.0  \n",
       "3             0.0                 0.0      NaN  0.017      92  1.0  \n",
       "4             0.0                 0.0      NaN  0.017      92  1.0  "
      ]
     },
     "execution_count": 11,
     "metadata": {},
     "output_type": "execute_result"
    }
   ],
   "source": [
    "merged_train.head()"
   ]
  },
  {
   "cell_type": "code",
   "execution_count": 12,
   "metadata": {},
   "outputs": [],
   "source": [
    "trimmed_train = merged_train.copy()\n",
    "trimmed_train.drop('mjd', axis = 1, inplace = True)\n",
    "trimmed_train.fillna(0, inplace = True)\n",
    "object_id_vec = pd.Series((trimmed_train.object_id.copy()).unique())"
   ]
  },
  {
   "cell_type": "code",
   "execution_count": 13,
   "metadata": {},
   "outputs": [],
   "source": [
    "random.seed(151)\n",
    "msk = np.random.rand(len(object_id_vec)) < 0.8\n",
    "train_obj = object_id_vec[msk]\n",
    "test_obj = object_id_vec[~msk]"
   ]
  },
  {
   "cell_type": "markdown",
   "metadata": {},
   "source": [
    "## Testing Methodology\n",
    "The teating set is absurdly large and unwieldy for this kind of work.  I am going to break the training set up into two smaller chunks, this should be a good guide for the time being.  Until I explicitly say later, this \"training\" and \"testing\" are just subsets of the provided training data."
   ]
  },
  {
   "cell_type": "code",
   "execution_count": 14,
   "metadata": {},
   "outputs": [],
   "source": [
    "# pd.options.mode.chained_assignment = None\n",
    "\n",
    "sub_train = trimmed_train.loc[trimmed_train['object_id'].isin(train_obj)]\n",
    "sub_test = trimmed_train.loc[trimmed_train['object_id'].isin(test_obj)]\n",
    "train_target = copy.deepcopy(sub_train.target)\n",
    "test_target = copy.deepcopy(sub_test.target)\n",
    "\n",
    "sub_train.drop('target', axis = 1, inplace = True)\n",
    "sub_test.drop('target', axis = 1, inplace = True)"
   ]
  },
  {
   "cell_type": "code",
   "execution_count": 91,
   "metadata": {},
   "outputs": [],
   "source": [
    "train_trim = copy.deepcopy(sub_train)\n",
    "test_trim = copy.deepcopy(sub_test)\n",
    "\n",
    "#cols_to_drop = ['object_id', 'passband', 'flux', 'flux_err', 'detected']\n",
    "#train_trim.drop(cols_to_drop, axis = 1, inplace = True)\n",
    "#test_trim.drop(cols_to_drop, axis = 1, inplace = True)\n",
    "\n",
    "scaler = StandardScaler()\n",
    "\n",
    "cols_to_scale = ['hostgal_photoz', 'hostgal_photoz_err', 'distmod', 'mwebv']\n",
    "\n",
    "for col in cols_to_scale:\n",
    "    train_trim[col + '_scaled'] = scaler.fit_transform(train_trim[[col]])\n",
    "    test_trim[col + '_scaled'] = scaler.fit_transform(test_trim[[col]])\n",
    "    train_trim.drop(col, axis = 1, inplace = True)\n",
    "    test_trim.drop(col, axis = 1, inplace = True)\n",
    "\n",
    "_train = copy.deepcopy(train_trim)    \n",
    "_test = copy.deepcopy(test_trim)\n",
    "\n",
    "train_trim.drop('object_id', axis = 1, inplace = True)\n",
    "test_trim.drop('object_id', axis = 1, inplace = True)\n",
    "                 \n",
    "le =  ce.OneHotEncoder(return_df = True, impute_missing = False, handle_unknown = \"ignore\")\n",
    "train_encoded = le.fit_transform(train_trim)\n",
    "test_encoded = le.fit_transform(test_trim)"
   ]
  },
  {
   "cell_type": "markdown",
   "metadata": {},
   "source": [
    "# Random Forest"
   ]
  },
  {
   "cell_type": "code",
   "execution_count": 17,
   "metadata": {},
   "outputs": [
    {
     "name": "stdout",
     "output_type": "stream",
     "text": [
      "[0.00741316 0.07223984 0.03601802 0.04967922 0.0288898  0.02599058\n",
      " 0.02458112 0.03698751 0.01439181 0.20957529 0.08432255 0.15333024\n",
      " 0.09285071 0.12850521 0.03522493]\n"
     ]
    }
   ],
   "source": [
    "nTrees = 200\n",
    "max_depth = 10\n",
    "min_node_size = 10\n",
    "verbose = 0\n",
    "\n",
    "start_time = time.time()\n",
    "clf = RandomForestClassifier(n_estimators = nTrees, max_depth = max_depth, random_state = 0, \\\n",
    "                             verbose = verbose, min_samples_leaf = min_node_size, n_jobs = -2)\n",
    "clf.fit(train_encoded, train_target)\n",
    "end_time = time.time()\n",
    "\n",
    "test_rf_predicted = clf.predict(test_encoded)"
   ]
  },
  {
   "cell_type": "code",
   "execution_count": 37,
   "metadata": {},
   "outputs": [
    {
     "name": "stdout",
     "output_type": "stream",
     "text": [
      "Accuracy on Testing Data = 59.2130%\n",
      "Precision on Testing Data = 32.7609%\n",
      "Recall on Testing Data = 41.5169%\n",
      "F1 on Testing Data = 65.3965%\n",
      "Time elapsed = 202.4 seconds\n"
     ]
    }
   ],
   "source": [
    "acc = accuracy_score(test_rf_predicted, test_target)\n",
    "prec = precision_score(test_rf_predicted, test_target, average = 'macro')\n",
    "rec= recall_score(test_rf_predicted, test_target, average = 'macro')\n",
    "F1 = f1_score(test_rf_predicted, test_target, average = 'weighted')\n",
    "\n",
    "print(\"Accuracy on Testing Data = %.4f%%\"%(100 * acc))\n",
    "print(\"Precision on Testing Data = %.4f%%\"%(100 * prec))\n",
    "print(\"Recall on Testing Data = %.4f%%\"%(100 * rec))\n",
    "print(\"F1 on Testing Data = %.4f%%\"%(100 * F1))\n",
    "print(\"Time elapsed = %.1f\"%(end_time - start_time) + \" seconds\")"
   ]
  },
  {
   "cell_type": "markdown",
   "metadata": {},
   "source": [
    "# Neural Network"
   ]
  },
  {
   "cell_type": "code",
   "execution_count": 54,
   "metadata": {},
   "outputs": [],
   "source": [
    "start_time = time.time()\n",
    "mlp = MLPClassifier(hidden_layer_sizes=(30,30,30))\n",
    "mlp.fit(train_encoded, train_target)\n",
    "end_time = time.time()\n",
    "\n",
    "test_nn_predicted = mlp.predict(test_encoded)"
   ]
  },
  {
   "cell_type": "code",
   "execution_count": 55,
   "metadata": {},
   "outputs": [
    {
     "name": "stdout",
     "output_type": "stream",
     "text": [
      "Accuracy on Testing Data = 56.2845%\n",
      "Precision on Testing Data = 32.3504%\n",
      "Recall on Testing Data = 42.8848%\n",
      "F1 on Testing Data = 60.8592%\n",
      "Time elapsed = 640.1 seconds\n"
     ]
    }
   ],
   "source": [
    "acc = accuracy_score(test_nn_predicted, test_target)\n",
    "prec = precision_score(test_nn_predicted, test_target, average = 'macro')\n",
    "rec= recall_score(test_nn_predicted, test_target, average = 'macro')\n",
    "F1 = f1_score(test_nn_predicted, test_target, average = 'weighted')\n",
    "\n",
    "print(\"Accuracy on Testing Data = %.4f%%\"%(100 * acc))\n",
    "print(\"Precision on Testing Data = %.4f%%\"%(100 * prec))\n",
    "print(\"Recall on Testing Data = %.4f%%\"%(100 * rec))\n",
    "print(\"F1 on Testing Data = %.4f%%\"%(100 * F1))\n",
    "print(\"Time elapsed = %.1f\"%(end_time - start_time) + \" seconds\")"
   ]
  },
  {
   "cell_type": "markdown",
   "metadata": {},
   "source": [
    "# Ensamble"
   ]
  },
  {
   "cell_type": "code",
   "execution_count": 58,
   "metadata": {},
   "outputs": [],
   "source": [
    "learning_rate = 0.05\n",
    "max_depth = 5\n",
    "min_node_size = 5\n",
    "\n",
    "start_time = time.time()\n",
    "gbc = GradientBoostingClassifier(n_estimators = 10, loss = 'deviance', \\\n",
    "                                     learning_rate = learning_rate, max_depth = max_depth, \\\n",
    "                                     min_samples_leaf = min_node_size)\n",
    "gbc.fit(train_encoded, train_target.values.ravel())\n",
    "end_time = time.time()\n",
    "\n",
    "test_gbc_predicted = gbc.predict(test_encoded)"
   ]
  },
  {
   "cell_type": "code",
   "execution_count": 59,
   "metadata": {},
   "outputs": [
    {
     "name": "stdout",
     "output_type": "stream",
     "text": [
      "Accuracy on Testing Data = 58.3145%\n",
      "Precision on Testing Data = 32.5702%\n",
      "Recall on Testing Data = 40.0344%\n",
      "F1 on Testing Data = 64.4652%\n",
      "Time elapsed = 697.8 seconds\n"
     ]
    }
   ],
   "source": [
    "acc = accuracy_score(test_gbc_predicted, test_target)\n",
    "prec = precision_score(test_gbc_predicted, test_target, average = 'macro')\n",
    "rec= recall_score(test_gbc_predicted, test_target, average = 'macro')\n",
    "F1 = f1_score(test_gbc_predicted, test_target, average = 'weighted')\n",
    "\n",
    "print(\"Accuracy on Testing Data = %.4f%%\"%(100 * acc))\n",
    "print(\"Precision on Testing Data = %.4f%%\"%(100 * prec))\n",
    "print(\"Recall on Testing Data = %.4f%%\"%(100 * rec))\n",
    "print(\"F1 on Testing Data = %.4f%%\"%(100 * F1))\n",
    "print(\"Time elapsed = %.1f\"%(end_time - start_time) + \" seconds\")"
   ]
  },
  {
   "cell_type": "markdown",
   "metadata": {},
   "source": [
    "# Pass band statistics"
   ]
  },
  {
   "cell_type": "code",
   "execution_count": 111,
   "metadata": {},
   "outputs": [],
   "source": [
    "coi = ['object_id', 'passband', 'flux', 'flux_err', 'hostgal_photoz_scaled', \\\n",
    "       'hostgal_photoz_err_scaled', 'distmod_scaled', 'mwebv_scaled']\n",
    "\n",
    "train_groups = _train[coi].groupby(['object_id', 'passband']).agg({np.mean, np.std}).unstack().reset_index()\n",
    "test_groups = _test[coi].groupby(['object_id', 'passband']).agg({np.mean, np.std}).unstack().reset_index()\n",
    "\n",
    "oid_target = meta_train[['object_id', 'target']]\n",
    "\n",
    "train_groups_target = train_groups.merge(oid_target, how = \"left\", on = \"object_id\")['object_id']\n",
    "test_groups_target = test_groups.merge(oid_target, how = \"left\", on = \"object_id\")['object_id']\n",
    "\n",
    "train_groups.drop('object_id', axis = 1, inplace = True)\n",
    "test_groups.drop('object_id', axis = 1, inplace = True)\n",
    "                 \n",
    "train_groups_encoded = le.fit_transform(train_groups)\n",
    "test_groups_encoded = le.fit_transform(test_groups)"
   ]
  },
  {
   "cell_type": "markdown",
   "metadata": {},
   "source": [
    "# Random Forest #2"
   ]
  },
  {
   "cell_type": "code",
   "execution_count": 112,
   "metadata": {},
   "outputs": [
    {
     "name": "stdout",
     "output_type": "stream",
     "text": [
      "Accuracy on Testing Data = 0.0000%\n",
      "Precision on Testing Data = 0.0000%\n",
      "Recall on Testing Data = 0.0000%\n",
      "F1 on Testing Data = 0.0000%\n",
      "Time elapsed = 158.0 seconds\n"
     ]
    }
   ],
   "source": [
    "nTrees = 200\n",
    "max_depth = 10\n",
    "min_node_size = 10\n",
    "verbose = 0\n",
    "\n",
    "start_time = time.time()\n",
    "clf = RandomForestClassifier(n_estimators = nTrees, max_depth = max_depth, random_state = 0, \\\n",
    "                             verbose = verbose, min_samples_leaf = min_node_size, n_jobs = -2)\n",
    "clf.fit(train_groups_encoded, train_groups_target)\n",
    "end_time = time.time()\n",
    "\n",
    "test_rf_predicted = clf.predict(test_groups_encoded)\n",
    "\n",
    "acc = accuracy_score(test_rf_predicted, test_groups_target)\n",
    "prec = precision_score(test_rf_predicted, test_groups_target, average = 'macro')\n",
    "rec= recall_score(test_rf_predicted, test_groups_target, average = 'macro')\n",
    "F1 = f1_score(test_rf_predicted, test_groups_target, average = 'weighted')\n",
    "\n",
    "print(\"Accuracy on Testing Data = %.4f%%\"%(100 * acc))\n",
    "print(\"Precision on Testing Data = %.4f%%\"%(100 * prec))\n",
    "print(\"Recall on Testing Data = %.4f%%\"%(100 * rec))\n",
    "print(\"F1 on Testing Data = %.4f%%\"%(100 * F1))\n",
    "print(\"Time elapsed = %.1f\"%(end_time - start_time) + \" seconds\")"
   ]
  },
  {
   "cell_type": "markdown",
   "metadata": {},
   "source": [
    "# Bring in Stats"
   ]
  },
  {
   "cell_type": "code",
   "execution_count": 113,
   "metadata": {},
   "outputs": [],
   "source": [
    "train_passband_stats = pd.read_csv('train_passband_stats.csv')"
   ]
  },
  {
   "cell_type": "code",
   "execution_count": 151,
   "metadata": {},
   "outputs": [
    {
     "data": {
      "text/html": [
       "<div>\n",
       "<style scoped>\n",
       "    .dataframe tbody tr th:only-of-type {\n",
       "        vertical-align: middle;\n",
       "    }\n",
       "\n",
       "    .dataframe tbody tr th {\n",
       "        vertical-align: top;\n",
       "    }\n",
       "\n",
       "    .dataframe thead th {\n",
       "        text-align: right;\n",
       "    }\n",
       "</style>\n",
       "<table border=\"1\" class=\"dataframe\">\n",
       "  <thead>\n",
       "    <tr style=\"text-align: right;\">\n",
       "      <th></th>\n",
       "      <th>object_id</th>\n",
       "      <th>ra</th>\n",
       "      <th>decl</th>\n",
       "      <th>gal_l</th>\n",
       "      <th>gal_b</th>\n",
       "      <th>ddf</th>\n",
       "      <th>hostgal_specz</th>\n",
       "      <th>hostgal_photoz</th>\n",
       "      <th>hostgal_photoz_err</th>\n",
       "      <th>distmod</th>\n",
       "      <th>mwebv</th>\n",
       "      <th>target</th>\n",
       "    </tr>\n",
       "  </thead>\n",
       "  <tbody>\n",
       "    <tr>\n",
       "      <th>0</th>\n",
       "      <td>615</td>\n",
       "      <td>349.046051</td>\n",
       "      <td>-61.943836</td>\n",
       "      <td>320.796530</td>\n",
       "      <td>-51.753706</td>\n",
       "      <td>1</td>\n",
       "      <td>0.0000</td>\n",
       "      <td>0.0000</td>\n",
       "      <td>0.0000</td>\n",
       "      <td>NaN</td>\n",
       "      <td>0.017</td>\n",
       "      <td>92</td>\n",
       "    </tr>\n",
       "    <tr>\n",
       "      <th>1</th>\n",
       "      <td>713</td>\n",
       "      <td>53.085938</td>\n",
       "      <td>-27.784405</td>\n",
       "      <td>223.525509</td>\n",
       "      <td>-54.460748</td>\n",
       "      <td>1</td>\n",
       "      <td>1.8181</td>\n",
       "      <td>1.6267</td>\n",
       "      <td>0.2552</td>\n",
       "      <td>45.4063</td>\n",
       "      <td>0.007</td>\n",
       "      <td>88</td>\n",
       "    </tr>\n",
       "    <tr>\n",
       "      <th>2</th>\n",
       "      <td>730</td>\n",
       "      <td>33.574219</td>\n",
       "      <td>-6.579593</td>\n",
       "      <td>170.455585</td>\n",
       "      <td>-61.548219</td>\n",
       "      <td>1</td>\n",
       "      <td>0.2320</td>\n",
       "      <td>0.2262</td>\n",
       "      <td>0.0157</td>\n",
       "      <td>40.2561</td>\n",
       "      <td>0.021</td>\n",
       "      <td>42</td>\n",
       "    </tr>\n",
       "    <tr>\n",
       "      <th>3</th>\n",
       "      <td>745</td>\n",
       "      <td>0.189873</td>\n",
       "      <td>-45.586655</td>\n",
       "      <td>328.254458</td>\n",
       "      <td>-68.969298</td>\n",
       "      <td>1</td>\n",
       "      <td>0.3037</td>\n",
       "      <td>0.2813</td>\n",
       "      <td>1.1523</td>\n",
       "      <td>40.7951</td>\n",
       "      <td>0.007</td>\n",
       "      <td>90</td>\n",
       "    </tr>\n",
       "    <tr>\n",
       "      <th>4</th>\n",
       "      <td>1124</td>\n",
       "      <td>352.711273</td>\n",
       "      <td>-63.823658</td>\n",
       "      <td>316.922299</td>\n",
       "      <td>-51.059403</td>\n",
       "      <td>1</td>\n",
       "      <td>0.1934</td>\n",
       "      <td>0.2415</td>\n",
       "      <td>0.0176</td>\n",
       "      <td>40.4166</td>\n",
       "      <td>0.024</td>\n",
       "      <td>90</td>\n",
       "    </tr>\n",
       "  </tbody>\n",
       "</table>\n",
       "</div>"
      ],
      "text/plain": [
       "   object_id          ra       decl       gal_l      gal_b  ddf  \\\n",
       "0        615  349.046051 -61.943836  320.796530 -51.753706    1   \n",
       "1        713   53.085938 -27.784405  223.525509 -54.460748    1   \n",
       "2        730   33.574219  -6.579593  170.455585 -61.548219    1   \n",
       "3        745    0.189873 -45.586655  328.254458 -68.969298    1   \n",
       "4       1124  352.711273 -63.823658  316.922299 -51.059403    1   \n",
       "\n",
       "   hostgal_specz  hostgal_photoz  hostgal_photoz_err  distmod  mwebv  target  \n",
       "0         0.0000          0.0000              0.0000      NaN  0.017      92  \n",
       "1         1.8181          1.6267              0.2552  45.4063  0.007      88  \n",
       "2         0.2320          0.2262              0.0157  40.2561  0.021      42  \n",
       "3         0.3037          0.2813              1.1523  40.7951  0.007      90  \n",
       "4         0.1934          0.2415              0.0176  40.4166  0.024      90  "
      ]
     },
     "execution_count": 151,
     "metadata": {},
     "output_type": "execute_result"
    }
   ],
   "source": [
    "meta_train.head()"
   ]
  },
  {
   "cell_type": "code",
   "execution_count": 183,
   "metadata": {},
   "outputs": [],
   "source": [
    "scale = StandardScaler()\n",
    "\n",
    "meta_train.loc[np.isnan(meta_train.distmod), 'distmod'] = 1\n",
    "meta_train['mwebv_scale'] = scale.fit_transform(meta_train[['mwebv']])\n",
    "meta_train_filtered = copy.deepcopy(meta_train[['object_id', 'ra', 'decl' ,\n",
    "                                                'gal_l', 'gal_b', 'mwebv_scale']])"
   ]
  },
  {
   "cell_type": "code",
   "execution_count": 184,
   "metadata": {},
   "outputs": [],
   "source": [
    "meta_merge = meta_train_filtered.merge(train_passband_stats, how = \"left\", on = \"object_id\")"
   ]
  },
  {
   "cell_type": "code",
   "execution_count": 185,
   "metadata": {},
   "outputs": [
    {
     "data": {
      "text/plain": [
       "Index(['object_id', 'ra', 'decl', 'gal_l', 'gal_b', 'mwebv_scale',\n",
       "       'fluxmean_Y', 'fluxmean_g', 'fluxmean_i', 'fluxmean_r', 'fluxmean_u',\n",
       "       'fluxmean_z', 'fluxmin_Y', 'fluxmin_g', 'fluxmin_i', 'fluxmin_r',\n",
       "       'fluxmin_u', 'fluxmin_z', 'fluxmax_Y', 'fluxmax_g', 'fluxmax_i',\n",
       "       'fluxmax_r', 'fluxmax_u', 'fluxmax_z', 'fluxstd_Y', 'fluxstd_g',\n",
       "       'fluxstd_i', 'fluxstd_r', 'fluxstd_u', 'fluxstd_z', 'fluxsem_Y',\n",
       "       'fluxsem_g', 'fluxsem_i', 'fluxsem_r', 'fluxsem_u', 'fluxsem_z',\n",
       "       'fluxvar_Y', 'fluxvar_g', 'fluxvar_i', 'fluxvar_r', 'fluxvar_u',\n",
       "       'fluxvar_z', 'fluxskew_Y', 'fluxskew_g', 'fluxskew_i', 'fluxskew_r',\n",
       "       'fluxskew_u', 'fluxskew_z', 'fluxmad_Y', 'fluxmad_g', 'fluxmad_i',\n",
       "       'fluxmad_r', 'fluxmad_u', 'fluxmad_z', 'flux_errWeight_Y',\n",
       "       'flux_errWeight_g', 'flux_errWeight_i', 'flux_errWeight_r',\n",
       "       'flux_errWeight_u', 'flux_errWeight_z', 'target'],\n",
       "      dtype='object')"
      ]
     },
     "execution_count": 185,
     "metadata": {},
     "output_type": "execute_result"
    }
   ],
   "source": [
    "meta_merge.columns"
   ]
  },
  {
   "cell_type": "code",
   "execution_count": 186,
   "metadata": {},
   "outputs": [],
   "source": [
    "meta_merge['luminosity_Y'] = 4 * np.pi * (meta_merge['fluxmean_Y'] ** 2)\n",
    "meta_merge['luminosity_g'] = 4 * np.pi * (meta_merge['fluxmean_g'] ** 2)\n",
    "meta_merge['luminosity_i'] = 4 * np.pi * (meta_merge['fluxmean_i'] ** 2)\n",
    "meta_merge['luminosity_r'] = 4 * np.pi * (meta_merge['fluxmean_r'] ** 2)\n",
    "meta_merge['luminosity_u'] = 4 * np.pi * (meta_merge['fluxmean_u'] ** 2)\n",
    "meta_merge['luminosity_z'] = 4 * np.pi * (meta_merge['fluxmean_z'] ** 2)"
   ]
  },
  {
   "cell_type": "code",
   "execution_count": 202,
   "metadata": {},
   "outputs": [],
   "source": [
    "meta_merge_copy = copy.deepcopy(meta_merge)\n",
    "\n",
    "meta_merge_copy.drop('object_id', inplace = True, axis = 1)\n",
    "\n",
    "le =  ce.OneHotEncoder(return_df = True, impute_missing = False, handle_unknown = \"ignore\")\n",
    "\n",
    "meta_merge_target = meta_merge_copy['target']\n",
    "meta_merge_feature = meta_merge_copy[meta_merge_copy.columns.drop('target')]\n",
    "\n",
    "encoded_train = le.fit_transform(meta_merge_feature)\n",
    "\n",
    "encoded_train.fillna(0, inplace = True)\n",
    "\n",
    "feature_train, feature_test, target_train, target_test = train_test_split(\n",
    "    encoded_train, \n",
    "    meta_merge_target,\n",
    "    random_state = 42,\n",
    "    test_size = 0.2,\n",
    "    shuffle=True)"
   ]
  },
  {
   "cell_type": "code",
   "execution_count": 204,
   "metadata": {},
   "outputs": [
    {
     "name": "stdout",
     "output_type": "stream",
     "text": [
      "Accuracy on Testing Data = 68.2803%\n",
      "Precision on Testing Data = 50.6736%\n",
      "Recall on Testing Data = 61.4147%\n",
      "F1 on Testing Data = 72.1825%\n",
      "Time elapsed = 4.2 seconds\n"
     ]
    }
   ],
   "source": [
    "nTrees = 200\n",
    "max_depth = 12\n",
    "min_node_size = 5\n",
    "verbose = 0\n",
    "\n",
    "start_time = time.time()\n",
    "clf = RandomForestClassifier(n_estimators = nTrees, max_depth = max_depth, random_state = 0, \\\n",
    "                             verbose = verbose, min_samples_leaf = min_node_size, n_jobs = -2)\n",
    "clf.fit(feature_train, target_train)\n",
    "end_time = time.time()\n",
    "\n",
    "test_rf_predicted = clf.predict(feature_test)\n",
    "\n",
    "acc = accuracy_score(test_rf_predicted, target_test)\n",
    "prec = precision_score(test_rf_predicted, target_test, average = 'macro')\n",
    "rec= recall_score(test_rf_predicted, target_test, average = 'macro')\n",
    "F1 = f1_score(test_rf_predicted, target_test, average = 'weighted')\n",
    "\n",
    "print(\"Accuracy on Testing Data = %.4f%%\"%(100 * acc))\n",
    "print(\"Precision on Testing Data = %.4f%%\"%(100 * prec))\n",
    "print(\"Recall on Testing Data = %.4f%%\"%(100 * rec))\n",
    "print(\"F1 on Testing Data = %.4f%%\"%(100 * F1))\n",
    "print(\"Time elapsed = %.1f\"%(end_time - start_time) + \" seconds\")"
   ]
  },
  {
   "cell_type": "code",
   "execution_count": 220,
   "metadata": {},
   "outputs": [
    {
     "data": {
      "text/plain": [
       "<matplotlib.axes._subplots.AxesSubplot at 0x1a1bc5e668>"
      ]
     },
     "execution_count": 220,
     "metadata": {},
     "output_type": "execute_result"
    },
    {
     "data": {
      "image/png": "[encoded data removed]",
      "text/plain": [
       "<matplotlib.figure.Figure at 0x1a33c3eb38>"
      ]
     },
     "metadata": {},
     "output_type": "display_data"
    }
   ],
   "source": [
    "feature_importance = list(clf.feature_importances_)\n",
    "feature_names = list(feature_train.columns)\n",
    "lenFeats = feature_train.shape[1]-1\n",
    "top_features = lenFeats\n",
    "sorted_index= sorted(range(len(feature_importance)), key=lambda k: feature_importance[k], reverse=True)\n",
    "top_feature_importance = [feature_importance[i] for i in sorted_index[0:top_features]]\n",
    "top_feature_names = [feature_names[i] for i in sorted_index[0:top_features]]\n",
    "\n",
    "plt.figure(figsize=(10, 25))\n",
    "imp_df = pd.DataFrame()\n",
    "imp_df['feature'] = top_feature_names\n",
    "imp_df['gain'] = clf.feature_importances_[0:lenFeats]\n",
    "#imp_df\n",
    "sns.barplot(x='gain', y='feature', data=imp_df.sort_values('gain', ascending=False))"
   ]
  },
  {
   "cell_type": "code",
   "execution_count": null,
   "metadata": {},
   "outputs": [],
   "source": []
  }
 ],
 "metadata": {
  "kernelspec": {
   "display_name": "Python 3",
   "language": "python",
   "name": "python3"
  },
  "language_info": {
   "codemirror_mode": {
    "name": "ipython",
    "version": 3
   },
   "file_extension": ".py",
   "mimetype": "text/x-python",
   "name": "python",
   "nbconvert_exporter": "python",
   "pygments_lexer": "ipython3",
   "version": "3.6.4"
  }
 },
 "nbformat": 4,
 "nbformat_minor": 2
}
