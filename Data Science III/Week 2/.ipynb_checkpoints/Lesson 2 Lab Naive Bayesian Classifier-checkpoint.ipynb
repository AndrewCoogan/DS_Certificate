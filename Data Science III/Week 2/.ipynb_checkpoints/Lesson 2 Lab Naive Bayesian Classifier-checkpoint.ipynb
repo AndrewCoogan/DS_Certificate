{
 "cells": [
  {
   "cell_type": "markdown",
   "metadata": {},
   "source": [
    "### NBC on Iris Data"
   ]
  },
  {
   "cell_type": "markdown",
   "metadata": {},
   "source": [
    "Iris data has four feature columns. All features are numerical. You can directly apply Naive Bayesian Classifier in scikit-learn to train the model. "
   ]
  },
  {
   "cell_type": "code",
   "execution_count": 1,
   "metadata": {},
   "outputs": [
    {
     "name": "stderr",
     "output_type": "stream",
     "text": [
      "/anaconda3/lib/python3.6/importlib/_bootstrap.py:219: RuntimeWarning: numpy.dtype size changed, may indicate binary incompatibility. Expected 96, got 88\n",
      "  return f(*args, **kwds)\n",
      "/anaconda3/lib/python3.6/importlib/_bootstrap.py:219: RuntimeWarning: numpy.dtype size changed, may indicate binary incompatibility. Expected 96, got 88\n",
      "  return f(*args, **kwds)\n",
      "/anaconda3/lib/python3.6/importlib/_bootstrap.py:219: RuntimeWarning: numpy.dtype size changed, may indicate binary incompatibility. Expected 96, got 88\n",
      "  return f(*args, **kwds)\n",
      "/anaconda3/lib/python3.6/importlib/_bootstrap.py:219: RuntimeWarning: numpy.dtype size changed, may indicate binary incompatibility. Expected 96, got 88\n",
      "  return f(*args, **kwds)\n"
     ]
    },
    {
     "name": "stdout",
     "output_type": "stream",
     "text": [
      "[[5.1 3.5 1.4 0.2]\n",
      " [4.9 3.  1.4 0.2]\n",
      " [4.7 3.2 1.3 0.2]\n",
      " [4.6 3.1 1.5 0.2]\n",
      " [5.  3.6 1.4 0.2]\n",
      " [5.4 3.9 1.7 0.4]\n",
      " [4.6 3.4 1.4 0.3]\n",
      " [5.  3.4 1.5 0.2]\n",
      " [4.4 2.9 1.4 0.2]\n",
      " [4.9 3.1 1.5 0.1]]\n",
      "[0 0 0 0 0 0 0 0 0 0]\n"
     ]
    }
   ],
   "source": [
    "from sklearn import datasets\n",
    "import numpy as np\n",
    "\n",
    "iris = datasets.load_iris()\n",
    "print(iris.data[0:10,:])\n",
    "print(iris.target[0:10])"
   ]
  },
  {
   "cell_type": "markdown",
   "metadata": {},
   "source": [
    "#### Split the Data into Training and Testing"
   ]
  },
  {
   "cell_type": "code",
   "execution_count": 2,
   "metadata": {},
   "outputs": [],
   "source": [
    "msk = np.random.rand(iris.data.shape[0]) <= 0.8 # Split the data into training and validation\n",
    "iris_train = iris.data[msk, :]\n",
    "iris_train_target = iris.target[msk]\n",
    "iris_test = iris.data[~msk, :]\n",
    "iris_test_target = iris.target[~msk]"
   ]
  },
  {
   "cell_type": "markdown",
   "metadata": {},
   "source": [
    "#### Train a Naive Bayesian Classification Model"
   ]
  },
  {
   "cell_type": "code",
   "execution_count": 3,
   "metadata": {},
   "outputs": [],
   "source": [
    "from sklearn.naive_bayes import GaussianNB\n",
    "gnb = GaussianNB()\n",
    "gnb_model = gnb.fit(iris_train, iris_train_target)"
   ]
  },
  {
   "cell_type": "markdown",
   "metadata": {},
   "source": [
    "#### Predict the Testing Data and Evaluate Its Performance"
   ]
  },
  {
   "cell_type": "code",
   "execution_count": 4,
   "metadata": {},
   "outputs": [
    {
     "name": "stdout",
     "output_type": "stream",
     "text": [
      "Number of mislabeled points out of a total 28 points : 1\n",
      "Accuracy = 96.43\n"
     ]
    }
   ],
   "source": [
    "y_pred = gnb_model.predict(iris_test)\n",
    "misclassified_points = (iris_test_target != y_pred).sum()\n",
    "print(\"Number of mislabeled points out of a total %d points : %d\"\\\n",
    "      % (iris_test.shape[0], misclassified_points))\n",
    "print(\"Accuracy = %.2f\"%(round((iris_test.shape[0] - float(misclassified_points))/iris_test.shape[0]*100,2)))"
   ]
  },
  {
   "cell_type": "markdown",
   "metadata": {},
   "source": [
    "### NBC on Adult Income Data"
   ]
  },
  {
   "cell_type": "markdown",
   "metadata": {},
   "source": [
    "Adult Income Data has mixture data type, including categorical variables and numerical variables. In order to train Naive Bayesian Classifier, we have to do the one-hot encoding to convert the categorical variables into binary numerical variables. "
   ]
  },
  {
   "cell_type": "code",
   "execution_count": 5,
   "metadata": {},
   "outputs": [
    {
     "name": "stderr",
     "output_type": "stream",
     "text": [
      "/anaconda3/lib/python3.6/importlib/_bootstrap.py:219: RuntimeWarning: numpy.dtype size changed, may indicate binary incompatibility. Expected 96, got 88\n",
      "  return f(*args, **kwds)\n"
     ]
    },
    {
     "name": "stdout",
     "output_type": "stream",
     "text": [
      "   age          workclass  fnlwgt   education  education_num  \\\n",
      "0   39          State-gov   77516   Bachelors             13   \n",
      "1   50   Self-emp-not-inc   83311   Bachelors             13   \n",
      "2   38            Private  215646     HS-grad              9   \n",
      "3   53            Private  234721        11th              7   \n",
      "4   28            Private  338409   Bachelors             13   \n",
      "\n",
      "        marital_status          occupation    relationship    race      sex  \\\n",
      "0        Never-married        Adm-clerical   Not-in-family   White     Male   \n",
      "1   Married-civ-spouse     Exec-managerial         Husband   White     Male   \n",
      "2             Divorced   Handlers-cleaners   Not-in-family   White     Male   \n",
      "3   Married-civ-spouse   Handlers-cleaners         Husband   Black     Male   \n",
      "4   Married-civ-spouse      Prof-specialty            Wife   Black   Female   \n",
      "\n",
      "   capital_gain  capital_loss  hours_per_week  native_country  income  \n",
      "0          2174             0              40   United-States   <=50K  \n",
      "1             0             0              13   United-States   <=50K  \n",
      "2             0             0              40   United-States   <=50K  \n",
      "3             0             0              40   United-States   <=50K  \n",
      "4             0             0              40            Cuba   <=50K  \n"
     ]
    },
    {
     "name": "stderr",
     "output_type": "stream",
     "text": [
      "/anaconda3/lib/python3.6/site-packages/ipykernel_launcher.py:49: FutureWarning: '.reindex_axis' is deprecated and will be removed in a future version. Use '.reindex' instead.\n"
     ]
    },
    {
     "name": "stdout",
     "output_type": "stream",
     "text": [
      "   age  workclass_cat  fnlwgt  education_cat  education_num  marital_cat  \\\n",
      "0   39              7   77516              9             13            4   \n",
      "\n",
      "   occupation_cat  relationship_cat  race_cat  sex_cat  capital_gain  \\\n",
      "0               1                 1         4        1          2174   \n",
      "\n",
      "   capital_loss  hours_per_week  native_country_cat  income  \n",
      "0             0              40                  39   <=50K  \n",
      "Number of mislabeled points out of a total 6661 points : 1286\n",
      "Accuracy = 80.69\n"
     ]
    }
   ],
   "source": [
    "import pandas as pd\n",
    "import io\n",
    "import requests\n",
    "url = \"https://archive.ics.uci.edu/ml/machine-learning-databases/adult/adult.data\"\n",
    "s = requests.get(url).content\n",
    "data = pd.read_csv(io.StringIO(s.decode('utf-8')), header=None)\n",
    "data.columns = [\"age\", \"workclass\", \"fnlwgt\", \"education\", \"education_num\", \"marital_status\", \\\n",
    "                \"occupation\", \"relationship\", \"race\", \"sex\", \"capital_gain\", \"capital_loss\", \\\n",
    "               \"hours_per_week\", \"native_country\", \"income\"]\n",
    "print(data.head())\n",
    "\n",
    "#Replace missing values with the most frequent values for each variable\n",
    "for value in ['workclass', 'education',\n",
    "          'marital_status', 'occupation',\n",
    "          'relationship','race', 'sex',\n",
    "          'native_country', 'income']:\n",
    "    data[value].replace(['?'], [data.describe(include='all')[value][2]],\n",
    "                                inplace=True)\n",
    "# One-hot encoding\n",
    "from sklearn import preprocessing\n",
    "le = preprocessing.LabelEncoder()\n",
    "workclass_cat = le.fit_transform(data.workclass)\n",
    "education_cat = le.fit_transform(data.education)\n",
    "marital_cat   = le.fit_transform(data.marital_status)\n",
    "occupation_cat = le.fit_transform(data.occupation)\n",
    "relationship_cat = le.fit_transform(data.relationship)\n",
    "race_cat = le.fit_transform(data.race)\n",
    "sex_cat = le.fit_transform(data.sex)\n",
    "native_country_cat = le.fit_transform(data.native_country)\n",
    "\n",
    "#initialize the encoded categorical columns\n",
    "data['workclass_cat'] = workclass_cat\n",
    "data['education_cat'] = education_cat\n",
    "data['marital_cat'] = marital_cat\n",
    "data['occupation_cat'] = occupation_cat\n",
    "data['relationship_cat'] = relationship_cat\n",
    "data['race_cat'] = race_cat\n",
    "data['sex_cat'] = sex_cat\n",
    "data['native_country_cat'] = native_country_cat\n",
    "\n",
    "#drop the old categorical columns from dataframe\n",
    "dummy_fields = ['workclass', 'education', 'marital_status', \n",
    "                  'occupation', 'relationship', 'race',\n",
    "                  'sex', 'native_country']\n",
    "data = data.drop(dummy_fields, axis = 1)\n",
    "\n",
    "data = data.reindex_axis(['age', 'workclass_cat', 'fnlwgt', 'education_cat',\n",
    "                                    'education_num', 'marital_cat', 'occupation_cat',\n",
    "                                    'relationship_cat', 'race_cat', 'sex_cat', 'capital_gain',\n",
    "                                    'capital_loss', 'hours_per_week', 'native_country_cat', \n",
    "                                    'income'], axis= 1)\n",
    " \n",
    "print(data.head(1))\n",
    "\n",
    "\n",
    "num_features = ['age', 'workclass_cat', 'fnlwgt', 'education_cat', 'education_num',\n",
    "                'marital_cat', 'occupation_cat', 'relationship_cat', 'race_cat',\n",
    "                'sex_cat', 'capital_gain', 'capital_loss', 'hours_per_week',\n",
    "                'native_country_cat']\n",
    " \n",
    "scaled_features = {}\n",
    "for each in num_features:\n",
    "    mean, std = data[each].mean(), data[each].std()\n",
    "    scaled_features[each] = [mean, std]\n",
    "    data.loc[:, each] = (data[each] - mean)/std\n",
    "\n",
    "msk = np.random.rand(data.shape[0]) <= 0.8\n",
    "adult_train = data.iloc[msk, 0:14]\n",
    "adult_train_target = data.iloc[msk, 14]\n",
    "adult_test = data.iloc[~msk, 0:14]\n",
    "adult_test_target = data.iloc[~msk, 14]\n",
    "\n",
    "from sklearn.naive_bayes import GaussianNB\n",
    "gnb = GaussianNB()\n",
    "gnb_model = gnb.fit(adult_train, adult_train_target)\n",
    "y_pred = gnb_model.predict(adult_test)\n",
    "misclassified_points = (adult_test_target != y_pred).sum()\n",
    "print(\"Number of mislabeled points out of a total %d points : %d\"\\\n",
    "      % (adult_test.shape[0], misclassified_points))\n",
    "print(\"Accuracy = %.2f\"%(round((adult_test.shape[0] - float(misclassified_points))/adult_test.shape[0]*100,2)))"
   ]
  },
  {
   "cell_type": "code",
   "execution_count": null,
   "metadata": {},
   "outputs": [],
   "source": []
  }
 ],
 "metadata": {
  "anaconda-cloud": {},
  "kernelspec": {
   "display_name": "Python 3",
   "language": "python",
   "name": "python3"
  },
  "language_info": {
   "codemirror_mode": {
    "name": "ipython",
    "version": 3
   },
   "file_extension": ".py",
   "mimetype": "text/x-python",
   "name": "python",
   "nbconvert_exporter": "python",
   "pygments_lexer": "ipython3",
   "version": "3.6.4"
  }
 },
 "nbformat": 4,
 "nbformat_minor": 1
}
