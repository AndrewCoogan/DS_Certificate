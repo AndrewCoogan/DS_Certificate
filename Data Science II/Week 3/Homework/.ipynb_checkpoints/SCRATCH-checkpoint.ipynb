{
 "cells": [
  {
   "cell_type": "code",
   "execution_count": 1,
   "metadata": {},
   "outputs": [],
   "source": [
    "import random"
   ]
  },
  {
   "cell_type": "code",
   "execution_count": 2,
   "metadata": {},
   "outputs": [],
   "source": [
    "tt = [\"A\", \"B\", \"C\"]"
   ]
  },
  {
   "cell_type": "code",
   "execution_count": 8,
   "metadata": {},
   "outputs": [
    {
     "name": "stdout",
     "output_type": "stream",
     "text": [
      "['A', 'B', 'C']\n",
      "['B', 'C', 'A']\n",
      "['C', 'B', 'A']\n",
      "['A', 'B', 'C']\n",
      "['B', 'A', 'C']\n",
      "['A', 'C', 'B']\n",
      "['B', 'C', 'A']\n",
      "['A', 'C', 'B']\n",
      "['A', 'B', 'C']\n"
     ]
    }
   ],
   "source": [
    "for i in range(1,10):\n",
    "    random.shuffle(tt)\n",
    "    print(tt)"
   ]
  },
  {
   "cell_type": "code",
   "execution_count": null,
   "metadata": {},
   "outputs": [],
   "source": []
  }
 ],
 "metadata": {
  "kernelspec": {
   "display_name": "Python 3",
   "language": "python",
   "name": "python3"
  },
  "language_info": {
   "codemirror_mode": {
    "name": "ipython",
    "version": 3
   },
   "file_extension": ".py",
   "mimetype": "text/x-python",
   "name": "python",
   "nbconvert_exporter": "python",
   "pygments_lexer": "ipython3",
   "version": "3.6.4"
  }
 },
 "nbformat": 4,
 "nbformat_minor": 2
}
