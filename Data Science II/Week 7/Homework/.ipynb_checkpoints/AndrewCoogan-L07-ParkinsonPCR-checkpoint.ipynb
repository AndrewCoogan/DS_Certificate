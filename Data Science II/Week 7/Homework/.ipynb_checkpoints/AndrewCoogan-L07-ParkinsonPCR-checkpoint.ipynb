{
 "cells": [
  {
   "cell_type": "markdown",
   "metadata": {},
   "source": [
    "# Lesson 7 - Parkinson PCR\n",
    "\n",
    "## Author - Andrew Coogan"
   ]
  },
  {
   "cell_type": "markdown",
   "metadata": {},
   "source": [
    "### Description:\n",
    "\n",
    "Perform Principal Component Regression on a <a href=\"https://archive.ics.uci.edu/ml/datasets/parkinsons+telemonitoring\">dataset that tracked patients with Parkinson's Disease</a>.\n",
    "\n",
    "Citation: A Tsanas, MA Little, PE McSharry, LO Ramig (2009)\n",
    "'Accurate telemonitoring of Parkinson's disease progression by non-invasive speech tests',\n",
    "IEEE Transactions on Biomedical Engineering.\n",
    "\n",
    "About the data:\n",
    "This dataset is composed of a range of biomedical voice measurements from 42 \n",
    "people with early-stage Parkinson's disease recruited to a six-month trial of \n",
    "a telemonitoring device for remote symptom progression monitoring. The \n",
    "recordings were automatically captured in the patient's homes.\n",
    "\n",
    "#### Instructions:\n",
    "\n",
    " 1. Load the dataset.\n",
    " 2. Create the X-matrix (one-hot encoding categorical factors).\n",
    " 3. Scale the X-matrix.\n",
    " 4. Create the principal components and do a simple plot of the explained variance.\n",
    " 5. PCR - Linear regression with the principal components.\n",
    "\n",
    "Report on:\n",
    "\n",
    " 1. Number of components before and after (choose a smaller number of principal components and explain how you chose them).\n",
    " 2. Interpret the adjusted R-squared."
   ]
  },
  {
   "cell_type": "code",
   "execution_count": 1,
   "metadata": {},
   "outputs": [],
   "source": [
    "filename = \"https://archive.ics.uci.edu/ml/machine-learning-databases/parkinsons/telemonitoring/parkinsons_updrs.data\""
   ]
  },
  {
   "cell_type": "code",
   "execution_count": 2,
   "metadata": {},
   "outputs": [],
   "source": [
    "import pandas as pd\n",
    "import numpy as np\n",
    "from sklearn.decomposition import PCA\n",
    "import matplotlib.pyplot as plt\n",
    "import statsmodels.formula.api as sm\n",
    "import seaborn as sns"
   ]
  },
  {
   "cell_type": "code",
   "execution_count": 3,
   "metadata": {},
   "outputs": [
    {
     "data": {
      "text/html": [
       "<div>\n",
       "<style scoped>\n",
       "    .dataframe tbody tr th:only-of-type {\n",
       "        vertical-align: middle;\n",
       "    }\n",
       "\n",
       "    .dataframe tbody tr th {\n",
       "        vertical-align: top;\n",
       "    }\n",
       "\n",
       "    .dataframe thead th {\n",
       "        text-align: right;\n",
       "    }\n",
       "</style>\n",
       "<table border=\"1\" class=\"dataframe\">\n",
       "  <thead>\n",
       "    <tr style=\"text-align: right;\">\n",
       "      <th></th>\n",
       "      <th>subject#</th>\n",
       "      <th>age</th>\n",
       "      <th>sex</th>\n",
       "      <th>test_time</th>\n",
       "      <th>motor_UPDRS</th>\n",
       "      <th>total_UPDRS</th>\n",
       "      <th>Jitter(%)</th>\n",
       "      <th>Jitter(Abs)</th>\n",
       "      <th>Jitter:RAP</th>\n",
       "      <th>Jitter:PPQ5</th>\n",
       "      <th>...</th>\n",
       "      <th>Shimmer(dB)</th>\n",
       "      <th>Shimmer:APQ3</th>\n",
       "      <th>Shimmer:APQ5</th>\n",
       "      <th>Shimmer:APQ11</th>\n",
       "      <th>Shimmer:DDA</th>\n",
       "      <th>NHR</th>\n",
       "      <th>HNR</th>\n",
       "      <th>RPDE</th>\n",
       "      <th>DFA</th>\n",
       "      <th>PPE</th>\n",
       "    </tr>\n",
       "  </thead>\n",
       "  <tbody>\n",
       "    <tr>\n",
       "      <th>0</th>\n",
       "      <td>1</td>\n",
       "      <td>72</td>\n",
       "      <td>0</td>\n",
       "      <td>5.6431</td>\n",
       "      <td>28.199</td>\n",
       "      <td>34.398</td>\n",
       "      <td>0.00662</td>\n",
       "      <td>0.000034</td>\n",
       "      <td>0.00401</td>\n",
       "      <td>0.00317</td>\n",
       "      <td>...</td>\n",
       "      <td>0.230</td>\n",
       "      <td>0.01438</td>\n",
       "      <td>0.01309</td>\n",
       "      <td>0.01662</td>\n",
       "      <td>0.04314</td>\n",
       "      <td>0.014290</td>\n",
       "      <td>21.640</td>\n",
       "      <td>0.41888</td>\n",
       "      <td>0.54842</td>\n",
       "      <td>0.16006</td>\n",
       "    </tr>\n",
       "    <tr>\n",
       "      <th>1</th>\n",
       "      <td>1</td>\n",
       "      <td>72</td>\n",
       "      <td>0</td>\n",
       "      <td>12.6660</td>\n",
       "      <td>28.447</td>\n",
       "      <td>34.894</td>\n",
       "      <td>0.00300</td>\n",
       "      <td>0.000017</td>\n",
       "      <td>0.00132</td>\n",
       "      <td>0.00150</td>\n",
       "      <td>...</td>\n",
       "      <td>0.179</td>\n",
       "      <td>0.00994</td>\n",
       "      <td>0.01072</td>\n",
       "      <td>0.01689</td>\n",
       "      <td>0.02982</td>\n",
       "      <td>0.011112</td>\n",
       "      <td>27.183</td>\n",
       "      <td>0.43493</td>\n",
       "      <td>0.56477</td>\n",
       "      <td>0.10810</td>\n",
       "    </tr>\n",
       "    <tr>\n",
       "      <th>2</th>\n",
       "      <td>1</td>\n",
       "      <td>72</td>\n",
       "      <td>0</td>\n",
       "      <td>19.6810</td>\n",
       "      <td>28.695</td>\n",
       "      <td>35.389</td>\n",
       "      <td>0.00481</td>\n",
       "      <td>0.000025</td>\n",
       "      <td>0.00205</td>\n",
       "      <td>0.00208</td>\n",
       "      <td>...</td>\n",
       "      <td>0.181</td>\n",
       "      <td>0.00734</td>\n",
       "      <td>0.00844</td>\n",
       "      <td>0.01458</td>\n",
       "      <td>0.02202</td>\n",
       "      <td>0.020220</td>\n",
       "      <td>23.047</td>\n",
       "      <td>0.46222</td>\n",
       "      <td>0.54405</td>\n",
       "      <td>0.21014</td>\n",
       "    </tr>\n",
       "    <tr>\n",
       "      <th>3</th>\n",
       "      <td>1</td>\n",
       "      <td>72</td>\n",
       "      <td>0</td>\n",
       "      <td>25.6470</td>\n",
       "      <td>28.905</td>\n",
       "      <td>35.810</td>\n",
       "      <td>0.00528</td>\n",
       "      <td>0.000027</td>\n",
       "      <td>0.00191</td>\n",
       "      <td>0.00264</td>\n",
       "      <td>...</td>\n",
       "      <td>0.327</td>\n",
       "      <td>0.01106</td>\n",
       "      <td>0.01265</td>\n",
       "      <td>0.01963</td>\n",
       "      <td>0.03317</td>\n",
       "      <td>0.027837</td>\n",
       "      <td>24.445</td>\n",
       "      <td>0.48730</td>\n",
       "      <td>0.57794</td>\n",
       "      <td>0.33277</td>\n",
       "    </tr>\n",
       "    <tr>\n",
       "      <th>4</th>\n",
       "      <td>1</td>\n",
       "      <td>72</td>\n",
       "      <td>0</td>\n",
       "      <td>33.6420</td>\n",
       "      <td>29.187</td>\n",
       "      <td>36.375</td>\n",
       "      <td>0.00335</td>\n",
       "      <td>0.000020</td>\n",
       "      <td>0.00093</td>\n",
       "      <td>0.00130</td>\n",
       "      <td>...</td>\n",
       "      <td>0.176</td>\n",
       "      <td>0.00679</td>\n",
       "      <td>0.00929</td>\n",
       "      <td>0.01819</td>\n",
       "      <td>0.02036</td>\n",
       "      <td>0.011625</td>\n",
       "      <td>26.126</td>\n",
       "      <td>0.47188</td>\n",
       "      <td>0.56122</td>\n",
       "      <td>0.19361</td>\n",
       "    </tr>\n",
       "  </tbody>\n",
       "</table>\n",
       "<p>5 rows × 22 columns</p>\n",
       "</div>"
      ],
      "text/plain": [
       "   subject#  age  sex  test_time  motor_UPDRS  total_UPDRS  Jitter(%)  \\\n",
       "0         1   72    0     5.6431       28.199       34.398    0.00662   \n",
       "1         1   72    0    12.6660       28.447       34.894    0.00300   \n",
       "2         1   72    0    19.6810       28.695       35.389    0.00481   \n",
       "3         1   72    0    25.6470       28.905       35.810    0.00528   \n",
       "4         1   72    0    33.6420       29.187       36.375    0.00335   \n",
       "\n",
       "   Jitter(Abs)  Jitter:RAP  Jitter:PPQ5   ...     Shimmer(dB)  Shimmer:APQ3  \\\n",
       "0     0.000034     0.00401      0.00317   ...           0.230       0.01438   \n",
       "1     0.000017     0.00132      0.00150   ...           0.179       0.00994   \n",
       "2     0.000025     0.00205      0.00208   ...           0.181       0.00734   \n",
       "3     0.000027     0.00191      0.00264   ...           0.327       0.01106   \n",
       "4     0.000020     0.00093      0.00130   ...           0.176       0.00679   \n",
       "\n",
       "   Shimmer:APQ5  Shimmer:APQ11  Shimmer:DDA       NHR     HNR     RPDE  \\\n",
       "0       0.01309        0.01662      0.04314  0.014290  21.640  0.41888   \n",
       "1       0.01072        0.01689      0.02982  0.011112  27.183  0.43493   \n",
       "2       0.00844        0.01458      0.02202  0.020220  23.047  0.46222   \n",
       "3       0.01265        0.01963      0.03317  0.027837  24.445  0.48730   \n",
       "4       0.00929        0.01819      0.02036  0.011625  26.126  0.47188   \n",
       "\n",
       "       DFA      PPE  \n",
       "0  0.54842  0.16006  \n",
       "1  0.56477  0.10810  \n",
       "2  0.54405  0.21014  \n",
       "3  0.57794  0.33277  \n",
       "4  0.56122  0.19361  \n",
       "\n",
       "[5 rows x 22 columns]"
      ]
     },
     "execution_count": 3,
     "metadata": {},
     "output_type": "execute_result"
    }
   ],
   "source": [
    "parkinsons_df = pd.read_csv(filename)\n",
    "parkinsons_df.head()"
   ]
  },
  {
   "cell_type": "code",
   "execution_count": 4,
   "metadata": {},
   "outputs": [
    {
     "data": {
      "text/plain": [
       "Index(['subject#', 'age', 'sex', 'test_time', 'motor_UPDRS', 'total_UPDRS',\n",
       "       'Jitter(%)', 'Jitter(Abs)', 'Jitter:RAP', 'Jitter:PPQ5', 'Jitter:DDP',\n",
       "       'Shimmer', 'Shimmer(dB)', 'Shimmer:APQ3', 'Shimmer:APQ5',\n",
       "       'Shimmer:APQ11', 'Shimmer:DDA', 'NHR', 'HNR', 'RPDE', 'DFA', 'PPE'],\n",
       "      dtype='object')"
      ]
     },
     "execution_count": 4,
     "metadata": {},
     "output_type": "execute_result"
    }
   ],
   "source": [
    "parkinsons_df.columns"
   ]
  },
  {
   "cell_type": "code",
   "execution_count": 5,
   "metadata": {},
   "outputs": [
    {
     "name": "stdout",
     "output_type": "stream",
     "text": [
      "DataFrame one-hot-expanded shape: (5875, 17)\n"
     ]
    }
   ],
   "source": [
    "# Define the target and features:\n",
    "target_label = 'total_UPDRS'\n",
    "non_features = ['subject#', 'age', 'sex', 'test_time', 'motor_UPDRS']\n",
    "feature_labels = [x for x in parkinsons_df.columns if x not in [target_label] + non_features]\n",
    "\n",
    "# Filter out non-features and non-targets\n",
    "parkinsons_df = parkinsons_df.drop(non_features, axis=1)\n",
    "\n",
    "# One-hot encode inputs\n",
    "parkinsons_expanded = pd.get_dummies(parkinsons_df, drop_first=True)\n",
    "print('DataFrame one-hot-expanded shape: {}'.format(parkinsons_expanded.shape))\n",
    "\n",
    "# Get target and original x-matrix\n",
    "y = parkinsons_df[target_label]\n",
    "X = parkinsons_df.as_matrix(columns=feature_labels)"
   ]
  },
  {
   "cell_type": "code",
   "execution_count": 6,
   "metadata": {},
   "outputs": [],
   "source": [
    "# Scale function\n",
    "def scale(col):\n",
    "    mean_col = np.mean(col)\n",
    "    sd_col = np.std(col)\n",
    "    std = (col - mean_col) / sd_col\n",
    "    return std"
   ]
  },
  {
   "cell_type": "code",
   "execution_count": 7,
   "metadata": {},
   "outputs": [],
   "source": [
    "# Scale all columns first\n",
    "parkinson_scaled = parkinsons_expanded.apply(scale, axis = 1)\n",
    "\n",
    "# Create x-scaled (look into the function np.apply_along_axis to apply 'scale' function to each column)\n",
    "x_scaled = np.apply_along_axis(scale, 0, X)\n",
    "\n",
    "# Create a scaled y-target\n",
    "y_scaled = np.apply_along_axis(scale, 0, y)"
   ]
  },
  {
   "cell_type": "code",
   "execution_count": 8,
   "metadata": {},
   "outputs": [],
   "source": [
    "# PCR!!\n",
    "pca = PCA(n_components = 16)\n",
    "pca_result = pca.fit_transform(x_scaled)\n",
    "\n",
    "column_names = ['pc' + str(ix+1) for ix in range(x_scaled.shape[1])]\n",
    "pca_df = pd.DataFrame(data = pca_result, columns=column_names)\n",
    "pca_df[target_label] = y_scaled"
   ]
  },
  {
   "cell_type": "code",
   "execution_count": 9,
   "metadata": {},
   "outputs": [
    {
     "data": {
      "text/html": [
       "<div>\n",
       "<style scoped>\n",
       "    .dataframe tbody tr th:only-of-type {\n",
       "        vertical-align: middle;\n",
       "    }\n",
       "\n",
       "    .dataframe tbody tr th {\n",
       "        vertical-align: top;\n",
       "    }\n",
       "\n",
       "    .dataframe thead th {\n",
       "        text-align: right;\n",
       "    }\n",
       "</style>\n",
       "<table border=\"1\" class=\"dataframe\">\n",
       "  <thead>\n",
       "    <tr style=\"text-align: right;\">\n",
       "      <th></th>\n",
       "      <th>pc1</th>\n",
       "      <th>pc2</th>\n",
       "      <th>pc3</th>\n",
       "      <th>pc4</th>\n",
       "      <th>pc5</th>\n",
       "      <th>pc6</th>\n",
       "      <th>pc7</th>\n",
       "      <th>pc8</th>\n",
       "      <th>pc9</th>\n",
       "      <th>pc10</th>\n",
       "      <th>pc11</th>\n",
       "      <th>pc12</th>\n",
       "      <th>pc13</th>\n",
       "      <th>pc14</th>\n",
       "      <th>pc15</th>\n",
       "      <th>pc16</th>\n",
       "      <th>total_UPDRS</th>\n",
       "    </tr>\n",
       "  </thead>\n",
       "  <tbody>\n",
       "    <tr>\n",
       "      <th>0</th>\n",
       "      <td>-0.978108</td>\n",
       "      <td>-0.057540</td>\n",
       "      <td>1.760088</td>\n",
       "      <td>-0.049483</td>\n",
       "      <td>-0.476558</td>\n",
       "      <td>0.376887</td>\n",
       "      <td>-0.561067</td>\n",
       "      <td>0.635614</td>\n",
       "      <td>0.339977</td>\n",
       "      <td>0.039112</td>\n",
       "      <td>-0.027261</td>\n",
       "      <td>-0.024319</td>\n",
       "      <td>0.001029</td>\n",
       "      <td>0.031725</td>\n",
       "      <td>0.000752</td>\n",
       "      <td>0.000007</td>\n",
       "      <td>0.502745</td>\n",
       "    </tr>\n",
       "    <tr>\n",
       "      <th>1</th>\n",
       "      <td>-2.601857</td>\n",
       "      <td>0.553154</td>\n",
       "      <td>1.487455</td>\n",
       "      <td>0.058596</td>\n",
       "      <td>0.066572</td>\n",
       "      <td>0.170468</td>\n",
       "      <td>0.215560</td>\n",
       "      <td>-0.165989</td>\n",
       "      <td>0.122985</td>\n",
       "      <td>-0.018919</td>\n",
       "      <td>-0.003925</td>\n",
       "      <td>0.052872</td>\n",
       "      <td>-0.011968</td>\n",
       "      <td>0.024268</td>\n",
       "      <td>-0.000761</td>\n",
       "      <td>-0.000007</td>\n",
       "      <td>0.549103</td>\n",
       "    </tr>\n",
       "    <tr>\n",
       "      <th>2</th>\n",
       "      <td>-1.939773</td>\n",
       "      <td>-0.115513</td>\n",
       "      <td>1.205962</td>\n",
       "      <td>-0.687477</td>\n",
       "      <td>-0.856751</td>\n",
       "      <td>-0.136187</td>\n",
       "      <td>-0.139529</td>\n",
       "      <td>0.228277</td>\n",
       "      <td>0.088253</td>\n",
       "      <td>0.041748</td>\n",
       "      <td>-0.079120</td>\n",
       "      <td>-0.015546</td>\n",
       "      <td>-0.059301</td>\n",
       "      <td>-0.002890</td>\n",
       "      <td>0.000743</td>\n",
       "      <td>0.000004</td>\n",
       "      <td>0.595367</td>\n",
       "    </tr>\n",
       "    <tr>\n",
       "      <th>3</th>\n",
       "      <td>-1.022993</td>\n",
       "      <td>-0.103017</td>\n",
       "      <td>0.533406</td>\n",
       "      <td>-0.508542</td>\n",
       "      <td>-1.541859</td>\n",
       "      <td>-0.189726</td>\n",
       "      <td>0.583599</td>\n",
       "      <td>-0.088389</td>\n",
       "      <td>-0.618057</td>\n",
       "      <td>0.102112</td>\n",
       "      <td>-0.265533</td>\n",
       "      <td>-0.024285</td>\n",
       "      <td>0.001197</td>\n",
       "      <td>-0.182390</td>\n",
       "      <td>-0.000022</td>\n",
       "      <td>0.000180</td>\n",
       "      <td>0.634716</td>\n",
       "    </tr>\n",
       "    <tr>\n",
       "      <th>4</th>\n",
       "      <td>-2.475704</td>\n",
       "      <td>0.230181</td>\n",
       "      <td>0.960314</td>\n",
       "      <td>-0.476941</td>\n",
       "      <td>-0.604783</td>\n",
       "      <td>-0.080478</td>\n",
       "      <td>0.417343</td>\n",
       "      <td>-0.175978</td>\n",
       "      <td>0.016228</td>\n",
       "      <td>0.004227</td>\n",
       "      <td>-0.036416</td>\n",
       "      <td>0.009636</td>\n",
       "      <td>-0.068263</td>\n",
       "      <td>0.004084</td>\n",
       "      <td>-0.000762</td>\n",
       "      <td>0.000172</td>\n",
       "      <td>0.687522</td>\n",
       "    </tr>\n",
       "  </tbody>\n",
       "</table>\n",
       "</div>"
      ],
      "text/plain": [
       "        pc1       pc2       pc3       pc4       pc5       pc6       pc7  \\\n",
       "0 -0.978108 -0.057540  1.760088 -0.049483 -0.476558  0.376887 -0.561067   \n",
       "1 -2.601857  0.553154  1.487455  0.058596  0.066572  0.170468  0.215560   \n",
       "2 -1.939773 -0.115513  1.205962 -0.687477 -0.856751 -0.136187 -0.139529   \n",
       "3 -1.022993 -0.103017  0.533406 -0.508542 -1.541859 -0.189726  0.583599   \n",
       "4 -2.475704  0.230181  0.960314 -0.476941 -0.604783 -0.080478  0.417343   \n",
       "\n",
       "        pc8       pc9      pc10      pc11      pc12      pc13      pc14  \\\n",
       "0  0.635614  0.339977  0.039112 -0.027261 -0.024319  0.001029  0.031725   \n",
       "1 -0.165989  0.122985 -0.018919 -0.003925  0.052872 -0.011968  0.024268   \n",
       "2  0.228277  0.088253  0.041748 -0.079120 -0.015546 -0.059301 -0.002890   \n",
       "3 -0.088389 -0.618057  0.102112 -0.265533 -0.024285  0.001197 -0.182390   \n",
       "4 -0.175978  0.016228  0.004227 -0.036416  0.009636 -0.068263  0.004084   \n",
       "\n",
       "       pc15      pc16  total_UPDRS  \n",
       "0  0.000752  0.000007     0.502745  \n",
       "1 -0.000761 -0.000007     0.549103  \n",
       "2  0.000743  0.000004     0.595367  \n",
       "3 -0.000022  0.000180     0.634716  \n",
       "4 -0.000762  0.000172     0.687522  "
      ]
     },
     "execution_count": 9,
     "metadata": {},
     "output_type": "execute_result"
    }
   ],
   "source": [
    "pca_df.head()"
   ]
  },
  {
   "cell_type": "code",
   "execution_count": 10,
   "metadata": {},
   "outputs": [
    {
     "data": {
      "text/plain": [
       "Text(0,0.5,'Explained Variance')"
      ]
     },
     "execution_count": 10,
     "metadata": {},
     "output_type": "execute_result"
    },
    {
     "data": {
      "image/png": "[encoded data removed]",
      "text/plain": [
       "<matplotlib.figure.Figure at 0x10b0adf60>"
      ]
     },
     "metadata": {},
     "output_type": "display_data"
    }
   ],
   "source": [
    "# Plot the explained variance for all 111 principal components\n",
    "# Note: If the first value is too large, it may dwarf how the rest look.\n",
    "#   You may consider plotting starting with the 2nd value (python index at 1)\n",
    "plt.plot(pca_df.iloc[:,2:15])\n",
    "plt.title('Explained variance by Principal Component Num')\n",
    "plt.xlabel('Principal Component')\n",
    "plt.ylabel('Explained Variance')"
   ]
  },
  {
   "cell_type": "code",
   "execution_count": 11,
   "metadata": {},
   "outputs": [
    {
     "name": "stdout",
     "output_type": "stream",
     "text": [
      "                            OLS Regression Results                            \n",
      "==============================================================================\n",
      "Dep. Variable:            total_UPDRS   R-squared:                       0.101\n",
      "Model:                            OLS   Adj. R-squared:                  0.098\n",
      "Method:                 Least Squares   F-statistic:                     40.94\n",
      "Date:                Thu, 09 Aug 2018   Prob (F-statistic):          5.85e-122\n",
      "Time:                        19:55:22   Log-Likelihood:                -8024.9\n",
      "No. Observations:                5875   AIC:                         1.608e+04\n",
      "Df Residuals:                    5858   BIC:                         1.620e+04\n",
      "Df Model:                          16                                         \n",
      "Covariance Type:            nonrobust                                         \n",
      "==============================================================================\n",
      "                 coef    std err          t      P>|t|      [0.025      0.975]\n",
      "------------------------------------------------------------------------------\n",
      "Intercept   4.011e-16      0.012   3.24e-14      1.000      -0.024       0.024\n",
      "pc1            0.0309      0.004      8.379      0.000       0.024       0.038\n",
      "pc2            0.0328      0.010      3.426      0.001       0.014       0.052\n",
      "pc3           -0.0230      0.011     -2.066      0.039      -0.045      -0.001\n",
      "pc4           -0.2295      0.014    -16.197      0.000      -0.257      -0.202\n",
      "pc5           -0.2666      0.022    -11.967      0.000      -0.310      -0.223\n",
      "pc6           -0.0037      0.026     -0.140      0.889      -0.055       0.048\n",
      "pc7            0.0837      0.030      2.809      0.005       0.025       0.142\n",
      "pc8            0.3429      0.031     11.129      0.000       0.282       0.403\n",
      "pc9            0.1857      0.039      4.811      0.000       0.110       0.261\n",
      "pc10           0.0543      0.059      0.914      0.361      -0.062       0.171\n",
      "pc11          -0.1012      0.087     -1.164      0.245      -0.272       0.069\n",
      "pc12           0.1406      0.105      1.343      0.179      -0.065       0.346\n",
      "pc13          -0.0223      0.133     -0.167      0.867      -0.283       0.239\n",
      "pc14           0.3171      0.185      1.710      0.087      -0.046       0.681\n",
      "pc15          21.3658     20.159      1.060      0.289     -18.152      60.884\n",
      "pc16         -43.5940     85.821     -0.508      0.611    -211.835     124.647\n",
      "==============================================================================\n",
      "Omnibus:                      169.060   Durbin-Watson:                   0.138\n",
      "Prob(Omnibus):                  0.000   Jarque-Bera (JB):              179.247\n",
      "Skew:                           0.415   Prob(JB):                     1.19e-39\n",
      "Kurtosis:                       2.795   Cond. No.                     2.32e+04\n",
      "==============================================================================\n",
      "\n",
      "Warnings:\n",
      "[1] Standard Errors assume that the covariance matrix of the errors is correctly specified.\n",
      "[2] The condition number is large, 2.32e+04. This might indicate that there are\n",
      "strong multicollinearity or other numerical problems.\n"
     ]
    },
    {
     "data": {
      "text/plain": [
       "Text(0.5,1,'Residual Histogram')"
      ]
     },
     "execution_count": 11,
     "metadata": {},
     "output_type": "execute_result"
    },
    {
     "data": {
      "image/png": "[encoded data removed]",
      "text/plain": [
       "<matplotlib.figure.Figure at 0x10b088828>"
      ]
     },
     "metadata": {},
     "output_type": "display_data"
    }
   ],
   "source": [
    "# Perform linear regression with the first N columns\n",
    "n = 16\n",
    "formula_start = target_label + ' ~ '\n",
    "formula_terms = ['pc' + str(x+1) for x in range(n)]\n",
    "formula_end = ' + '.join(formula_terms)\n",
    "formula_final = formula_start + formula_end\n",
    "\n",
    "pcr_model = sm.ols(formula = formula_final, data=pca_df)\n",
    "\n",
    "results = pcr_model.fit()\n",
    "\n",
    "# Get most of the linear regression statistics we are interested in:\n",
    "print(results.summary())\n",
    "\n",
    "# Plot a histogram of the residuals\n",
    "sns.distplot(results.resid, hist=True)\n",
    "plt.xlabel('Residual')\n",
    "plt.ylabel('Frequency')\n",
    "plt.title('Residual Histogram')"
   ]
  },
  {
   "cell_type": "markdown",
   "metadata": {},
   "source": [
    "Lets look at principal component 1, 4, 5, 8, 9 first.  These have the smallest P > |t| values."
   ]
  },
  {
   "cell_type": "code",
   "execution_count": 12,
   "metadata": {},
   "outputs": [
    {
     "name": "stdout",
     "output_type": "stream",
     "text": [
      "                            OLS Regression Results                            \n",
      "==============================================================================\n",
      "Dep. Variable:            total_UPDRS   R-squared:                       0.096\n",
      "Model:                            OLS   Adj. R-squared:                  0.095\n",
      "Method:                 Least Squares   F-statistic:                     124.1\n",
      "Date:                Thu, 09 Aug 2018   Prob (F-statistic):          2.92e-125\n",
      "Time:                        19:55:22   Log-Likelihood:                -8041.0\n",
      "No. Observations:                5875   AIC:                         1.609e+04\n",
      "Df Residuals:                    5869   BIC:                         1.613e+04\n",
      "Df Model:                           5                                         \n",
      "Covariance Type:            nonrobust                                         \n",
      "==============================================================================\n",
      "                 coef    std err          t      P>|t|      [0.025      0.975]\n",
      "------------------------------------------------------------------------------\n",
      "Intercept  -6.888e-16      0.012  -5.55e-14      1.000      -0.024       0.024\n",
      "pc1            0.0309      0.004      8.364      0.000       0.024       0.038\n",
      "pc4           -0.2295      0.014    -16.168      0.000      -0.257      -0.202\n",
      "pc5           -0.2666      0.022    -11.945      0.000      -0.310      -0.223\n",
      "pc8            0.3429      0.031     11.109      0.000       0.282       0.403\n",
      "pc9            0.1857      0.039      4.802      0.000       0.110       0.261\n",
      "==============================================================================\n",
      "Omnibus:                      166.771   Durbin-Watson:                   0.134\n",
      "Prob(Omnibus):                  0.000   Jarque-Bera (JB):              178.198\n",
      "Skew:                           0.418   Prob(JB):                     2.02e-39\n",
      "Kurtosis:                       2.826   Cond. No.                         10.5\n",
      "==============================================================================\n",
      "\n",
      "Warnings:\n",
      "[1] Standard Errors assume that the covariance matrix of the errors is correctly specified.\n"
     ]
    },
    {
     "data": {
      "text/plain": [
       "Text(0.5,1,'Residual Histogram')"
      ]
     },
     "execution_count": 12,
     "metadata": {},
     "output_type": "execute_result"
    },
    {
     "data": {
      "image/png": "[encoded data removed]",
      "text/plain": [
       "<matplotlib.figure.Figure at 0x1a188d9470>"
      ]
     },
     "metadata": {},
     "output_type": "display_data"
    }
   ],
   "source": [
    "pcr_model = sm.ols(formula = 'total_UPDRS ~ pc1 + pc4 + pc5 + pc8 + pc9', data=pca_df)\n",
    "\n",
    "results = pcr_model.fit()\n",
    "\n",
    "# Get most of the linear regression statistics we are interested in:\n",
    "print(results.summary())\n",
    "\n",
    "# Plot a histogram of the residuals\n",
    "sns.distplot(results.resid, hist=True)\n",
    "plt.xlabel('Residual')\n",
    "plt.ylabel('Frequency')\n",
    "plt.title('Residual Histogram')"
   ]
  },
  {
   "cell_type": "markdown",
   "metadata": {},
   "source": [
    "Hmmm... that had a worse R-Squared value.  Lets try a different principal component combination of 1, 2, 3, 4, 5"
   ]
  },
  {
   "cell_type": "code",
   "execution_count": 13,
   "metadata": {},
   "outputs": [
    {
     "name": "stdout",
     "output_type": "stream",
     "text": [
      "                            OLS Regression Results                            \n",
      "==============================================================================\n",
      "Dep. Variable:            total_UPDRS   R-squared:                       0.076\n",
      "Model:                            OLS   Adj. R-squared:                  0.075\n",
      "Method:                 Least Squares   F-statistic:                     95.87\n",
      "Date:                Thu, 09 Aug 2018   Prob (F-statistic):           2.21e-97\n",
      "Time:                        19:55:23   Log-Likelihood:                -8105.6\n",
      "No. Observations:                5875   AIC:                         1.622e+04\n",
      "Df Residuals:                    5869   BIC:                         1.626e+04\n",
      "Df Model:                           5                                         \n",
      "Covariance Type:            nonrobust                                         \n",
      "==============================================================================\n",
      "                 coef    std err          t      P>|t|      [0.025      0.975]\n",
      "------------------------------------------------------------------------------\n",
      "Intercept  -6.888e-16      0.013  -5.49e-14      1.000      -0.025       0.025\n",
      "pc1            0.0309      0.004      8.273      0.000       0.024       0.038\n",
      "pc2            0.0328      0.010      3.383      0.001       0.014       0.052\n",
      "pc3           -0.0230      0.011     -2.040      0.041      -0.045      -0.001\n",
      "pc4           -0.2295      0.014    -15.991      0.000      -0.258      -0.201\n",
      "pc5           -0.2666      0.023    -11.815      0.000      -0.311      -0.222\n",
      "==============================================================================\n",
      "Omnibus:                      186.411   Durbin-Watson:                   0.103\n",
      "Prob(Omnibus):                  0.000   Jarque-Bera (JB):              200.054\n",
      "Skew:                           0.441   Prob(JB):                     3.62e-44\n",
      "Kurtosis:                       2.803   Cond. No.                         6.03\n",
      "==============================================================================\n",
      "\n",
      "Warnings:\n",
      "[1] Standard Errors assume that the covariance matrix of the errors is correctly specified.\n"
     ]
    },
    {
     "data": {
      "text/plain": [
       "Text(0.5,1,'Residual Histogram')"
      ]
     },
     "execution_count": 13,
     "metadata": {},
     "output_type": "execute_result"
    },
    {
     "data": {
      "image/png": "[encoded data removed]",
      "text/plain": [
       "<matplotlib.figure.Figure at 0x1a18732dd8>"
      ]
     },
     "metadata": {},
     "output_type": "display_data"
    }
   ],
   "source": [
    "pcr_model = sm.ols(formula = 'total_UPDRS ~ pc1 + pc2 + pc3 + pc4 + pc5', data=pca_df)\n",
    "\n",
    "results = pcr_model.fit()\n",
    "\n",
    "# Get most of the linear regression statistics we are interested in:\n",
    "print(results.summary())\n",
    "\n",
    "# Plot a histogram of the residuals\n",
    "sns.distplot(results.resid, hist=True)\n",
    "plt.xlabel('Residual')\n",
    "plt.ylabel('Frequency')\n",
    "plt.title('Residual Histogram')"
   ]
  },
  {
   "cell_type": "markdown",
   "metadata": {},
   "source": [
    "Wow, thats even worse!  I tried minimizing the number of variables but perhaps that is not the right approach.  Looking at the original all the principal components were somewhat helpful except for the final two (15 & 16).  Lets try a regression where we peel those two off."
   ]
  },
  {
   "cell_type": "code",
   "execution_count": 14,
   "metadata": {},
   "outputs": [
    {
     "name": "stdout",
     "output_type": "stream",
     "text": [
      "                            OLS Regression Results                            \n",
      "==============================================================================\n",
      "Dep. Variable:            total_UPDRS   R-squared:                       0.100\n",
      "Model:                            OLS   Adj. R-squared:                  0.098\n",
      "Method:                 Least Squares   F-statistic:                     46.69\n",
      "Date:                Thu, 09 Aug 2018   Prob (F-statistic):          2.46e-123\n",
      "Time:                        19:55:23   Log-Likelihood:                -8025.6\n",
      "No. Observations:                5875   AIC:                         1.608e+04\n",
      "Df Residuals:                    5860   BIC:                         1.618e+04\n",
      "Df Model:                          14                                         \n",
      "Covariance Type:            nonrobust                                         \n",
      "==============================================================================\n",
      "                 coef    std err          t      P>|t|      [0.025      0.975]\n",
      "------------------------------------------------------------------------------\n",
      "Intercept   4.011e-16      0.012   3.24e-14      1.000      -0.024       0.024\n",
      "pc1            0.0309      0.004      8.380      0.000       0.024       0.038\n",
      "pc2            0.0328      0.010      3.426      0.001       0.014       0.052\n",
      "pc3           -0.0230      0.011     -2.066      0.039      -0.045      -0.001\n",
      "pc4           -0.2295      0.014    -16.198      0.000      -0.257      -0.202\n",
      "pc5           -0.2666      0.022    -11.968      0.000      -0.310      -0.223\n",
      "pc6           -0.0037      0.026     -0.140      0.889      -0.055       0.048\n",
      "pc7            0.0837      0.030      2.809      0.005       0.025       0.142\n",
      "pc8            0.3429      0.031     11.130      0.000       0.282       0.403\n",
      "pc9            0.1857      0.039      4.811      0.000       0.110       0.261\n",
      "pc10           0.0543      0.059      0.914      0.361      -0.062       0.171\n",
      "pc11          -0.1012      0.087     -1.164      0.245      -0.272       0.069\n",
      "pc12           0.1406      0.105      1.343      0.179      -0.065       0.346\n",
      "pc13          -0.0223      0.133     -0.167      0.867      -0.283       0.239\n",
      "pc14           0.3171      0.185      1.710      0.087      -0.046       0.681\n",
      "==============================================================================\n",
      "Omnibus:                      168.311   Durbin-Watson:                   0.137\n",
      "Prob(Omnibus):                  0.000   Jarque-Bera (JB):              178.400\n",
      "Skew:                           0.414   Prob(JB):                     1.82e-39\n",
      "Kurtosis:                       2.796   Cond. No.                         50.2\n",
      "==============================================================================\n",
      "\n",
      "Warnings:\n",
      "[1] Standard Errors assume that the covariance matrix of the errors is correctly specified.\n"
     ]
    },
    {
     "data": {
      "text/plain": [
       "Text(0.5,1,'Residual Histogram')"
      ]
     },
     "execution_count": 14,
     "metadata": {},
     "output_type": "execute_result"
    },
    {
     "data": {
      "image/png": "[encoded data removed]",
      "text/plain": [
       "<matplotlib.figure.Figure at 0x1a1860b860>"
      ]
     },
     "metadata": {},
     "output_type": "display_data"
    }
   ],
   "source": [
    "# Perform linear regression with the first N columns\n",
    "n = 14\n",
    "formula_start = target_label + ' ~ '\n",
    "formula_terms = ['pc' + str(x+1) for x in range(n)]\n",
    "formula_end = ' + '.join(formula_terms)\n",
    "formula_final = formula_start + formula_end\n",
    "\n",
    "pcr_model = sm.ols(formula = formula_final, data=pca_df)\n",
    "\n",
    "results = pcr_model.fit()\n",
    "\n",
    "# Get most of the linear regression statistics we are interested in:\n",
    "print(results.summary())\n",
    "\n",
    "# Plot a histogram of the residuals\n",
    "sns.distplot(results.resid, hist=True)\n",
    "plt.xlabel('Residual')\n",
    "plt.ylabel('Frequency')\n",
    "plt.title('Residual Histogram')"
   ]
  },
  {
   "cell_type": "markdown",
   "metadata": {},
   "source": [
    "There we go!  Small victories.  Although the R-Squared value is lower, the adjusted R-Squared value is higher.  The residual plot is still not as normal as I would have hoped, but I suspect that may be the nature of the data.  This residual pliot is very similar to the first PCA analysis we did where we incorporated all of the components.  This makes sense because the last two didnt really add anything to the regression, so the residuals remain somewhat 'constant' (constant being similar to original distribution, not constant like the distribution)."
   ]
  },
  {
   "cell_type": "code",
   "execution_count": null,
   "metadata": {},
   "outputs": [],
   "source": []
  }
 ],
 "metadata": {
  "kernelspec": {
   "display_name": "Python 3",
   "language": "python",
   "name": "python3"
  },
  "language_info": {
   "codemirror_mode": {
    "name": "ipython",
    "version": 3
   },
   "file_extension": ".py",
   "mimetype": "text/x-python",
   "name": "python",
   "nbconvert_exporter": "python",
   "pygments_lexer": "ipython3",
   "version": "3.6.4"
  }
 },
 "nbformat": 4,
 "nbformat_minor": 2
}
