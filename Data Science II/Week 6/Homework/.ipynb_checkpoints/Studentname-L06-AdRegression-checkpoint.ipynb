{
 "cells": [
  {
   "cell_type": "markdown",
   "metadata": {},
   "source": [
    "# Lesson 6 Assignment - Advertising Sales Regression\n",
    "\n",
    "## Author - Studentname\n",
    "\n"
   ]
  },
  {
   "cell_type": "markdown",
   "metadata": {},
   "source": [
    "### Instructions  \n",
    "Perform four different linear regressions on advertising sales data located in 'Advertising.csv'.  Your dependent feature is 'sales', a measure of sales of a product in a given market in thousands of dollars. \n",
    "\n",
    "The independent features for each of the first 3 separate regressions are:\n",
    "\n",
    " 1. 'TV': advertising dollars spent on TV ads for a single product in a given market.\n",
    " 2. 'radio': advertising dollars spent radio ads.\n",
    " 3. 'newspaper': advertising dollars spent on newspaper ads.\n",
    "\n",
    "For the first 3 linear regression performed:\n",
    "\n",
    "- Produce a labeled graph showing the best fit line with the data points.\n",
    "- Interpret both the slope and y-intercept.\n",
    " \n",
    "The final regression(#4) includes all 3 features: (a) TV, (b) radio, and (c) newspaper. \n",
    "- Interpret each partial slope and the intercept parameters.\n",
    "- Interpret the adjusted R-squared.\n",
    "- Find and report the mean-squared error.\n",
    "\n",
    "#### Please prepare this information for a client who may not understand what the parameters mean.\n"
   ]
  },
  {
   "cell_type": "code",
   "execution_count": null,
   "metadata": {},
   "outputs": [],
   "source": [
    "# Import libraries\n",
    "import numpy as np\n",
    "import pandas as pd\n",
    "import matplotlib.pyplot as plt\n",
    "%matplotlib inline"
   ]
  },
  {
   "cell_type": "code",
   "execution_count": null,
   "metadata": {},
   "outputs": [],
   "source": [
    "# Load data\n",
    "filename = 'https://library.startlearninglabs.uw.edu/DATASCI410/Datasets/Advertising.csv'\n",
    "ad_data = pd.read_csv(filename, index_col=0)\n",
    "print(ad_data.head())\n",
    "print(ad_data.shape)\n",
    "ad_data.describe()"
   ]
  },
  {
   "cell_type": "code",
   "execution_count": null,
   "metadata": {},
   "outputs": [],
   "source": []
  }
 ],
 "metadata": {
  "kernelspec": {
   "display_name": "Python 3",
   "language": "python",
   "name": "python3"
  },
  "language_info": {
   "codemirror_mode": {
    "name": "ipython",
    "version": 3
   },
   "file_extension": ".py",
   "mimetype": "text/x-python",
   "name": "python",
   "nbconvert_exporter": "python",
   "pygments_lexer": "ipython3",
   "version": "3.6.4"
  }
 },
 "nbformat": 4,
 "nbformat_minor": 2
}
