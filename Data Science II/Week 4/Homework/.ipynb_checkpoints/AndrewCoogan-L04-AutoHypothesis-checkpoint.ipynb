{
 "cells": [
  {
   "cell_type": "markdown",
   "metadata": {},
   "source": [
    "# Lesson 4 Assignment - Automobile Price Hypothesis Testing\n",
    "## Author - Andrew Coogan"
   ]
  },
  {
   "cell_type": "markdown",
   "metadata": {},
   "source": [
    "### Instructions\n",
    "Test hypotheses for the price of automobiles:\n",
    "\n",
    "1. Compare and test Normality the distributions of **price** and **log price** <br/>\n",
    "Use both a graphical method and a formal test. Hint: Remember these relationships will always be approximate.\n",
    "\n",
    "2. Test significance of **price (or log price)** stratified by \n",
    "a) **fuel type**, b) **aspiration**, and c) **rear vs. front wheel drive**. <br />Use both graphical methods and the formal test.\n",
    "\n",
    "3. Apply ANOVA and Tukey's HSD test to the auto price data to compare the **price (or log price** if closer to a Normal distribution) of autos stratified by **body style**.\n",
    "\n",
    "4. Graphically explore the differences between the price conditioned by the categories of each variable <br/>\n",
    "Hint: Make sure you have enough data for each category and drop categories with insufficient data.\n",
    "\n",
    "5. Use standard ANOVA and Tukey HSD to test the differences of these groups.\n"
   ]
  },
  {
   "cell_type": "markdown",
   "metadata": {},
   "source": [
    "#### Note: \n",
    "Please clearly outline the results of these tests with markdown text. Be sure your discussion includes narrative for your figures and tables so it is clear to the reader the importance of each bit of evidence."
   ]
  },
  {
   "cell_type": "code",
   "execution_count": 1,
   "metadata": {},
   "outputs": [],
   "source": [
    "# Cleaned up Dataset location\n",
    "fileName = \"https://library.startlearninglabs.uw.edu/DATASCI410/Datasets/Automobile%20price%20data%20_Raw_.csv\""
   ]
  },
  {
   "cell_type": "code",
   "execution_count": 2,
   "metadata": {},
   "outputs": [],
   "source": [
    "# Import libraries\n",
    "import pandas as pd\n",
    "from scipy.stats import kstest\n",
    "from scipy.stats import shapiro\n",
    "import statsmodels.stats.weightstats as ws\n",
    "import numpy as np\n",
    "import matplotlib.pyplot as plt\n",
    "import scipy.stats as ss\n",
    "from statistics import mean\n",
    "from scipy import stats\n",
    "from statsmodels.stats.multicomp import pairwise_tukeyhsd"
   ]
  },
  {
   "cell_type": "code",
   "execution_count": 3,
   "metadata": {},
   "outputs": [],
   "source": [
    "data = pd.read_csv(fileName)\n",
    "data = data.replace(to_replace=\"?\", value=np.nan)\n",
    "data = data.loc[~data.price.isnull(),]  #  Removing rows with missing price"
   ]
  },
  {
   "cell_type": "code",
   "execution_count": 4,
   "metadata": {},
   "outputs": [
    {
     "data": {
      "text/html": [
       "<div>\n",
       "<style scoped>\n",
       "    .dataframe tbody tr th:only-of-type {\n",
       "        vertical-align: middle;\n",
       "    }\n",
       "\n",
       "    .dataframe tbody tr th {\n",
       "        vertical-align: top;\n",
       "    }\n",
       "\n",
       "    .dataframe thead th {\n",
       "        text-align: right;\n",
       "    }\n",
       "</style>\n",
       "<table border=\"1\" class=\"dataframe\">\n",
       "  <thead>\n",
       "    <tr style=\"text-align: right;\">\n",
       "      <th></th>\n",
       "      <th>symboling</th>\n",
       "      <th>normalized-losses</th>\n",
       "      <th>make</th>\n",
       "      <th>fuel-type</th>\n",
       "      <th>aspiration</th>\n",
       "      <th>num-of-doors</th>\n",
       "      <th>body-style</th>\n",
       "      <th>drive-wheels</th>\n",
       "      <th>engine-location</th>\n",
       "      <th>wheel-base</th>\n",
       "      <th>...</th>\n",
       "      <th>engine-size</th>\n",
       "      <th>fuel-system</th>\n",
       "      <th>bore</th>\n",
       "      <th>stroke</th>\n",
       "      <th>compression-ratio</th>\n",
       "      <th>horsepower</th>\n",
       "      <th>peak-rpm</th>\n",
       "      <th>city-mpg</th>\n",
       "      <th>highway-mpg</th>\n",
       "      <th>price</th>\n",
       "    </tr>\n",
       "  </thead>\n",
       "  <tbody>\n",
       "    <tr>\n",
       "      <th>0</th>\n",
       "      <td>3</td>\n",
       "      <td>NaN</td>\n",
       "      <td>alfa-romero</td>\n",
       "      <td>gas</td>\n",
       "      <td>std</td>\n",
       "      <td>two</td>\n",
       "      <td>convertible</td>\n",
       "      <td>rwd</td>\n",
       "      <td>front</td>\n",
       "      <td>88.6</td>\n",
       "      <td>...</td>\n",
       "      <td>130</td>\n",
       "      <td>mpfi</td>\n",
       "      <td>3.47</td>\n",
       "      <td>2.68</td>\n",
       "      <td>9.0</td>\n",
       "      <td>111</td>\n",
       "      <td>5000</td>\n",
       "      <td>21</td>\n",
       "      <td>27</td>\n",
       "      <td>13495</td>\n",
       "    </tr>\n",
       "    <tr>\n",
       "      <th>1</th>\n",
       "      <td>3</td>\n",
       "      <td>NaN</td>\n",
       "      <td>alfa-romero</td>\n",
       "      <td>gas</td>\n",
       "      <td>std</td>\n",
       "      <td>two</td>\n",
       "      <td>convertible</td>\n",
       "      <td>rwd</td>\n",
       "      <td>front</td>\n",
       "      <td>88.6</td>\n",
       "      <td>...</td>\n",
       "      <td>130</td>\n",
       "      <td>mpfi</td>\n",
       "      <td>3.47</td>\n",
       "      <td>2.68</td>\n",
       "      <td>9.0</td>\n",
       "      <td>111</td>\n",
       "      <td>5000</td>\n",
       "      <td>21</td>\n",
       "      <td>27</td>\n",
       "      <td>16500</td>\n",
       "    </tr>\n",
       "    <tr>\n",
       "      <th>2</th>\n",
       "      <td>1</td>\n",
       "      <td>NaN</td>\n",
       "      <td>alfa-romero</td>\n",
       "      <td>gas</td>\n",
       "      <td>std</td>\n",
       "      <td>two</td>\n",
       "      <td>hatchback</td>\n",
       "      <td>rwd</td>\n",
       "      <td>front</td>\n",
       "      <td>94.5</td>\n",
       "      <td>...</td>\n",
       "      <td>152</td>\n",
       "      <td>mpfi</td>\n",
       "      <td>2.68</td>\n",
       "      <td>3.47</td>\n",
       "      <td>9.0</td>\n",
       "      <td>154</td>\n",
       "      <td>5000</td>\n",
       "      <td>19</td>\n",
       "      <td>26</td>\n",
       "      <td>16500</td>\n",
       "    </tr>\n",
       "    <tr>\n",
       "      <th>3</th>\n",
       "      <td>2</td>\n",
       "      <td>164</td>\n",
       "      <td>audi</td>\n",
       "      <td>gas</td>\n",
       "      <td>std</td>\n",
       "      <td>four</td>\n",
       "      <td>sedan</td>\n",
       "      <td>fwd</td>\n",
       "      <td>front</td>\n",
       "      <td>99.8</td>\n",
       "      <td>...</td>\n",
       "      <td>109</td>\n",
       "      <td>mpfi</td>\n",
       "      <td>3.19</td>\n",
       "      <td>3.40</td>\n",
       "      <td>10.0</td>\n",
       "      <td>102</td>\n",
       "      <td>5500</td>\n",
       "      <td>24</td>\n",
       "      <td>30</td>\n",
       "      <td>13950</td>\n",
       "    </tr>\n",
       "    <tr>\n",
       "      <th>4</th>\n",
       "      <td>2</td>\n",
       "      <td>164</td>\n",
       "      <td>audi</td>\n",
       "      <td>gas</td>\n",
       "      <td>std</td>\n",
       "      <td>four</td>\n",
       "      <td>sedan</td>\n",
       "      <td>4wd</td>\n",
       "      <td>front</td>\n",
       "      <td>99.4</td>\n",
       "      <td>...</td>\n",
       "      <td>136</td>\n",
       "      <td>mpfi</td>\n",
       "      <td>3.19</td>\n",
       "      <td>3.40</td>\n",
       "      <td>8.0</td>\n",
       "      <td>115</td>\n",
       "      <td>5500</td>\n",
       "      <td>18</td>\n",
       "      <td>22</td>\n",
       "      <td>17450</td>\n",
       "    </tr>\n",
       "  </tbody>\n",
       "</table>\n",
       "<p>5 rows × 26 columns</p>\n",
       "</div>"
      ],
      "text/plain": [
       "   symboling normalized-losses         make fuel-type aspiration num-of-doors  \\\n",
       "0          3               NaN  alfa-romero       gas        std          two   \n",
       "1          3               NaN  alfa-romero       gas        std          two   \n",
       "2          1               NaN  alfa-romero       gas        std          two   \n",
       "3          2               164         audi       gas        std         four   \n",
       "4          2               164         audi       gas        std         four   \n",
       "\n",
       "    body-style drive-wheels engine-location  wheel-base  ...    engine-size  \\\n",
       "0  convertible          rwd           front        88.6  ...            130   \n",
       "1  convertible          rwd           front        88.6  ...            130   \n",
       "2    hatchback          rwd           front        94.5  ...            152   \n",
       "3        sedan          fwd           front        99.8  ...            109   \n",
       "4        sedan          4wd           front        99.4  ...            136   \n",
       "\n",
       "   fuel-system  bore  stroke compression-ratio horsepower  peak-rpm city-mpg  \\\n",
       "0         mpfi  3.47    2.68               9.0        111      5000       21   \n",
       "1         mpfi  3.47    2.68               9.0        111      5000       21   \n",
       "2         mpfi  2.68    3.47               9.0        154      5000       19   \n",
       "3         mpfi  3.19    3.40              10.0        102      5500       24   \n",
       "4         mpfi  3.19    3.40               8.0        115      5500       18   \n",
       "\n",
       "  highway-mpg  price  \n",
       "0          27  13495  \n",
       "1          27  16500  \n",
       "2          26  16500  \n",
       "3          30  13950  \n",
       "4          22  17450  \n",
       "\n",
       "[5 rows x 26 columns]"
      ]
     },
     "execution_count": 4,
     "metadata": {},
     "output_type": "execute_result"
    }
   ],
   "source": [
    "data.head()"
   ]
  },
  {
   "cell_type": "code",
   "execution_count": 5,
   "metadata": {},
   "outputs": [],
   "source": [
    "data[\"LogPrice\"] = data.price.apply(lambda l : np.log(float(l)))\n",
    "data[\"Price\"] = data.price.apply(lambda l : float(l))"
   ]
  },
  {
   "cell_type": "code",
   "execution_count": 6,
   "metadata": {},
   "outputs": [],
   "source": [
    "### Set Alpha For Notebook ###\n",
    "alpha = 0.05"
   ]
  },
  {
   "cell_type": "code",
   "execution_count": 7,
   "metadata": {},
   "outputs": [
    {
     "name": "stdout",
     "output_type": "stream",
     "text": [
      "Price Shapiro Statistic = 0.7985199689865112\n",
      "Price P-value = 2.216104581879161e-15\n"
     ]
    }
   ],
   "source": [
    "shapio_statisic, pvalue = shapiro(data.Price)\n",
    "print('Price Shapiro Statistic = ' + str(shapio_statisic))\n",
    "print('Price P-value = ' + str(pvalue))"
   ]
  },
  {
   "cell_type": "code",
   "execution_count": 8,
   "metadata": {},
   "outputs": [
    {
     "name": "stdout",
     "output_type": "stream",
     "text": [
      "Log Price Shapiro Statistic = 0.9489971399307251\n",
      "Log Price P-value = 1.4320623904495733e-06\n"
     ]
    }
   ],
   "source": [
    "shapio_statisic_log, pvalue_log = shapiro(data.LogPrice)\n",
    "print('Log Price Shapiro Statistic = ' + str(shapio_statisic_log))\n",
    "print('Log Price P-value = ' + str(pvalue_log))"
   ]
  },
  {
   "cell_type": "markdown",
   "metadata": {},
   "source": [
    "# P-Value Analysis\n",
    "Both of the p-values are well below the alpha value we set at 5%, so neither of these values can be called normal.  With that said though, the LogPrice is more normal than Price."
   ]
  },
  {
   "cell_type": "code",
   "execution_count": 9,
   "metadata": {},
   "outputs": [
    {
     "data": {
      "image/png": "[encoded data removed]",
      "text/plain": [
       "<matplotlib.figure.Figure at 0x10a2b68d0>"
      ]
     },
     "metadata": {},
     "output_type": "display_data"
    }
   ],
   "source": [
    "def qq_plot(vec1, vec2):\n",
    "    plt.figure(figsize=(6, 6)).gca()\n",
    "    ax1 = plt.subplot(221)\n",
    "    ss.probplot(vec1, plot = ax1)\n",
    "    ax1 = plt.subplot(222)\n",
    "    ss.probplot(vec2, plot = ax1)\n",
    "qq_plot(data.Price, data.LogPrice)    "
   ]
  },
  {
   "cell_type": "markdown",
   "metadata": {},
   "source": [
    "The plot on the left is the price, the plot on the right is the logPrice.  This agrees with what we established above with LogPrices being more normal than Prices."
   ]
  },
  {
   "cell_type": "code",
   "execution_count": 10,
   "metadata": {},
   "outputs": [
    {
     "data": {
      "text/plain": [
       "gas       181\n",
       "diesel     20\n",
       "Name: fuel-type, dtype: int64"
      ]
     },
     "execution_count": 10,
     "metadata": {},
     "output_type": "execute_result"
    }
   ],
   "source": [
    "#  We need to look at fuel type, aspiration, and rear/front wheel cars\n",
    "data[\"fuel-type\"].value_counts()"
   ]
  },
  {
   "cell_type": "code",
   "execution_count": 11,
   "metadata": {},
   "outputs": [
    {
     "data": {
      "text/plain": [
       "std      165\n",
       "turbo     36\n",
       "Name: aspiration, dtype: int64"
      ]
     },
     "execution_count": 11,
     "metadata": {},
     "output_type": "execute_result"
    }
   ],
   "source": [
    "data[\"aspiration\"].value_counts()"
   ]
  },
  {
   "cell_type": "code",
   "execution_count": 12,
   "metadata": {},
   "outputs": [
    {
     "data": {
      "text/plain": [
       "fwd    118\n",
       "rwd     75\n",
       "4wd      8\n",
       "Name: drive-wheels, dtype: int64"
      ]
     },
     "execution_count": 12,
     "metadata": {},
     "output_type": "execute_result"
    }
   ],
   "source": [
    "data[\"drive-wheels\"].value_counts()"
   ]
  },
  {
   "cell_type": "code",
   "execution_count": 13,
   "metadata": {},
   "outputs": [],
   "source": [
    "def hist_plot(vec, bins):\n",
    "    plt.hist(vec, bins = bins)\n",
    "    plt.axvline(mean(vec), color = 'red')\n",
    "    plt.ylabel('Frequency')\n",
    "    plt.xlabel('Value')\n",
    "\n",
    "def hist_mean_ci(vec, t_test, bins):\n",
    "    upper = mean(vec) + t_test[5] - t_test[1]\n",
    "    lower = mean(vec) + t_test[4] - t_test[1]\n",
    "    plt.hist(vec, bins = bins)\n",
    "    plt.axvline(mean(vec), color = 'red')\n",
    "    plt.axvline(upper, color = 'red', linestyle='--')\n",
    "    plt.axvline(lower, color = 'red', linestyle='--')\n",
    "    plt.ylabel('Frequency')\n",
    "    plt.xlabel('Value')\n",
    "\n",
    "def plot_t(a, b, t_test, cols=['pop_A', 'pop_B'], nbins = 20):\n",
    "    minx = min([min(a), min(b)])\n",
    "    maxx = max([max(a), max(b)])\n",
    "    stepx = (maxx - minx)/(nbins + 1)\n",
    "    bins = [minx + i * stepx for i in range(nbins + 1)]\n",
    "    plt.subplot(2, 1, 1) # The first plot\n",
    "    hist_mean_ci(a, t_test, bins)\n",
    "    plt.title('Histogram of ' + cols[0] + ' and ' + cols[1])\n",
    "    plt.subplot(2, 1, 2) # The next plot\n",
    "    hist_plot(b, bins)\n",
    "    \n",
    "def t_test(a, b, alpha, alternative='two-sided'):\n",
    "    diff = a.mean() - b.mean()\n",
    "\n",
    "    res = ss.ttest_ind(a, b)\n",
    "      \n",
    "    means = ws.CompareMeans(ws.DescrStatsW(a), ws.DescrStatsW(b))\n",
    "    confint = means.tconfint_diff(alpha=alpha, alternative=alternative, usevar='unequal') \n",
    "    degfree = means.dof_satt()\n",
    "\n",
    "    index = ['DegFreedom', 'Difference', 'Statistic', 'PValue', 'Low95CI', 'High95CI']\n",
    "    return pd.Series([degfree, diff, res[0], res[1], confint[0], confint[1]], index = index)  "
   ]
  },
  {
   "cell_type": "code",
   "execution_count": 14,
   "metadata": {},
   "outputs": [
    {
     "name": "stdout",
     "output_type": "stream",
     "text": [
      "DegFreedom    23.626756\n",
      "Difference    -0.230212\n",
      "Statistic     -1.958947\n",
      "PValue         0.051516\n",
      "Low95CI       -0.468326\n",
      "High95CI       0.007901\n",
      "dtype: float64\n"
     ]
    },
    {
     "data": {
      "image/png": "[encoded data removed]",
      "text/plain": [
       "<matplotlib.figure.Figure at 0x10ebbf748>"
      ]
     },
     "metadata": {},
     "output_type": "display_data"
    }
   ],
   "source": [
    "gas = data.loc[data.loc[:, 'fuel-type'] == 'gas', 'LogPrice']\n",
    "disel = data.loc[data.loc[:, 'fuel-type'] == 'diesel', 'LogPrice']\n",
    "\n",
    "test_FT = t_test(gas, disel, alpha = alpha)\n",
    "print(test_FT)\n",
    "plot_t(gas, disel, test_FT, cols = ['Gas', 'Disel']) "
   ]
  },
  {
   "cell_type": "markdown",
   "metadata": {},
   "source": [
    "The two-sided t-test is used to determine we can reject the null hypthesis that the difference of means is not significant.  Due to the fact that the statistic is small, the PValue is greater than out alpha cutoff, and the confidence intervals (barely) straddles zero, we can not reject the null hypothesis that the prices are significantly different."
   ]
  },
  {
   "cell_type": "code",
   "execution_count": 15,
   "metadata": {},
   "outputs": [
    {
     "name": "stdout",
     "output_type": "stream",
     "text": [
      "DegFreedom    64.681296\n",
      "Difference    -0.335996\n",
      "Statistic     -3.753838\n",
      "PValue         0.000229\n",
      "Low95CI       -0.485870\n",
      "High95CI      -0.186121\n",
      "dtype: float64\n"
     ]
    },
    {
     "data": {
      "image/png": "[encoded data removed]",
      "text/plain": [
       "<matplotlib.figure.Figure at 0x113efd780>"
      ]
     },
     "metadata": {},
     "output_type": "display_data"
    }
   ],
   "source": [
    "std = data.loc[data.loc[:, 'aspiration'] == 'std', 'LogPrice']\n",
    "turbo = data.loc[data.loc[:, 'aspiration'] == 'turbo', 'LogPrice']\n",
    "\n",
    "test_ASP = t_test(std, turbo, alpha = alpha)\n",
    "print(test_ASP)\n",
    "plot_t(gas, disel, test_FT, cols = ['Std', 'Turbo']) "
   ]
  },
  {
   "cell_type": "markdown",
   "metadata": {},
   "source": [
    "As a difference to what we established above, we can reject the null hypothsis and state the diffence of means is significant.  The PValue is less than out alpha value and the confidence internval does not contain zero."
   ]
  },
  {
   "cell_type": "code",
   "execution_count": 16,
   "metadata": {},
   "outputs": [
    {
     "name": "stdout",
     "output_type": "stream",
     "text": [
      "DegFreedom    1.235039e+02\n",
      "Difference   -7.175636e-01\n",
      "Statistic    -1.314614e+01\n",
      "PValue        1.562940e-28\n",
      "Low95CI      -8.332867e-01\n",
      "High95CI     -6.018405e-01\n",
      "dtype: float64\n"
     ]
    },
    {
     "data": {
      "image/png": "[encoded data removed]",
      "text/plain": [
       "<matplotlib.figure.Figure at 0x113fc4b00>"
      ]
     },
     "metadata": {},
     "output_type": "display_data"
    }
   ],
   "source": [
    "#  I am going to ignore 4 wheel drive, there are very few sample with that attribute.\n",
    "fwd = data.loc[data.loc[:, 'drive-wheels'] == 'fwd', 'LogPrice']\n",
    "rwd = data.loc[data.loc[:, 'drive-wheels'] == 'rwd', 'LogPrice']\n",
    "\n",
    "test_DW = t_test(fwd, rwd, alpha = alpha)\n",
    "print(test_DW)\n",
    "plot_t(fwd, rwd, test_DW, cols = ['FWD', 'RWD']) "
   ]
  },
  {
   "cell_type": "markdown",
   "metadata": {},
   "source": [
    "For this sample, we fail to reject the null hypothesis.  The prices are statistically different based on if the car is front or rear wheel drive.  Zero is not contained in the 95% confidence interval and the p-value is rather low."
   ]
  },
  {
   "cell_type": "code",
   "execution_count": 17,
   "metadata": {},
   "outputs": [
    {
     "data": {
      "text/plain": [
       "sedan          94\n",
       "hatchback      68\n",
       "wagon          25\n",
       "hardtop         8\n",
       "convertible     6\n",
       "Name: body-style, dtype: int64"
      ]
     },
     "execution_count": 17,
     "metadata": {},
     "output_type": "execute_result"
    }
   ],
   "source": [
    "data['body-style'].value_counts()"
   ]
  },
  {
   "cell_type": "code",
   "execution_count": 18,
   "metadata": {},
   "outputs": [
    {
     "name": "stderr",
     "output_type": "stream",
     "text": [
      "/anaconda3/lib/python3.6/site-packages/numpy/core/fromnumeric.py:52: FutureWarning: reshape is deprecated and will raise in a subsequent release. Please use .values.reshape(...) instead\n",
      "  return getattr(obj, method)(*args, **kwds)\n"
     ]
    },
    {
     "data": {
      "text/plain": [
       "([<matplotlib.axis.XTick at 0x11415fe10>,\n",
       "  <matplotlib.axis.XTick at 0x11425a160>,\n",
       "  <matplotlib.axis.XTick at 0x114312d30>,\n",
       "  <matplotlib.axis.XTick at 0x11487a5c0>,\n",
       "  <matplotlib.axis.XTick at 0x11487ac18>],\n",
       " <a list of 5 Text xticklabel objects>)"
      ]
     },
     "execution_count": 18,
     "metadata": {},
     "output_type": "execute_result"
    },
    {
     "data": {
      "image/png": "[encoded data removed]",
      "text/plain": [
       "<matplotlib.figure.Figure at 0x1142e67f0>"
      ]
     },
     "metadata": {},
     "output_type": "display_data"
    }
   ],
   "source": [
    "sedan = data.loc[data.loc[:, 'body-style'] == 'sedan', 'LogPrice']\n",
    "hatchback = data.loc[data.loc[:, 'body-style'] == 'hatchback', 'LogPrice']\n",
    "wagon = data.loc[data.loc[:, 'body-style'] == 'wagon', 'LogPrice']\n",
    "hardtop = data.loc[data.loc[:, 'body-style'] == 'hardtop', 'LogPrice']\n",
    "convertible = data.loc[data.loc[:, 'body-style'] == 'convertible', 'LogPrice']\n",
    "\n",
    "plt.boxplot([sedan, hatchback, wagon, hardtop, convertible])\n",
    "plt.ylabel('Value')\n",
    "plt.title('Box plot of variables')\n",
    "plt.xticks([1, 2, 3, 4, 5], ['Sedan', 'Hatchback', 'Wagon', 'Hardtop', 'Convertible'])"
   ]
  },
  {
   "cell_type": "markdown",
   "metadata": {},
   "source": [
    "Just by looking at the boxplots we can see the sedan, hatchback, and wagon all have means the lie within the accepted range of prices.  Hardtop and convertible can be argued that they are within the range of sedan and hatchback but it is at the very top of the boxplot ignoring outliers.  Mean hardtop and convertible are both very close though."
   ]
  },
  {
   "cell_type": "code",
   "execution_count": 19,
   "metadata": {},
   "outputs": [
    {
     "name": "stdout",
     "output_type": "stream",
     "text": [
      "F statistic = 8.458887676111926\n",
      "P-value = 2.573333086083424e-06\n"
     ]
    }
   ],
   "source": [
    "f_statistic, p_value = ss.f_oneway(sedan, hatchback, wagon, hardtop, convertible)\n",
    "print('F statistic = ' + str(f_statistic))\n",
    "print('P-value = ' + str(p_value))"
   ]
  },
  {
   "cell_type": "markdown",
   "metadata": {},
   "source": [
    "The F-Statistic is fairly large and the p-value is very small. With this relationship we can reject the null hypothesis that the five car types have the same mean, as the probability of the differences arrising from random chance is quite low.  Out of curiosity though lets look and see if sedan, hatchback, and wagon are more similar."
   ]
  },
  {
   "cell_type": "code",
   "execution_count": 20,
   "metadata": {},
   "outputs": [
    {
     "name": "stdout",
     "output_type": "stream",
     "text": [
      "F statistic = 9.274406034602693\n",
      "P-value = 0.00014538087468160497\n"
     ]
    }
   ],
   "source": [
    "f_statistic, p_value = ss.f_oneway(sedan, hatchback, wagon)\n",
    "print('F statistic = ' + str(f_statistic))\n",
    "print('P-value = ' + str(p_value))"
   ]
  },
  {
   "cell_type": "code",
   "execution_count": 21,
   "metadata": {},
   "outputs": [
    {
     "name": "stdout",
     "output_type": "stream",
     "text": [
      "F statistic = 0.0799673560236192\n",
      "P-value = 0.7821603958672605\n"
     ]
    }
   ],
   "source": [
    "f_statistic, p_value = ss.f_oneway(hardtop, convertible)\n",
    "print('F statistic = ' + str(f_statistic))\n",
    "print('P-value = ' + str(p_value))"
   ]
  },
  {
   "cell_type": "markdown",
   "metadata": {},
   "source": [
    "Cool, so it looks like we can also reject the null hypothesis for the sedan, hatchback, and wagon and say that there is more than just random change making the prices different.  On the other hand, we fail to reject the null hypothesis for hardtops and convertibles, meaning that they are close in price excuding noise.  When you think about it it kinda makes sense because a hardop is defined as a roof that can be removed, making it into a convertible.  Its natural that their prices would be close to one another."
   ]
  },
  {
   "cell_type": "code",
   "execution_count": 22,
   "metadata": {},
   "outputs": [
    {
     "name": "stdout",
     "output_type": "stream",
     "text": [
      "  Multiple Comparison of Means - Tukey HSD,FWER=0.05 \n",
      "=====================================================\n",
      "   group1     group2  meandiff  lower   upper  reject\n",
      "-----------------------------------------------------\n",
      "Convertible  Hardtop  -0.0966  -0.7933   0.6   False \n",
      "Convertible Hatchback -0.7628  -1.3122 -0.2134  True \n",
      "Convertible   Sedan   -0.4519  -0.9951  0.0913 False \n",
      "Convertible   Wagon   -0.5399  -1.1264  0.0465 False \n",
      "  Hardtop   Hatchback -0.6662  -1.1483  -0.184  True \n",
      "  Hardtop     Sedan   -0.3553  -0.8304  0.1198 False \n",
      "  Hardtop     Wagon   -0.4433  -0.9673  0.0807 False \n",
      " Hatchback    Sedan    0.3109   0.1055  0.5163  True \n",
      " Hatchback    Wagon    0.2229  -0.0788  0.5246 False \n",
      "   Sedan      Wagon    -0.088  -0.3783  0.2023 False \n",
      "-----------------------------------------------------\n"
     ]
    }
   ],
   "source": [
    "df = pd.DataFrame({'vals': sedan.tolist() + hatchback.tolist() + wagon.tolist() + \n",
    "                   hardtop.tolist() + convertible.tolist(),\n",
    "                   'group_num': ['Sedan'] * sedan.size + ['Hatchback'] * hatchback.size + \n",
    "                   ['Wagon'] * wagon.size + ['Hardtop'] * hardtop.size + \n",
    "                   ['Convertible'] * convertible.size})\n",
    "Tukey_HSD = pairwise_tukeyhsd(df.vals, df.group_num)\n",
    "print(Tukey_HSD)"
   ]
  },
  {
   "cell_type": "code",
   "execution_count": 23,
   "metadata": {},
   "outputs": [
    {
     "data": {
      "image/png": "[encoded data removed]",
      "text/plain": [
       "<matplotlib.figure.Figure at 0x10f42f8d0>"
      ]
     },
     "execution_count": 23,
     "metadata": {},
     "output_type": "execute_result"
    },
    {
     "data": {
      "image/png": "[encoded data removed]",
      "text/plain": [
       "<matplotlib.figure.Figure at 0x10f42f8d0>"
      ]
     },
     "metadata": {},
     "output_type": "display_data"
    }
   ],
   "source": [
    "Tukey_HSD.plot_simultaneous()"
   ]
  },
  {
   "cell_type": "markdown",
   "metadata": {},
   "source": [
    "The above plots show a 95% range of confidence.  As there are not a lot of datapoints for hardtop and convertible the range is somewhat larger than the wagon, sedan, and hatchback.  Sedans and wagons lie firmly within each others' ranges not allowing us to reject the null hypothesis, same with hardtop and convertible."
   ]
  },
  {
   "cell_type": "markdown",
   "metadata": {},
   "source": [
    "## Lets look at wagon and sedan quickly\n",
    "\n",
    "Wagons and sedans have a good list of data at 25 and 94 datapoints each so they consist of well over half the datasets's rows."
   ]
  },
  {
   "cell_type": "code",
   "execution_count": 24,
   "metadata": {},
   "outputs": [
    {
     "name": "stdout",
     "output_type": "stream",
     "text": [
      "DegFreedom    49.824508\n",
      "Difference     0.087976\n",
      "Statistic      0.800463\n",
      "PValue         0.425065\n",
      "Low95CI       -0.098046\n",
      "High95CI       0.273999\n",
      "dtype: float64\n"
     ]
    },
    {
     "data": {
      "image/png": "[encoded data removed]",
      "text/plain": [
       "<matplotlib.figure.Figure at 0x10f42f358>"
      ]
     },
     "metadata": {},
     "output_type": "display_data"
    }
   ],
   "source": [
    "test_SW = t_test(sedan, wagon, alpha = alpha)\n",
    "print(test_SW)\n",
    "plot_t(sedan, wagon, test_FT, cols = ['Sedan', 'Wagon']) "
   ]
  },
  {
   "cell_type": "markdown",
   "metadata": {},
   "source": [
    "For the sedans and wagons we can see that zero is included in the 95% confidence interval as well as having a high value, so we fail to reject the null hypothesis that they are close in price. "
   ]
  },
  {
   "cell_type": "markdown",
   "metadata": {},
   "source": [
    "## Number of Doors"
   ]
  },
  {
   "cell_type": "code",
   "execution_count": 25,
   "metadata": {},
   "outputs": [
    {
     "data": {
      "text/plain": [
       "four    113\n",
       "two      86\n",
       "Name: num-of-doors, dtype: int64"
      ]
     },
     "execution_count": 25,
     "metadata": {},
     "output_type": "execute_result"
    }
   ],
   "source": [
    "data[\"num-of-doors\"].value_counts()"
   ]
  },
  {
   "cell_type": "code",
   "execution_count": 26,
   "metadata": {},
   "outputs": [
    {
     "name": "stdout",
     "output_type": "stream",
     "text": [
      "DegFreedom    167.777043\n",
      "Difference     -0.103772\n",
      "Statistic      -1.441838\n",
      "PValue          0.150936\n",
      "Low95CI        -0.248721\n",
      "High95CI        0.041177\n",
      "dtype: float64\n"
     ]
    },
    {
     "data": {
      "image/png": "[encoded data removed]",
      "text/plain": [
       "<matplotlib.figure.Figure at 0x114b69cf8>"
      ]
     },
     "metadata": {},
     "output_type": "display_data"
    }
   ],
   "source": [
    "two_doors = data.loc[data.loc[:, 'num-of-doors'] == 'two', 'LogPrice']\n",
    "four_doors = data.loc[data.loc[:, 'num-of-doors'] == 'four', 'LogPrice']\n",
    "\n",
    "test_DR = t_test(two_doors, four_doors, alpha = alpha)\n",
    "print(test_DR)\n",
    "plot_t(two_doors, four_doors, test_DR, cols = ['Two Doors', 'Four Doors']) "
   ]
  },
  {
   "cell_type": "code",
   "execution_count": 27,
   "metadata": {},
   "outputs": [
    {
     "name": "stdout",
     "output_type": "stream",
     "text": [
      "F statistic = 2.078896905525359\n",
      "P-value = 0.15093588347930592\n"
     ]
    }
   ],
   "source": [
    "f_statistic, p_value = ss.f_oneway(two_doors, four_doors)\n",
    "print('F statistic = ' + str(f_statistic))\n",
    "print('P-value = ' + str(p_value))"
   ]
  },
  {
   "cell_type": "code",
   "execution_count": 28,
   "metadata": {},
   "outputs": [
    {
     "name": "stdout",
     "output_type": "stream",
     "text": [
      " Multiple Comparison of Means - Tukey HSD,FWER=0.05\n",
      "===================================================\n",
      "  group1     group2  meandiff  lower  upper  reject\n",
      "---------------------------------------------------\n",
      "Four_Doors Two_Doors -0.1038  -0.2457 0.0382 False \n",
      "---------------------------------------------------\n"
     ]
    }
   ],
   "source": [
    "df = pd.DataFrame({'vals': two_doors.tolist() + four_doors.tolist(),\n",
    "                   'group_num': ['Two_Doors'] * two_doors.size + ['Four_Doors'] * four_doors.size})\n",
    "Tukey_HSD = pairwise_tukeyhsd(df.vals, df.group_num)\n",
    "print(Tukey_HSD)"
   ]
  },
  {
   "cell_type": "markdown",
   "metadata": {},
   "source": [
    "All three of these tests agree that we fail to reject the null hypothesis that these prices are significantly different from one another.  In the histogram, we can see that zero delta is within confidence interval, in the second test the p-value is high while the f-statitic is low, in the third example, a 5% confidence fails to reject."
   ]
  },
  {
   "cell_type": "markdown",
   "metadata": {},
   "source": [
    "## Fuel System"
   ]
  },
  {
   "cell_type": "code",
   "execution_count": 29,
   "metadata": {},
   "outputs": [
    {
     "data": {
      "text/plain": [
       "mpfi    92\n",
       "2bbl    64\n",
       "idi     20\n",
       "1bbl    11\n",
       "spdi     9\n",
       "4bbl     3\n",
       "spfi     1\n",
       "mfi      1\n",
       "Name: fuel-system, dtype: int64"
      ]
     },
     "execution_count": 29,
     "metadata": {},
     "output_type": "execute_result"
    }
   ],
   "source": [
    "data['fuel-system'].value_counts()"
   ]
  },
  {
   "cell_type": "code",
   "execution_count": 30,
   "metadata": {},
   "outputs": [],
   "source": [
    "mpfi = data.loc[data.loc[:, 'fuel-system'] == 'mpfi', 'LogPrice']\n",
    "tbbl = data.loc[data.loc[:, 'fuel-system'] == '2bbl', 'LogPrice']\n",
    "idi = data.loc[data.loc[:, 'fuel-system'] == 'idi', 'LogPrice']\n",
    "obbl = data.loc[data.loc[:, 'fuel-system'] == '1bbl', 'LogPrice']"
   ]
  },
  {
   "cell_type": "code",
   "execution_count": 31,
   "metadata": {},
   "outputs": [
    {
     "name": "stdout",
     "output_type": "stream",
     "text": [
      "F statistic = 66.00106229063967\n",
      "P-value = 5.678996746712126e-29\n"
     ]
    }
   ],
   "source": [
    "f_statistic, p_value = ss.f_oneway(mpfi, tbbl, idi, obbl)\n",
    "print('F statistic = ' + str(f_statistic))\n",
    "print('P-value = ' + str(p_value))"
   ]
  },
  {
   "cell_type": "code",
   "execution_count": 32,
   "metadata": {},
   "outputs": [
    {
     "name": "stdout",
     "output_type": "stream",
     "text": [
      "Multiple Comparison of Means - Tukey HSD,FWER=0.05\n",
      "============================================\n",
      "group1 group2 meandiff  lower  upper  reject\n",
      "--------------------------------------------\n",
      " 1BBL   2BBL   -0.018  -0.3242 0.2881 False \n",
      " 1BBL   IDI    0.6424   0.2903 0.9945  True \n",
      " 1BBL   MPFI   0.7619   0.4627 1.0611  True \n",
      " 2BBL   IDI    0.6604   0.4202 0.9007  True \n",
      " 2BBL   MPFI   0.7799   0.6273 0.9326  True \n",
      " IDI    MPFI   0.1195  -0.1119 0.3509 False \n",
      "--------------------------------------------\n"
     ]
    }
   ],
   "source": [
    "df = pd.DataFrame({'vals': mpfi.tolist() + tbbl.tolist() + idi.tolist() + obbl.tolist(),\n",
    "                   'group_num': ['MPFI'] * mpfi.size + ['2BBL'] * tbbl.size + \n",
    "                   ['IDI'] * idi.size + ['1BBL'] * obbl.size})\n",
    "Tukey_HSD = pairwise_tukeyhsd(df.vals, df.group_num)\n",
    "print(Tukey_HSD)"
   ]
  },
  {
   "cell_type": "code",
   "execution_count": 33,
   "metadata": {},
   "outputs": [
    {
     "data": {
      "image/png": "[encoded data removed]",
      "text/plain": [
       "<matplotlib.figure.Figure at 0x114b3cf28>"
      ]
     },
     "execution_count": 33,
     "metadata": {},
     "output_type": "execute_result"
    },
    {
     "data": {
      "image/png": "[encoded data removed]",
      "text/plain": [
       "<matplotlib.figure.Figure at 0x114b3cf28>"
      ]
     },
     "metadata": {},
     "output_type": "display_data"
    }
   ],
   "source": [
    "Tukey_HSD.plot_simultaneous()"
   ]
  },
  {
   "cell_type": "markdown",
   "metadata": {},
   "source": [
    "Looking at this grouping there are a few conclusions we can come to.  Overall, we are unable to reject the null hypothesis that all of the fuel-systems are priced the same (rather, the log of the prices).  The log of the values are going to have some significant value differences.  On the other hand, using the Tukey HSD, we can see there there are a few groups that are similarly prices:  1BBL and 2BBL, and IDI and MPFI.  I excluded any fuel type that had less than ten observations."
   ]
  },
  {
   "cell_type": "code",
   "execution_count": null,
   "metadata": {},
   "outputs": [],
   "source": []
  }
 ],
 "metadata": {
  "kernelspec": {
   "display_name": "Python 3",
   "language": "python",
   "name": "python3"
  },
  "language_info": {
   "codemirror_mode": {
    "name": "ipython",
    "version": 3
   },
   "file_extension": ".py",
   "mimetype": "text/x-python",
   "name": "python",
   "nbconvert_exporter": "python",
   "pygments_lexer": "ipython3",
   "version": "3.6.4"
  }
 },
 "nbformat": 4,
 "nbformat_minor": 2
}
